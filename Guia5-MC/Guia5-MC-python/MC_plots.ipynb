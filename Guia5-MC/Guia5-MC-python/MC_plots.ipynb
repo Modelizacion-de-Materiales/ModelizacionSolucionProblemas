{
 "cells": [
  {
   "cell_type": "code",
   "execution_count": 1,
   "id": "6158254e",
   "metadata": {},
   "outputs": [],
   "source": [
    "import matplotlib.pylab as plt\n",
    "import pickle\n",
    "import numpy as np\n",
    "import os"
   ]
  },
  {
   "cell_type": "code",
   "execution_count": 2,
   "id": "c5b37bc8",
   "metadata": {},
   "outputs": [],
   "source": [
    "plt.style.use('default')\n",
    "plt.rc('figure', figsize = (15,8))\n",
    "plt.rc('axes', labelsize=24)\n",
    "plt.rc('xtick', labelsize=20)\n",
    "plt.rc('ytick', labelsize=20)"
   ]
  },
  {
   "cell_type": "code",
   "execution_count": 6,
   "id": "e2d3c9a8",
   "metadata": {},
   "outputs": [],
   "source": [
    "import pandas as pd"
   ]
  },
  {
   "cell_type": "code",
   "execution_count": 11,
   "id": "4416995b",
   "metadata": {},
   "outputs": [],
   "source": [
    "result = pd.read_csv('output2x2-100000mcs.dat', header=0, sep='\\s+')"
   ]
  },
  {
   "cell_type": "code",
   "execution_count": 12,
   "id": "d2b512dc",
   "metadata": {},
   "outputs": [
    {
     "data": {
      "text/html": [
       "<div>\n",
       "<style scoped>\n",
       "    .dataframe tbody tr th:only-of-type {\n",
       "        vertical-align: middle;\n",
       "    }\n",
       "\n",
       "    .dataframe tbody tr th {\n",
       "        vertical-align: top;\n",
       "    }\n",
       "\n",
       "    .dataframe thead th {\n",
       "        text-align: right;\n",
       "    }\n",
       "</style>\n",
       "<table border=\"1\" class=\"dataframe\">\n",
       "  <thead>\n",
       "    <tr style=\"text-align: right;\">\n",
       "      <th></th>\n",
       "      <th>T</th>\n",
       "      <th>EMEAN</th>\n",
       "      <th>E2MEAN</th>\n",
       "      <th>CV</th>\n",
       "      <th>MMEAN</th>\n",
       "      <th>Mmean</th>\n",
       "      <th>|M|mean</th>\n",
       "      <th>siflips</th>\n",
       "      <th>noflips</th>\n",
       "    </tr>\n",
       "  </thead>\n",
       "  <tbody>\n",
       "    <tr>\n",
       "      <th>0</th>\n",
       "      <td>5.00000</td>\n",
       "      <td>74863.000</td>\n",
       "      <td>7.484100e+09</td>\n",
       "      <td>751.820000</td>\n",
       "      <td>0.04342</td>\n",
       "      <td>2.4959</td>\n",
       "      <td>37628</td>\n",
       "      <td>62372</td>\n",
       "      <td>NaN</td>\n",
       "    </tr>\n",
       "    <tr>\n",
       "      <th>1</th>\n",
       "      <td>4.91500</td>\n",
       "      <td>73676.000</td>\n",
       "      <td>7.232600e+09</td>\n",
       "      <td>746.960000</td>\n",
       "      <td>0.01294</td>\n",
       "      <td>2.5197</td>\n",
       "      <td>36801</td>\n",
       "      <td>63199</td>\n",
       "      <td>NaN</td>\n",
       "    </tr>\n",
       "    <tr>\n",
       "      <th>2</th>\n",
       "      <td>4.82990</td>\n",
       "      <td>71676.000</td>\n",
       "      <td>6.870200e+09</td>\n",
       "      <td>742.750000</td>\n",
       "      <td>0.07018</td>\n",
       "      <td>2.5400</td>\n",
       "      <td>35932</td>\n",
       "      <td>64068</td>\n",
       "      <td>NaN</td>\n",
       "    </tr>\n",
       "    <tr>\n",
       "      <th>3</th>\n",
       "      <td>4.74490</td>\n",
       "      <td>70858.000</td>\n",
       "      <td>6.684300e+09</td>\n",
       "      <td>738.870000</td>\n",
       "      <td>0.05102</td>\n",
       "      <td>2.5490</td>\n",
       "      <td>35235</td>\n",
       "      <td>64765</td>\n",
       "      <td>NaN</td>\n",
       "    </tr>\n",
       "    <tr>\n",
       "      <th>4</th>\n",
       "      <td>4.65990</td>\n",
       "      <td>69278.000</td>\n",
       "      <td>6.373200e+09</td>\n",
       "      <td>724.780000</td>\n",
       "      <td>0.02446</td>\n",
       "      <td>2.5826</td>\n",
       "      <td>34489</td>\n",
       "      <td>65511</td>\n",
       "      <td>NaN</td>\n",
       "    </tr>\n",
       "    <tr>\n",
       "      <th>5</th>\n",
       "      <td>4.57480</td>\n",
       "      <td>66907.000</td>\n",
       "      <td>5.955800e+09</td>\n",
       "      <td>706.780000</td>\n",
       "      <td>0.01738</td>\n",
       "      <td>2.6207</td>\n",
       "      <td>33352</td>\n",
       "      <td>66648</td>\n",
       "      <td>NaN</td>\n",
       "    </tr>\n",
       "    <tr>\n",
       "      <th>6</th>\n",
       "      <td>4.48980</td>\n",
       "      <td>65879.000</td>\n",
       "      <td>5.796200e+09</td>\n",
       "      <td>722.370000</td>\n",
       "      <td>-0.02400</td>\n",
       "      <td>2.6180</td>\n",
       "      <td>32916</td>\n",
       "      <td>67084</td>\n",
       "      <td>NaN</td>\n",
       "    </tr>\n",
       "    <tr>\n",
       "      <th>7</th>\n",
       "      <td>4.40480</td>\n",
       "      <td>63837.000</td>\n",
       "      <td>5.447100e+09</td>\n",
       "      <td>707.100000</td>\n",
       "      <td>-0.01076</td>\n",
       "      <td>2.6447</td>\n",
       "      <td>31920</td>\n",
       "      <td>68080</td>\n",
       "      <td>NaN</td>\n",
       "    </tr>\n",
       "    <tr>\n",
       "      <th>8</th>\n",
       "      <td>4.31970</td>\n",
       "      <td>62092.000</td>\n",
       "      <td>5.137300e+09</td>\n",
       "      <td>686.970000</td>\n",
       "      <td>-0.11204</td>\n",
       "      <td>2.6713</td>\n",
       "      <td>31063</td>\n",
       "      <td>68937</td>\n",
       "      <td>NaN</td>\n",
       "    </tr>\n",
       "    <tr>\n",
       "      <th>9</th>\n",
       "      <td>4.23470</td>\n",
       "      <td>60395.000</td>\n",
       "      <td>4.842000e+09</td>\n",
       "      <td>666.100000</td>\n",
       "      <td>0.03182</td>\n",
       "      <td>2.7168</td>\n",
       "      <td>30091</td>\n",
       "      <td>69909</td>\n",
       "      <td>NaN</td>\n",
       "    </tr>\n",
       "    <tr>\n",
       "      <th>10</th>\n",
       "      <td>4.14970</td>\n",
       "      <td>58923.000</td>\n",
       "      <td>4.635400e+09</td>\n",
       "      <td>675.670000</td>\n",
       "      <td>-0.04378</td>\n",
       "      <td>2.7161</td>\n",
       "      <td>29588</td>\n",
       "      <td>70412</td>\n",
       "      <td>NaN</td>\n",
       "    </tr>\n",
       "    <tr>\n",
       "      <th>11</th>\n",
       "      <td>4.06460</td>\n",
       "      <td>56828.000</td>\n",
       "      <td>4.298700e+09</td>\n",
       "      <td>647.210000</td>\n",
       "      <td>0.01794</td>\n",
       "      <td>2.7603</td>\n",
       "      <td>28364</td>\n",
       "      <td>71636</td>\n",
       "      <td>NaN</td>\n",
       "    </tr>\n",
       "    <tr>\n",
       "      <th>12</th>\n",
       "      <td>3.97960</td>\n",
       "      <td>55659.000</td>\n",
       "      <td>4.126200e+09</td>\n",
       "      <td>649.330000</td>\n",
       "      <td>0.01250</td>\n",
       "      <td>2.7709</td>\n",
       "      <td>27779</td>\n",
       "      <td>72221</td>\n",
       "      <td>NaN</td>\n",
       "    </tr>\n",
       "    <tr>\n",
       "      <th>13</th>\n",
       "      <td>3.89460</td>\n",
       "      <td>53659.000</td>\n",
       "      <td>3.831200e+09</td>\n",
       "      <td>627.530000</td>\n",
       "      <td>0.05626</td>\n",
       "      <td>2.8005</td>\n",
       "      <td>26737</td>\n",
       "      <td>73263</td>\n",
       "      <td>NaN</td>\n",
       "    </tr>\n",
       "    <tr>\n",
       "      <th>14</th>\n",
       "      <td>3.80950</td>\n",
       "      <td>51145.000</td>\n",
       "      <td>3.471100e+09</td>\n",
       "      <td>589.370000</td>\n",
       "      <td>-0.00174</td>\n",
       "      <td>2.8472</td>\n",
       "      <td>25406</td>\n",
       "      <td>74594</td>\n",
       "      <td>NaN</td>\n",
       "    </tr>\n",
       "    <tr>\n",
       "      <th>15</th>\n",
       "      <td>3.72450</td>\n",
       "      <td>48959.000</td>\n",
       "      <td>3.206500e+09</td>\n",
       "      <td>583.570000</td>\n",
       "      <td>0.05706</td>\n",
       "      <td>2.8920</td>\n",
       "      <td>24526</td>\n",
       "      <td>75474</td>\n",
       "      <td>NaN</td>\n",
       "    </tr>\n",
       "    <tr>\n",
       "      <th>16</th>\n",
       "      <td>3.63950</td>\n",
       "      <td>47368.000</td>\n",
       "      <td>2.983700e+09</td>\n",
       "      <td>558.690000</td>\n",
       "      <td>-0.03816</td>\n",
       "      <td>2.9059</td>\n",
       "      <td>23597</td>\n",
       "      <td>76403</td>\n",
       "      <td>NaN</td>\n",
       "    </tr>\n",
       "    <tr>\n",
       "      <th>17</th>\n",
       "      <td>3.55440</td>\n",
       "      <td>45275.000</td>\n",
       "      <td>2.736000e+09</td>\n",
       "      <td>543.150000</td>\n",
       "      <td>0.07384</td>\n",
       "      <td>2.9482</td>\n",
       "      <td>22647</td>\n",
       "      <td>77353</td>\n",
       "      <td>NaN</td>\n",
       "    </tr>\n",
       "    <tr>\n",
       "      <th>18</th>\n",
       "      <td>3.46940</td>\n",
       "      <td>43203.000</td>\n",
       "      <td>2.489700e+09</td>\n",
       "      <td>517.800000</td>\n",
       "      <td>0.07538</td>\n",
       "      <td>2.9731</td>\n",
       "      <td>21674</td>\n",
       "      <td>78326</td>\n",
       "      <td>NaN</td>\n",
       "    </tr>\n",
       "    <tr>\n",
       "      <th>19</th>\n",
       "      <td>3.38440</td>\n",
       "      <td>40468.000</td>\n",
       "      <td>2.194700e+09</td>\n",
       "      <td>486.360000</td>\n",
       "      <td>-0.07598</td>\n",
       "      <td>3.0325</td>\n",
       "      <td>20292</td>\n",
       "      <td>79708</td>\n",
       "      <td>NaN</td>\n",
       "    </tr>\n",
       "    <tr>\n",
       "      <th>20</th>\n",
       "      <td>3.29930</td>\n",
       "      <td>38486.000</td>\n",
       "      <td>1.977200e+09</td>\n",
       "      <td>455.740000</td>\n",
       "      <td>0.13782</td>\n",
       "      <td>3.0501</td>\n",
       "      <td>19274</td>\n",
       "      <td>80726</td>\n",
       "      <td>NaN</td>\n",
       "    </tr>\n",
       "    <tr>\n",
       "      <th>21</th>\n",
       "      <td>3.21430</td>\n",
       "      <td>35918.000</td>\n",
       "      <td>1.730700e+09</td>\n",
       "      <td>426.390000</td>\n",
       "      <td>-0.02952</td>\n",
       "      <td>3.1120</td>\n",
       "      <td>18080</td>\n",
       "      <td>81920</td>\n",
       "      <td>NaN</td>\n",
       "    </tr>\n",
       "    <tr>\n",
       "      <th>22</th>\n",
       "      <td>3.12930</td>\n",
       "      <td>34107.000</td>\n",
       "      <td>1.550400e+09</td>\n",
       "      <td>395.270000</td>\n",
       "      <td>0.04822</td>\n",
       "      <td>3.1545</td>\n",
       "      <td>17060</td>\n",
       "      <td>82940</td>\n",
       "      <td>NaN</td>\n",
       "    </tr>\n",
       "    <tr>\n",
       "      <th>23</th>\n",
       "      <td>3.04420</td>\n",
       "      <td>31898.000</td>\n",
       "      <td>1.358000e+09</td>\n",
       "      <td>367.470000</td>\n",
       "      <td>-0.11900</td>\n",
       "      <td>3.2018</td>\n",
       "      <td>16050</td>\n",
       "      <td>83950</td>\n",
       "      <td>NaN</td>\n",
       "    </tr>\n",
       "    <tr>\n",
       "      <th>24</th>\n",
       "      <td>2.95920</td>\n",
       "      <td>30415.000</td>\n",
       "      <td>1.232900e+09</td>\n",
       "      <td>351.530000</td>\n",
       "      <td>0.08666</td>\n",
       "      <td>3.2351</td>\n",
       "      <td>15206</td>\n",
       "      <td>84794</td>\n",
       "      <td>NaN</td>\n",
       "    </tr>\n",
       "    <tr>\n",
       "      <th>25</th>\n",
       "      <td>2.87410</td>\n",
       "      <td>27836.000</td>\n",
       "      <td>1.029400e+09</td>\n",
       "      <td>308.170000</td>\n",
       "      <td>0.12720</td>\n",
       "      <td>3.2786</td>\n",
       "      <td>13850</td>\n",
       "      <td>86150</td>\n",
       "      <td>NaN</td>\n",
       "    </tr>\n",
       "    <tr>\n",
       "      <th>26</th>\n",
       "      <td>2.78910</td>\n",
       "      <td>25293.000</td>\n",
       "      <td>8.596800e+08</td>\n",
       "      <td>282.760000</td>\n",
       "      <td>0.13972</td>\n",
       "      <td>3.3251</td>\n",
       "      <td>12766</td>\n",
       "      <td>87234</td>\n",
       "      <td>NaN</td>\n",
       "    </tr>\n",
       "    <tr>\n",
       "      <th>27</th>\n",
       "      <td>2.70410</td>\n",
       "      <td>23481.000</td>\n",
       "      <td>7.344200e+08</td>\n",
       "      <td>250.350000</td>\n",
       "      <td>-0.19286</td>\n",
       "      <td>3.3394</td>\n",
       "      <td>11724</td>\n",
       "      <td>88276</td>\n",
       "      <td>NaN</td>\n",
       "    </tr>\n",
       "    <tr>\n",
       "      <th>28</th>\n",
       "      <td>2.61900</td>\n",
       "      <td>21667.000</td>\n",
       "      <td>6.289500e+08</td>\n",
       "      <td>232.500000</td>\n",
       "      <td>0.01022</td>\n",
       "      <td>3.4128</td>\n",
       "      <td>10932</td>\n",
       "      <td>89068</td>\n",
       "      <td>NaN</td>\n",
       "    </tr>\n",
       "    <tr>\n",
       "      <th>29</th>\n",
       "      <td>2.53400</td>\n",
       "      <td>19718.000</td>\n",
       "      <td>5.156700e+08</td>\n",
       "      <td>197.570000</td>\n",
       "      <td>0.11048</td>\n",
       "      <td>3.4673</td>\n",
       "      <td>9802</td>\n",
       "      <td>90198</td>\n",
       "      <td>NaN</td>\n",
       "    </tr>\n",
       "    <tr>\n",
       "      <th>30</th>\n",
       "      <td>2.44900</td>\n",
       "      <td>17750.000</td>\n",
       "      <td>4.189200e+08</td>\n",
       "      <td>173.200000</td>\n",
       "      <td>-0.41178</td>\n",
       "      <td>3.4951</td>\n",
       "      <td>8822</td>\n",
       "      <td>91178</td>\n",
       "      <td>NaN</td>\n",
       "    </tr>\n",
       "    <tr>\n",
       "      <th>31</th>\n",
       "      <td>2.36390</td>\n",
       "      <td>15601.000</td>\n",
       "      <td>3.237000e+08</td>\n",
       "      <td>143.730000</td>\n",
       "      <td>0.08426</td>\n",
       "      <td>3.5789</td>\n",
       "      <td>7701</td>\n",
       "      <td>92299</td>\n",
       "      <td>NaN</td>\n",
       "    </tr>\n",
       "    <tr>\n",
       "      <th>32</th>\n",
       "      <td>2.27890</td>\n",
       "      <td>14261.000</td>\n",
       "      <td>2.710900e+08</td>\n",
       "      <td>130.390000</td>\n",
       "      <td>-0.30336</td>\n",
       "      <td>3.5856</td>\n",
       "      <td>7160</td>\n",
       "      <td>92840</td>\n",
       "      <td>NaN</td>\n",
       "    </tr>\n",
       "    <tr>\n",
       "      <th>33</th>\n",
       "      <td>2.19390</td>\n",
       "      <td>12204.000</td>\n",
       "      <td>2.006400e+08</td>\n",
       "      <td>107.450000</td>\n",
       "      <td>-0.38492</td>\n",
       "      <td>3.6308</td>\n",
       "      <td>6185</td>\n",
       "      <td>93815</td>\n",
       "      <td>NaN</td>\n",
       "    </tr>\n",
       "    <tr>\n",
       "      <th>34</th>\n",
       "      <td>2.10880</td>\n",
       "      <td>10208.000</td>\n",
       "      <td>1.385500e+08</td>\n",
       "      <td>77.233000</td>\n",
       "      <td>-0.13082</td>\n",
       "      <td>3.6780</td>\n",
       "      <td>5084</td>\n",
       "      <td>94916</td>\n",
       "      <td>NaN</td>\n",
       "    </tr>\n",
       "    <tr>\n",
       "      <th>35</th>\n",
       "      <td>2.02380</td>\n",
       "      <td>9171.800</td>\n",
       "      <td>1.107600e+08</td>\n",
       "      <td>65.043000</td>\n",
       "      <td>-0.15386</td>\n",
       "      <td>3.7148</td>\n",
       "      <td>4550</td>\n",
       "      <td>95450</td>\n",
       "      <td>NaN</td>\n",
       "    </tr>\n",
       "    <tr>\n",
       "      <th>36</th>\n",
       "      <td>1.93880</td>\n",
       "      <td>7466.400</td>\n",
       "      <td>7.425200e+07</td>\n",
       "      <td>49.231000</td>\n",
       "      <td>-0.94508</td>\n",
       "      <td>3.7550</td>\n",
       "      <td>3720</td>\n",
       "      <td>96280</td>\n",
       "      <td>NaN</td>\n",
       "    </tr>\n",
       "    <tr>\n",
       "      <th>37</th>\n",
       "      <td>1.85370</td>\n",
       "      <td>5896.900</td>\n",
       "      <td>4.681400e+07</td>\n",
       "      <td>35.038000</td>\n",
       "      <td>-0.08914</td>\n",
       "      <td>3.8007</td>\n",
       "      <td>3000</td>\n",
       "      <td>97000</td>\n",
       "      <td>NaN</td>\n",
       "    </tr>\n",
       "    <tr>\n",
       "      <th>38</th>\n",
       "      <td>1.76870</td>\n",
       "      <td>5072.500</td>\n",
       "      <td>3.451900e+07</td>\n",
       "      <td>28.096000</td>\n",
       "      <td>0.27754</td>\n",
       "      <td>3.8221</td>\n",
       "      <td>2558</td>\n",
       "      <td>97442</td>\n",
       "      <td>NaN</td>\n",
       "    </tr>\n",
       "    <tr>\n",
       "      <th>39</th>\n",
       "      <td>1.68370</td>\n",
       "      <td>4249.900</td>\n",
       "      <td>2.415000e+07</td>\n",
       "      <td>21.477000</td>\n",
       "      <td>-0.88500</td>\n",
       "      <td>3.8486</td>\n",
       "      <td>2116</td>\n",
       "      <td>97884</td>\n",
       "      <td>NaN</td>\n",
       "    </tr>\n",
       "    <tr>\n",
       "      <th>40</th>\n",
       "      <td>1.59860</td>\n",
       "      <td>2920.500</td>\n",
       "      <td>1.156100e+07</td>\n",
       "      <td>11.862000</td>\n",
       "      <td>-0.29008</td>\n",
       "      <td>3.9025</td>\n",
       "      <td>1486</td>\n",
       "      <td>98514</td>\n",
       "      <td>NaN</td>\n",
       "    </tr>\n",
       "    <tr>\n",
       "      <th>41</th>\n",
       "      <td>1.51360</td>\n",
       "      <td>2214.700</td>\n",
       "      <td>6.528700e+06</td>\n",
       "      <td>7.087000</td>\n",
       "      <td>0.04296</td>\n",
       "      <td>3.9277</td>\n",
       "      <td>1100</td>\n",
       "      <td>98900</td>\n",
       "      <td>NaN</td>\n",
       "    </tr>\n",
       "    <tr>\n",
       "      <th>42</th>\n",
       "      <td>1.42860</td>\n",
       "      <td>1604.700</td>\n",
       "      <td>3.476000e+06</td>\n",
       "      <td>4.414900</td>\n",
       "      <td>-0.82498</td>\n",
       "      <td>3.9463</td>\n",
       "      <td>804</td>\n",
       "      <td>99196</td>\n",
       "      <td>NaN</td>\n",
       "    </tr>\n",
       "    <tr>\n",
       "      <th>43</th>\n",
       "      <td>1.34350</td>\n",
       "      <td>969.010</td>\n",
       "      <td>1.252600e+06</td>\n",
       "      <td>1.737400</td>\n",
       "      <td>-1.38460</td>\n",
       "      <td>3.9678</td>\n",
       "      <td>486</td>\n",
       "      <td>99514</td>\n",
       "      <td>NaN</td>\n",
       "    </tr>\n",
       "    <tr>\n",
       "      <th>44</th>\n",
       "      <td>1.25850</td>\n",
       "      <td>731.080</td>\n",
       "      <td>7.220000e+05</td>\n",
       "      <td>1.183900</td>\n",
       "      <td>1.71200</td>\n",
       "      <td>3.9749</td>\n",
       "      <td>382</td>\n",
       "      <td>99618</td>\n",
       "      <td>NaN</td>\n",
       "    </tr>\n",
       "    <tr>\n",
       "      <th>45</th>\n",
       "      <td>1.17350</td>\n",
       "      <td>537.120</td>\n",
       "      <td>3.647100e+05</td>\n",
       "      <td>0.553420</td>\n",
       "      <td>-2.59540</td>\n",
       "      <td>3.9823</td>\n",
       "      <td>262</td>\n",
       "      <td>99738</td>\n",
       "      <td>NaN</td>\n",
       "    </tr>\n",
       "    <tr>\n",
       "      <th>46</th>\n",
       "      <td>1.08840</td>\n",
       "      <td>153.770</td>\n",
       "      <td>3.257300e+04</td>\n",
       "      <td>0.075364</td>\n",
       "      <td>-3.99770</td>\n",
       "      <td>3.9976</td>\n",
       "      <td>80</td>\n",
       "      <td>99920</td>\n",
       "      <td>NaN</td>\n",
       "    </tr>\n",
       "    <tr>\n",
       "      <th>47</th>\n",
       "      <td>1.00340</td>\n",
       "      <td>143.560</td>\n",
       "      <td>2.800400e+04</td>\n",
       "      <td>0.073461</td>\n",
       "      <td>3.69230</td>\n",
       "      <td>3.9963</td>\n",
       "      <td>74</td>\n",
       "      <td>99926</td>\n",
       "      <td>NaN</td>\n",
       "    </tr>\n",
       "    <tr>\n",
       "      <th>48</th>\n",
       "      <td>0.91837</td>\n",
       "      <td>54.000</td>\n",
       "      <td>3.907000e+03</td>\n",
       "      <td>0.011750</td>\n",
       "      <td>3.99860</td>\n",
       "      <td>3.9986</td>\n",
       "      <td>30</td>\n",
       "      <td>99970</td>\n",
       "      <td>NaN</td>\n",
       "    </tr>\n",
       "    <tr>\n",
       "      <th>49</th>\n",
       "      <td>0.83333</td>\n",
       "      <td>21.612</td>\n",
       "      <td>8.603900e+02</td>\n",
       "      <td>0.005664</td>\n",
       "      <td>3.99970</td>\n",
       "      <td>3.9997</td>\n",
       "      <td>14</td>\n",
       "      <td>99986</td>\n",
       "      <td>NaN</td>\n",
       "    </tr>\n",
       "  </tbody>\n",
       "</table>\n",
       "</div>"
      ],
      "text/plain": [
       "          T      EMEAN        E2MEAN          CV    MMEAN   Mmean  |M|mean  \\\n",
       "0   5.00000  74863.000  7.484100e+09  751.820000  0.04342  2.4959    37628   \n",
       "1   4.91500  73676.000  7.232600e+09  746.960000  0.01294  2.5197    36801   \n",
       "2   4.82990  71676.000  6.870200e+09  742.750000  0.07018  2.5400    35932   \n",
       "3   4.74490  70858.000  6.684300e+09  738.870000  0.05102  2.5490    35235   \n",
       "4   4.65990  69278.000  6.373200e+09  724.780000  0.02446  2.5826    34489   \n",
       "5   4.57480  66907.000  5.955800e+09  706.780000  0.01738  2.6207    33352   \n",
       "6   4.48980  65879.000  5.796200e+09  722.370000 -0.02400  2.6180    32916   \n",
       "7   4.40480  63837.000  5.447100e+09  707.100000 -0.01076  2.6447    31920   \n",
       "8   4.31970  62092.000  5.137300e+09  686.970000 -0.11204  2.6713    31063   \n",
       "9   4.23470  60395.000  4.842000e+09  666.100000  0.03182  2.7168    30091   \n",
       "10  4.14970  58923.000  4.635400e+09  675.670000 -0.04378  2.7161    29588   \n",
       "11  4.06460  56828.000  4.298700e+09  647.210000  0.01794  2.7603    28364   \n",
       "12  3.97960  55659.000  4.126200e+09  649.330000  0.01250  2.7709    27779   \n",
       "13  3.89460  53659.000  3.831200e+09  627.530000  0.05626  2.8005    26737   \n",
       "14  3.80950  51145.000  3.471100e+09  589.370000 -0.00174  2.8472    25406   \n",
       "15  3.72450  48959.000  3.206500e+09  583.570000  0.05706  2.8920    24526   \n",
       "16  3.63950  47368.000  2.983700e+09  558.690000 -0.03816  2.9059    23597   \n",
       "17  3.55440  45275.000  2.736000e+09  543.150000  0.07384  2.9482    22647   \n",
       "18  3.46940  43203.000  2.489700e+09  517.800000  0.07538  2.9731    21674   \n",
       "19  3.38440  40468.000  2.194700e+09  486.360000 -0.07598  3.0325    20292   \n",
       "20  3.29930  38486.000  1.977200e+09  455.740000  0.13782  3.0501    19274   \n",
       "21  3.21430  35918.000  1.730700e+09  426.390000 -0.02952  3.1120    18080   \n",
       "22  3.12930  34107.000  1.550400e+09  395.270000  0.04822  3.1545    17060   \n",
       "23  3.04420  31898.000  1.358000e+09  367.470000 -0.11900  3.2018    16050   \n",
       "24  2.95920  30415.000  1.232900e+09  351.530000  0.08666  3.2351    15206   \n",
       "25  2.87410  27836.000  1.029400e+09  308.170000  0.12720  3.2786    13850   \n",
       "26  2.78910  25293.000  8.596800e+08  282.760000  0.13972  3.3251    12766   \n",
       "27  2.70410  23481.000  7.344200e+08  250.350000 -0.19286  3.3394    11724   \n",
       "28  2.61900  21667.000  6.289500e+08  232.500000  0.01022  3.4128    10932   \n",
       "29  2.53400  19718.000  5.156700e+08  197.570000  0.11048  3.4673     9802   \n",
       "30  2.44900  17750.000  4.189200e+08  173.200000 -0.41178  3.4951     8822   \n",
       "31  2.36390  15601.000  3.237000e+08  143.730000  0.08426  3.5789     7701   \n",
       "32  2.27890  14261.000  2.710900e+08  130.390000 -0.30336  3.5856     7160   \n",
       "33  2.19390  12204.000  2.006400e+08  107.450000 -0.38492  3.6308     6185   \n",
       "34  2.10880  10208.000  1.385500e+08   77.233000 -0.13082  3.6780     5084   \n",
       "35  2.02380   9171.800  1.107600e+08   65.043000 -0.15386  3.7148     4550   \n",
       "36  1.93880   7466.400  7.425200e+07   49.231000 -0.94508  3.7550     3720   \n",
       "37  1.85370   5896.900  4.681400e+07   35.038000 -0.08914  3.8007     3000   \n",
       "38  1.76870   5072.500  3.451900e+07   28.096000  0.27754  3.8221     2558   \n",
       "39  1.68370   4249.900  2.415000e+07   21.477000 -0.88500  3.8486     2116   \n",
       "40  1.59860   2920.500  1.156100e+07   11.862000 -0.29008  3.9025     1486   \n",
       "41  1.51360   2214.700  6.528700e+06    7.087000  0.04296  3.9277     1100   \n",
       "42  1.42860   1604.700  3.476000e+06    4.414900 -0.82498  3.9463      804   \n",
       "43  1.34350    969.010  1.252600e+06    1.737400 -1.38460  3.9678      486   \n",
       "44  1.25850    731.080  7.220000e+05    1.183900  1.71200  3.9749      382   \n",
       "45  1.17350    537.120  3.647100e+05    0.553420 -2.59540  3.9823      262   \n",
       "46  1.08840    153.770  3.257300e+04    0.075364 -3.99770  3.9976       80   \n",
       "47  1.00340    143.560  2.800400e+04    0.073461  3.69230  3.9963       74   \n",
       "48  0.91837     54.000  3.907000e+03    0.011750  3.99860  3.9986       30   \n",
       "49  0.83333     21.612  8.603900e+02    0.005664  3.99970  3.9997       14   \n",
       "\n",
       "    siflips  noflips  \n",
       "0     62372      NaN  \n",
       "1     63199      NaN  \n",
       "2     64068      NaN  \n",
       "3     64765      NaN  \n",
       "4     65511      NaN  \n",
       "5     66648      NaN  \n",
       "6     67084      NaN  \n",
       "7     68080      NaN  \n",
       "8     68937      NaN  \n",
       "9     69909      NaN  \n",
       "10    70412      NaN  \n",
       "11    71636      NaN  \n",
       "12    72221      NaN  \n",
       "13    73263      NaN  \n",
       "14    74594      NaN  \n",
       "15    75474      NaN  \n",
       "16    76403      NaN  \n",
       "17    77353      NaN  \n",
       "18    78326      NaN  \n",
       "19    79708      NaN  \n",
       "20    80726      NaN  \n",
       "21    81920      NaN  \n",
       "22    82940      NaN  \n",
       "23    83950      NaN  \n",
       "24    84794      NaN  \n",
       "25    86150      NaN  \n",
       "26    87234      NaN  \n",
       "27    88276      NaN  \n",
       "28    89068      NaN  \n",
       "29    90198      NaN  \n",
       "30    91178      NaN  \n",
       "31    92299      NaN  \n",
       "32    92840      NaN  \n",
       "33    93815      NaN  \n",
       "34    94916      NaN  \n",
       "35    95450      NaN  \n",
       "36    96280      NaN  \n",
       "37    97000      NaN  \n",
       "38    97442      NaN  \n",
       "39    97884      NaN  \n",
       "40    98514      NaN  \n",
       "41    98900      NaN  \n",
       "42    99196      NaN  \n",
       "43    99514      NaN  \n",
       "44    99618      NaN  \n",
       "45    99738      NaN  \n",
       "46    99920      NaN  \n",
       "47    99926      NaN  \n",
       "48    99970      NaN  \n",
       "49    99986      NaN  "
      ]
     },
     "execution_count": 12,
     "metadata": {},
     "output_type": "execute_result"
    }
   ],
   "source": [
    "result"
   ]
  },
  {
   "cell_type": "code",
   "execution_count": 50,
   "id": "8419426f",
   "metadata": {},
   "outputs": [],
   "source": [
    "input_pickle = '10x10_100000-steps.pkl'\n",
    "if os.path.exists(input_pickle):# and os.path.getmtime('ising.py') < os.path.getmtime(input_pickle):\n",
    "    pass\n",
    "else:\n",
    "    os.popen('python ising.py')\n",
    "with open(input_pickle, 'rb') as f:\n",
    "    KT     = pickle.load( f)\n",
    "    changes= pickle.load( f)\n",
    "    S      = pickle.load( f)\n",
    "    Mhist  = pickle.load( f)\n",
    "    Ehist  = pickle.load( f)\n",
    "    VARhist= pickle.load( f)\n",
    "    acumM  = pickle.load( f)\n",
    "    acumE  = pickle.load( f)\n",
    "    acumE2 = pickle.load( f)\n",
    "    acumVAR= pickle.load( f)"
   ]
  },
  {
   "cell_type": "code",
   "execution_count": 51,
   "id": "a40dee9c",
   "metadata": {},
   "outputs": [
    {
     "data": {
      "text/plain": [
       "(20, 10, 10)"
      ]
     },
     "execution_count": 51,
     "metadata": {},
     "output_type": "execute_result"
    }
   ],
   "source": [
    "S.shape"
   ]
  },
  {
   "cell_type": "code",
   "execution_count": 52,
   "id": "914367e2",
   "metadata": {},
   "outputs": [
    {
     "data": {
      "text/plain": [
       "(100000, 2, 20)"
      ]
     },
     "execution_count": 52,
     "metadata": {},
     "output_type": "execute_result"
    }
   ],
   "source": [
    "changes.shape"
   ]
  },
  {
   "cell_type": "code",
   "execution_count": 53,
   "id": "68bdbfc8",
   "metadata": {},
   "outputs": [],
   "source": [
    "Norm = changes.shape[0]*S.shape[1]*S.shape[2]"
   ]
  },
  {
   "cell_type": "code",
   "execution_count": 54,
   "id": "b2193b65",
   "metadata": {},
   "outputs": [
    {
     "data": {
      "text/plain": [
       "10000000"
      ]
     },
     "execution_count": 54,
     "metadata": {},
     "output_type": "execute_result"
    }
   ],
   "source": [
    "Norm"
   ]
  },
  {
   "cell_type": "markdown",
   "id": "a5c9c6f3",
   "metadata": {},
   "source": [
    "# Dinámica"
   ]
  },
  {
   "cell_type": "code",
   "execution_count": 55,
   "id": "4f963f84",
   "metadata": {},
   "outputs": [
    {
     "data": {
      "text/plain": [
       "(20, 20001)"
      ]
     },
     "execution_count": 55,
     "metadata": {},
     "output_type": "execute_result"
    }
   ],
   "source": [
    "Mhist.shape"
   ]
  },
  {
   "cell_type": "code",
   "execution_count": 56,
   "id": "ea860a17",
   "metadata": {},
   "outputs": [
    {
     "data": {
      "text/plain": [
       "(100000, 2, 20)"
      ]
     },
     "execution_count": 56,
     "metadata": {},
     "output_type": "execute_result"
    }
   ],
   "source": [
    "changes.shape"
   ]
  },
  {
   "cell_type": "code",
   "execution_count": 57,
   "id": "3dd7ae17",
   "metadata": {},
   "outputs": [
    {
     "data": {
      "text/plain": [
       "Text(0, 0.5, '$M $')"
      ]
     },
     "execution_count": 57,
     "metadata": {},
     "output_type": "execute_result"
    },
    {
     "data": {
      "image/png": "[encoded data removed]",
      "text/plain": [
       "<Figure size 1500x800 with 1 Axes>"
      ]
     },
     "metadata": {},
     "output_type": "display_data"
    }
   ],
   "source": [
    "#plt.plot(Mhist[0]/Norm)\n",
    "#plt.plot(Mhist[1]/Norm)\n",
    "#plt.plot(Mhist[2]/Norm)\n",
    "#plt.plot(Mhist[3]/Norm)\n",
    "#plt.plot(Mhist[4]/Norm)\n",
    "plt.plot(Mhist[-1]/Norm)\n",
    "plt.plot(Mhist[-2]/Norm)\n",
    "plt.plot(Mhist[-3]/Norm)\n",
    "plt.plot(Mhist[-4]/Norm)\n",
    "plt.xlabel('MC step')\n",
    "plt.ylabel('$M $')"
   ]
  },
  {
   "cell_type": "code",
   "execution_count": 58,
   "id": "248d71be",
   "metadata": {},
   "outputs": [
    {
     "data": {
      "text/plain": [
       "array([4.2       , 3.31009462, 2.81615503, 2.54199519, 2.38982351,\n",
       "       2.30536103, 2.25848035, 2.23245936, 2.21801648, 2.21      ,\n",
       "       2.19      , 2.18198352, 2.16754064, 2.14151965, 2.09463897,\n",
       "       2.01017649, 1.85800481, 1.58384497, 1.08990538, 0.2       ])"
      ]
     },
     "execution_count": 58,
     "metadata": {},
     "output_type": "execute_result"
    }
   ],
   "source": [
    "KT"
   ]
  },
  {
   "cell_type": "code",
   "execution_count": 59,
   "id": "50aba1d6",
   "metadata": {},
   "outputs": [
    {
     "name": "stdout",
     "output_type": "stream",
     "text": [
      "4.2\n",
      "3.310094615569623\n",
      "2.8161550277583345\n",
      "2.5419951893353394\n",
      "2.389823509115937\n",
      "2.3053610276890666\n",
      "2.2584803547642576\n",
      "2.232459363470202\n",
      "2.2180164823065445\n",
      "2.21\n",
      "2.1900000000000004\n",
      "2.181983517693456\n",
      "2.1675406365297984\n",
      "2.141519645235743\n",
      "2.0946389723109338\n",
      "2.010176490884063\n",
      "1.858004810664661\n",
      "1.5838449722416659\n",
      "1.0899053844303774\n",
      "0.20000000000000018\n"
     ]
    }
   ],
   "source": [
    "for i, t in enumerate(KT):\n",
    "    print (t)"
   ]
  },
  {
   "cell_type": "markdown",
   "id": "59fd8eae",
   "metadata": {},
   "source": [
    "# Promedios"
   ]
  },
  {
   "cell_type": "code",
   "execution_count": 60,
   "id": "9b69c87c",
   "metadata": {},
   "outputs": [
    {
     "data": {
      "text/plain": [
       "0.03681449051513"
      ]
     },
     "execution_count": 60,
     "metadata": {},
     "output_type": "execute_result"
    }
   ],
   "source": [
    "((Ehist[10]**2)/Norm**2).sum()"
   ]
  },
  {
   "cell_type": "code",
   "execution_count": 61,
   "id": "e6dd99b8",
   "metadata": {},
   "outputs": [
    {
     "data": {
      "text/plain": [
       "108.89322654954773"
      ]
     },
     "execution_count": 61,
     "metadata": {},
     "output_type": "execute_result"
    }
   ],
   "source": [
    "(Ehist[10].sum()/Norm)**2/KT[10]**2"
   ]
  },
  {
   "cell_type": "code",
   "execution_count": 62,
   "id": "5b991e9b",
   "metadata": {},
   "outputs": [
    {
     "data": {
      "text/plain": [
       "108.88555062733695"
      ]
     },
     "execution_count": 62,
     "metadata": {},
     "output_type": "execute_result"
    }
   ],
   "source": [
    "((Ehist[10].sum()/Norm)**2 - ((Ehist[10]**2)/Norm**2).sum())/KT[10]**2\n"
   ]
  },
  {
   "cell_type": "code",
   "execution_count": 63,
   "id": "7eb04fd4",
   "metadata": {},
   "outputs": [
    {
     "data": {
      "text/plain": [
       "590.1025611423904"
      ]
     },
     "execution_count": 63,
     "metadata": {},
     "output_type": "execute_result"
    }
   ],
   "source": [
    "((Ehist[1].sum()/Norm)**2 - ((Ehist[1]**2)/Norm**2).sum())/KT[1]**2\n"
   ]
  },
  {
   "cell_type": "code",
   "execution_count": 64,
   "id": "d942695f",
   "metadata": {},
   "outputs": [],
   "source": [
    "Mprom = []\n",
    "for i, t in enumerate(KT):\n",
    "    Mprom.append(np.abs(Mhist[i]).sum()/Norm)\n",
    "    "
   ]
  },
  {
   "cell_type": "code",
   "execution_count": 65,
   "id": "fbe41aed",
   "metadata": {},
   "outputs": [
    {
     "data": {
      "text/plain": [
       "Text(0.5, 0, 'KT')"
      ]
     },
     "execution_count": 65,
     "metadata": {},
     "output_type": "execute_result"
    },
    {
     "data": {
      "image/png": "[encoded data removed]",
      "text/plain": [
       "<Figure size 1500x800 with 1 Axes>"
      ]
     },
     "metadata": {},
     "output_type": "display_data"
    }
   ],
   "source": [
    "fig, ax = plt.subplots()\n",
    "ax.plot(KT, acumM/Norm)\n",
    "# ax.plot(KT, Mprom)\n",
    "ax.set_ylabel('<|M|>')\n",
    "ax.set_xlabel('KT')"
   ]
  },
  {
   "cell_type": "code",
   "execution_count": 66,
   "id": "dd176554",
   "metadata": {},
   "outputs": [],
   "source": [
    "_VAR = []\n",
    "for i, t in enumerate(KT):\n",
    "    _VAR.append( ((Ehist[i]**2).sum() - Ehist[i].sum()**2)/Norm**2/t**2)"
   ]
  },
  {
   "cell_type": "code",
   "execution_count": 39,
   "id": "11049c72",
   "metadata": {},
   "outputs": [
    {
     "data": {
      "text/plain": [
       "[<matplotlib.lines.Line2D at 0x7f7690e42bb0>]"
      ]
     },
     "execution_count": 39,
     "metadata": {},
     "output_type": "execute_result"
    },
    {
     "data": {
      "image/png": "[encoded data removed]",
      "text/plain": [
       "<Figure size 1500x800 with 1 Axes>"
      ]
     },
     "metadata": {},
     "output_type": "display_data"
    }
   ],
   "source": [
    "plt.plot(KT,acumVAR/KT/Norm**2,'o')"
   ]
  },
  {
   "cell_type": "code",
   "execution_count": 40,
   "id": "72624be9",
   "metadata": {},
   "outputs": [
    {
     "data": {
      "text/plain": [
       "array([0., 0., 0., 0., 0., 0., 0., 0., 0., 0., 0., 0., 0., 0., 0., 0., 0.,\n",
       "       0., 0., 0.])"
      ]
     },
     "execution_count": 40,
     "metadata": {},
     "output_type": "execute_result"
    }
   ],
   "source": [
    "acumVAR"
   ]
  },
  {
   "cell_type": "markdown",
   "id": "1557641a",
   "metadata": {},
   "source": [
    "# Estados temralizados"
   ]
  },
  {
   "cell_type": "code",
   "execution_count": null,
   "id": "08200541",
   "metadata": {},
   "outputs": [],
   "source": []
  },
  {
   "cell_type": "code",
   "execution_count": 41,
   "id": "add6fe42",
   "metadata": {},
   "outputs": [
    {
     "data": {
      "image/png": "[encoded data removed]",
      "text/plain": [
       "<Figure size 1500x1500 with 20 Axes>"
      ]
     },
     "metadata": {},
     "output_type": "display_data"
    }
   ],
   "source": [
    "fig = plt.figure(figsize=(15,15))\n",
    "for i, s in enumerate(S):\n",
    "    ax = fig.add_subplot(int(S.shape[0]/5)+1, 5, i+1 )\n",
    "    ax.set_yticks([])\n",
    "    ax.set_xticks([])\n",
    "    ax.imshow(s)\n",
    "    ax.set_title('KT = {:.2f}'.format(KT[i]))\n",
    "fig.tight_layout()"
   ]
  },
  {
   "cell_type": "markdown",
   "id": "4e196510",
   "metadata": {},
   "source": [
    "# read a file"
   ]
  },
  {
   "cell_type": "code",
   "execution_count": 4,
   "id": "ccdee3a9",
   "metadata": {},
   "outputs": [],
   "source": [
    "import pandas as pd"
   ]
  },
  {
   "cell_type": "code",
   "execution_count": 5,
   "id": "7e8e5a82",
   "metadata": {},
   "outputs": [
    {
     "name": "stderr",
     "output_type": "stream",
     "text": [
      "/tmp/ipykernel_8776/1261128087.py:1: UserWarning: loadtxt: Empty input file: \"output4x4-1000000mcs.dat\"\n",
      "  np.loadtxt('output4x4-1000000mcs.dat')\n"
     ]
    },
    {
     "data": {
      "text/plain": [
       "array([], dtype=float64)"
      ]
     },
     "execution_count": 5,
     "metadata": {},
     "output_type": "execute_result"
    }
   ],
   "source": [
    "np.loadtxt('output4x4-1000000mcs.dat')"
   ]
  },
  {
   "cell_type": "code",
   "execution_count": null,
   "id": "7793b797",
   "metadata": {},
   "outputs": [],
   "source": []
  }
 ],
 "metadata": {
  "kernelspec": {
   "display_name": "Python 3 (ipykernel)",
   "language": "python",
   "name": "python3"
  },
  "language_info": {
   "codemirror_mode": {
    "name": "ipython",
    "version": 3
   },
   "file_extension": ".py",
   "mimetype": "text/x-python",
   "name": "python",
   "nbconvert_exporter": "python",
   "pygments_lexer": "ipython3",
   "version": "3.9.12"
  }
 },
 "nbformat": 4,
 "nbformat_minor": 5
}
