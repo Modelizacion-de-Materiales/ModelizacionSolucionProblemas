{
 "cells": [
  {
   "cell_type": "code",
   "execution_count": 1,
   "id": "f28b90d3",
   "metadata": {},
   "outputs": [],
   "source": [
    "import matplotlib.pylab as plt\n",
    "import pickle\n",
    "import numpy as np\n",
    "import os"
   ]
  },
  {
   "cell_type": "code",
   "execution_count": 2,
   "id": "d59e079d",
   "metadata": {},
   "outputs": [],
   "source": [
    "import pandas as pd"
   ]
  },
  {
   "cell_type": "code",
   "execution_count": 3,
   "id": "28a2c284",
   "metadata": {},
   "outputs": [],
   "source": [
    "import ising"
   ]
  },
  {
   "cell_type": "code",
   "execution_count": 4,
   "id": "3cee6b2c",
   "metadata": {},
   "outputs": [],
   "source": [
    "plt.style.use('default')\n",
    "plt.rc('figure', figsize = (15,8))\n",
    "plt.rc('axes', labelsize=24)\n",
    "plt.rc('xtick', labelsize=20)\n",
    "plt.rc('ytick', labelsize=20)"
   ]
  },
  {
   "cell_type": "code",
   "execution_count": 5,
   "id": "912c9224",
   "metadata": {},
   "outputs": [],
   "source": [
    "sizes = [ 2, 4, 8, 16]\n",
    "mcsteps =[5e5]"
   ]
  },
  {
   "cell_type": "code",
   "execution_count": null,
   "id": "b2134d6e",
   "metadata": {},
   "outputs": [
    {
     "data": {
      "application/vnd.jupyter.widget-view+json": {
       "model_id": "a7734e3aaa804e4b9dab4ba87d98eb80",
       "version_major": 2,
       "version_minor": 0
      },
      "text/plain": [
       "  0%|          | 0/50 [00:00<?, ?it/s]"
      ]
     },
     "metadata": {},
     "output_type": "display_data"
    },
    {
     "data": {
      "application/vnd.jupyter.widget-view+json": {
       "model_id": "56b95fd380fb437383ca871df6f62ef6",
       "version_major": 2,
       "version_minor": 0
      },
      "text/plain": [
       "  0%|          | 0/50 [00:00<?, ?it/s]"
      ]
     },
     "metadata": {},
     "output_type": "display_data"
    }
   ],
   "source": [
    "ising.main(sizes=sizes, mcsteps=mcsteps, TF = 10)"
   ]
  },
  {
   "cell_type": "code",
   "execution_count": null,
   "id": "98729904",
   "metadata": {},
   "outputs": [],
   "source": [
    "from itertools import product, cycle"
   ]
  },
  {
   "cell_type": "code",
   "execution_count": null,
   "id": "9bf828da",
   "metadata": {},
   "outputs": [],
   "source": [
    "results = {s: {} for s in sizes}\n",
    "for size, resultsize in results.items():\n",
    "    resultsize.update({nsteps: {} for nsteps in mcsteps})\n",
    "for size, steps in product(sizes, mcsteps):\n",
    "    results[size][steps] = pd.read_csv(f'results_{size}x{size}_{steps}.dat', header=0)"
   ]
  },
  {
   "cell_type": "code",
   "execution_count": null,
   "id": "4e6b11a9",
   "metadata": {},
   "outputs": [],
   "source": [
    "markersymbols = ['o','s','d','^', 'P', 'X', 'h', '*']\n",
    "linecolors = ['blue', 'red', 'orange', 'steelblue', 'purple', 'maroon']"
   ]
  },
  {
   "cell_type": "code",
   "execution_count": null,
   "id": "593669ae",
   "metadata": {},
   "outputs": [],
   "source": [
    "import matplotlib.lines as mlines"
   ]
  },
  {
   "cell_type": "code",
   "execution_count": null,
   "id": "9cfc1def",
   "metadata": {},
   "outputs": [],
   "source": [
    "def plot_convergence_size_steps(results, observable = 'Emean',\n",
    "                               symbol = 'E'):\n",
    "    fig, ax = plt.subplots()\n",
    "    for j, (size, resultsize) in enumerate(results.items()):\n",
    "        for i, (nsteps, resultsizestep) in enumerate(resultsize.items()):\n",
    "            ax.plot(\n",
    "                resultsizestep['T'], \n",
    "                resultsizestep[observable],\n",
    "                '-', marker=markersymbols[i],markeredgecolor='k',markersize=8, color=linecolors[j])\n",
    "    ax.set_ylabel(fr'$\\langle {symbol} \\rangle$ / per spin')\n",
    "    ax.set_xlabel('T')\n",
    "    sizes_handles = [mlines.Line2D([],[],linestyle='-', color = linecolors[i]) for i, size in enumerate(results.keys())]\n",
    "    sizes_labels = [f'n={size}' for i, size in enumerate(results.keys())]\n",
    "    nsteps_handles = [mlines.Line2D([],[],marker=markersymbols[i], color = 'k') for i, mcstep in enumerate(mcsteps)]\n",
    "    nsteps_labels = [f'{n:.1e} mcsteps' for n in mcsteps]\n",
    "    ax.legend(sizes_handles+nsteps_handles, sizes_labels+nsteps_labels)\n",
    "    return fig,ax"
   ]
  },
  {
   "cell_type": "code",
   "execution_count": null,
   "id": "62092262",
   "metadata": {},
   "outputs": [],
   "source": [
    "fig, ax = plot_convergence_size_steps(results, observable='Emean')\n",
    "#ax.set_ylim([-2.1, 0.2])"
   ]
  },
  {
   "cell_type": "code",
   "execution_count": null,
   "id": "bddf6b01",
   "metadata": {},
   "outputs": [],
   "source": [
    "plot_convergence_size_steps(results, 'MabsMEAN', symbol='|M|')"
   ]
  },
  {
   "cell_type": "code",
   "execution_count": null,
   "id": "7f317fd1",
   "metadata": {},
   "outputs": [],
   "source": [
    "plot_convergence_size_steps(results, observable='CV', symbol='C_v')"
   ]
  },
  {
   "cell_type": "markdown",
   "id": "f8ddf05b",
   "metadata": {},
   "source": [
    "Hay dos tipos de susceptibilidad:\n",
    "$$ \\chi = \\dfrac{\\langle M^2 \\rangle - \\langle M \\rangle ^2}{k_B T} $$\n",
    "$$ \\chi '  = \\dfrac{\\langle M^2 \\rangle - \\langle |M| \\rangle ^2}{k_B T} $$"
   ]
  },
  {
   "cell_type": "markdown",
   "id": "3062f86d",
   "metadata": {},
   "source": [
    "for size, thisresult in results.items():\n",
    "    for steps, result in thisresult.items():\n",
    "        result['X'] = (result['M2acum']/size**2 - (result['Mmean'])**2)/result['T']"
   ]
  },
  {
   "cell_type": "code",
   "execution_count": null,
   "id": "f26cddfa",
   "metadata": {},
   "outputs": [],
   "source": [
    "plot_convergence_size_steps(results, observable='X', symbol = '\\chi')"
   ]
  },
  {
   "cell_type": "code",
   "execution_count": null,
   "id": "a63e1db9",
   "metadata": {},
   "outputs": [],
   "source": [
    "plot_convergence_size_steps(results, observable='Xp', symbol = '\\chi \\' ')"
   ]
  },
  {
   "cell_type": "markdown",
   "id": "273fea50",
   "metadata": {},
   "source": [
    "# Comparación para solución teórica 2x2 "
   ]
  },
  {
   "cell_type": "code",
   "execution_count": null,
   "id": "e975a71b",
   "metadata": {},
   "outputs": [],
   "source": [
    "def compare_2x2_teorico(observable, symbol):\n",
    "    plt.plot (results['teorico']['T'],results['teorico'][observable], 'k', lw = 5, label='teórico 2x2')\n",
    "    for (size, result), marker in zip(results[2].items(), markersymbols[:len(results[2])]):\n",
    "        plt.plot (result['T'], result[observable], marker+'--r', markeredgecolor='k', label=f'{size}')\n",
    "    plt.legend()\n",
    "    plt.ylabel(fr'$\\langle {symbol} \\rangle$')\n",
    "    plt.xlabel (r'$\\dfrac{T}{T_c}$')"
   ]
  },
  {
   "cell_type": "code",
   "execution_count": null,
   "id": "73cc0d71",
   "metadata": {},
   "outputs": [],
   "source": [
    "results['teorico'] = {} "
   ]
  },
  {
   "cell_type": "code",
   "execution_count": null,
   "id": "c34984b3",
   "metadata": {},
   "outputs": [],
   "source": [
    "results['teorico']['T'] =results[2][1e4]['T']"
   ]
  },
  {
   "cell_type": "code",
   "execution_count": null,
   "id": "813f335c",
   "metadata": {},
   "outputs": [],
   "source": [
    "beta = 1/results['teorico']['T']"
   ]
  },
  {
   "cell_type": "code",
   "execution_count": null,
   "id": "f875273c",
   "metadata": {},
   "outputs": [],
   "source": [
    "teoricos = ising.SolucionTeorica2x2(beta, 1)"
   ]
  },
  {
   "cell_type": "code",
   "execution_count": null,
   "id": "ce08e859",
   "metadata": {},
   "outputs": [],
   "source": [
    "results['teorico'].update({'Emean': teoricos.emean()})"
   ]
  },
  {
   "cell_type": "code",
   "execution_count": null,
   "id": "f2ce37e3",
   "metadata": {},
   "outputs": [],
   "source": [
    "results['teorico'].update({'E2mean': teoricos.e2mean()})"
   ]
  },
  {
   "cell_type": "code",
   "execution_count": null,
   "id": "06f73c23",
   "metadata": {},
   "outputs": [],
   "source": [
    "results['teorico'].update({'MabsMEAN': teoricos.mmean()})"
   ]
  },
  {
   "cell_type": "code",
   "execution_count": null,
   "id": "008f0b84",
   "metadata": {},
   "outputs": [],
   "source": [
    "results['teorico'].update({'M2acum': teoricos.m2mean()})"
   ]
  },
  {
   "cell_type": "code",
   "execution_count": null,
   "id": "35e17df9",
   "metadata": {},
   "outputs": [],
   "source": [
    "results['teorico']['CV'] = (results['teorico']['E2mean']/4 - results['teorico']['Emean']**2)*beta**2*4"
   ]
  },
  {
   "cell_type": "code",
   "execution_count": null,
   "id": "80b7017b",
   "metadata": {},
   "outputs": [],
   "source": [
    "results['teorico']['Xp'] = (results['teorico']['M2acum']/4 - results['teorico']['MabsMEAN']**2)*beta*4"
   ]
  },
  {
   "cell_type": "code",
   "execution_count": null,
   "id": "36f9b0bd",
   "metadata": {},
   "outputs": [],
   "source": [
    "compare_2x2_teorico('Emean', 'E')"
   ]
  },
  {
   "cell_type": "code",
   "execution_count": null,
   "id": "cc39649f",
   "metadata": {},
   "outputs": [],
   "source": [
    "compare_2x2_teorico('E2mean', 'E^2')"
   ]
  },
  {
   "cell_type": "code",
   "execution_count": null,
   "id": "b103bb55",
   "metadata": {},
   "outputs": [],
   "source": [
    "compare_2x2_teorico('MabsMEAN', '|M|')"
   ]
  },
  {
   "cell_type": "code",
   "execution_count": null,
   "id": "a74c5664",
   "metadata": {},
   "outputs": [],
   "source": [
    "compare_2x2_teorico('M2acum', 'M^2')"
   ]
  },
  {
   "cell_type": "code",
   "execution_count": null,
   "id": "4d71899d",
   "metadata": {},
   "outputs": [],
   "source": [
    "compare_2x2_teorico('CV', 'C_v')"
   ]
  },
  {
   "cell_type": "code",
   "execution_count": null,
   "id": "613f7ac6",
   "metadata": {},
   "outputs": [],
   "source": [
    "compare_2x2_teorico('Xp', '\\chi')"
   ]
  },
  {
   "cell_type": "code",
   "execution_count": null,
   "id": "948ece1b",
   "metadata": {},
   "outputs": [],
   "source": []
  }
 ],
 "metadata": {
  "kernelspec": {
   "display_name": "Python 3 (ipykernel)",
   "language": "python",
   "name": "python3"
  },
  "language_info": {
   "codemirror_mode": {
    "name": "ipython",
    "version": 3
   },
   "file_extension": ".py",
   "mimetype": "text/x-python",
   "name": "python",
   "nbconvert_exporter": "python",
   "pygments_lexer": "ipython3",
   "version": "3.9.12"
  }
 },
 "nbformat": 4,
 "nbformat_minor": 5
}
