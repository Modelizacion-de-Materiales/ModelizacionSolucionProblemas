{
 "cells": [
  {
   "cell_type": "code",
   "execution_count": 1,
   "id": "08aeb3b0",
   "metadata": {},
   "outputs": [],
   "source": [
    "import numpy as np"
   ]
  },
  {
   "cell_type": "code",
   "execution_count": 2,
   "id": "0a6dd9ad",
   "metadata": {},
   "outputs": [],
   "source": [
    "A = np.array([[1,-3, -2], [2, -4, -3], [-3, 6, 8]])"
   ]
  },
  {
   "cell_type": "code",
   "execution_count": 3,
   "id": "ec8058d3",
   "metadata": {},
   "outputs": [],
   "source": [
    "b = np.array([[6], [8], [-5]])"
   ]
  },
  {
   "cell_type": "code",
   "execution_count": 4,
   "id": "b4ea24b4",
   "metadata": {},
   "outputs": [],
   "source": [
    "X = np.linalg.solve(A,b)"
   ]
  },
  {
   "cell_type": "code",
   "execution_count": 5,
   "id": "46bdc9d3",
   "metadata": {},
   "outputs": [
    {
     "data": {
      "text/plain": [
       "array([[ 1.],\n",
       "       [-3.],\n",
       "       [ 2.]])"
      ]
     },
     "execution_count": 5,
     "metadata": {},
     "output_type": "execute_result"
    }
   ],
   "source": [
    "X"
   ]
  },
  {
   "cell_type": "markdown",
   "id": "e2e9416f",
   "metadata": {},
   "source": [
    "# Resolvemos gráficamente"
   ]
  },
  {
   "cell_type": "code",
   "execution_count": null,
   "id": "0c487ae7",
   "metadata": {},
   "outputs": [],
   "source": [
    "np.polyval"
   ]
  }
 ],
 "metadata": {
  "kernelspec": {
   "display_name": "Python 3 (ipykernel)",
   "language": "python",
   "name": "python3"
  },
  "language_info": {
   "codemirror_mode": {
    "name": "ipython",
    "version": 3
   },
   "file_extension": ".py",
   "mimetype": "text/x-python",
   "name": "python",
   "nbconvert_exporter": "python",
   "pygments_lexer": "ipython3",
   "version": "3.9.6"
  }
 },
 "nbformat": 4,
 "nbformat_minor": 5
}
