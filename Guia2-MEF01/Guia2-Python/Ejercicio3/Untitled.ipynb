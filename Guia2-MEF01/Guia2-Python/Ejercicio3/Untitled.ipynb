{
 "cells": [
  {
   "cell_type": "code",
   "execution_count": 1,
   "id": "detected-origin",
   "metadata": {},
   "outputs": [],
   "source": [
    "from ejercicio3 import barra"
   ]
  },
  {
   "cell_type": "code",
   "execution_count": 2,
   "id": "collaborative-sunday",
   "metadata": {},
   "outputs": [],
   "source": [
    "B = barra(4)"
   ]
  },
  {
   "cell_type": "code",
   "execution_count": 3,
   "id": "genetic-reality",
   "metadata": {},
   "outputs": [
    {
     "data": {
      "text/plain": [
       "'04N'"
      ]
     },
     "execution_count": 3,
     "metadata": {},
     "output_type": "execute_result"
    }
   ],
   "source": [
    "B.case"
   ]
  },
  {
   "cell_type": "code",
   "execution_count": 4,
   "id": "genetic-mixture",
   "metadata": {},
   "outputs": [
    {
     "data": {
      "text/plain": [
       "array([[-0.00535714],\n",
       "       [-0.00515873],\n",
       "       [-0.00376984],\n",
       "       [ 0.        ]])"
      ]
     },
     "execution_count": 4,
     "metadata": {},
     "output_type": "execute_result"
    }
   ],
   "source": [
    "B.U"
   ]
  },
  {
   "cell_type": "code",
   "execution_count": 5,
   "id": "geological-canon",
   "metadata": {},
   "outputs": [
    {
     "data": {
      "text/plain": [
       "array([[0. , 0. , 0. ],\n",
       "       [0.5, 0. , 0. ],\n",
       "       [1. , 0. , 0. ],\n",
       "       [1.5, 0. , 0. ]])"
      ]
     },
     "execution_count": 5,
     "metadata": {},
     "output_type": "execute_result"
    }
   ],
   "source": [
    "B.MN"
   ]
  },
  {
   "cell_type": "code",
   "execution_count": 6,
   "id": "cooked-haiti",
   "metadata": {},
   "outputs": [
    {
     "data": {
      "text/plain": [
       "array([[0, 1],\n",
       "       [2, 1],\n",
       "       [2, 3]])"
      ]
     },
     "execution_count": 6,
     "metadata": {},
     "output_type": "execute_result"
    }
   ],
   "source": [
    "B.MC"
   ]
  },
  {
   "cell_type": "code",
   "execution_count": 7,
   "id": "encouraging-spiritual",
   "metadata": {},
   "outputs": [
    {
     "data": {
      "text/plain": [
       "array([[-0.00535714],\n",
       "       [-0.00515873]])"
      ]
     },
     "execution_count": 7,
     "metadata": {},
     "output_type": "execute_result"
    }
   ],
   "source": [
    "B.U[B.MC[0,:]]"
   ]
  },
  {
   "cell_type": "code",
   "execution_count": null,
   "id": "operational-somewhere",
   "metadata": {},
   "outputs": [],
   "source": []
  }
 ],
 "metadata": {
  "kernelspec": {
   "display_name": "Python 3",
   "language": "python",
   "name": "python3"
  },
  "language_info": {
   "codemirror_mode": {
    "name": "ipython",
    "version": 3
   },
   "file_extension": ".py",
   "mimetype": "text/x-python",
   "name": "python",
   "nbconvert_exporter": "python",
   "pygments_lexer": "ipython3",
   "version": "3.9.2"
  }
 },
 "nbformat": 4,
 "nbformat_minor": 5
}
