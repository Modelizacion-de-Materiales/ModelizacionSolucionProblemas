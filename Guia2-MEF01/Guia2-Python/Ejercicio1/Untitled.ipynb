{
 "cells": [
  {
   "cell_type": "code",
   "execution_count": 10,
   "id": "fc65b690",
   "metadata": {},
   "outputs": [],
   "source": [
    "from importlib.machinery import SourceFileLoader\n",
    "import numpy as np"
   ]
  },
  {
   "cell_type": "code",
   "execution_count": 2,
   "id": "fb519034",
   "metadata": {},
   "outputs": [],
   "source": [
    "springs = SourceFileLoader(\n",
    "    'springs',\n",
    "    'Ejercicio1.py'\n",
    ").load_module().springs()"
   ]
  },
  {
   "cell_type": "code",
   "execution_count": 5,
   "id": "60323c53",
   "metadata": {},
   "outputs": [],
   "source": [
    "K = springs.K"
   ]
  },
  {
   "cell_type": "code",
   "execution_count": 8,
   "id": "26f0423e",
   "metadata": {},
   "outputs": [],
   "source": [
    "r = springs.r"
   ]
  },
  {
   "cell_type": "code",
   "execution_count": 9,
   "id": "403fc211",
   "metadata": {},
   "outputs": [],
   "source": [
    "s = springs.s"
   ]
  },
  {
   "cell_type": "code",
   "execution_count": 18,
   "id": "bf8985f0",
   "metadata": {},
   "outputs": [],
   "source": [
    "F = springs.F"
   ]
  },
  {
   "cell_type": "code",
   "execution_count": 19,
   "id": "18ec6176",
   "metadata": {},
   "outputs": [],
   "source": [
    "U = springs.U"
   ]
  },
  {
   "cell_type": "code",
   "execution_count": 28,
   "id": "2f5fc692",
   "metadata": {},
   "outputs": [
    {
     "data": {
      "text/plain": [
       "array([[-0.00066667],\n",
       "       [-0.00133333]])"
      ]
     },
     "execution_count": 28,
     "metadata": {},
     "output_type": "execute_result"
    }
   ],
   "source": [
    "np.linalg.solve(K[np.ix_(r,r)], K[np.ix_(r,s)].dot(U[s]))"
   ]
  },
  {
   "cell_type": "code",
   "execution_count": 37,
   "id": "37d5d148",
   "metadata": {},
   "outputs": [
    {
     "data": {
      "text/plain": [
       "array([[-200.,    0.],\n",
       "       [   0., -200.]])"
      ]
     },
     "execution_count": 37,
     "metadata": {},
     "output_type": "execute_result"
    }
   ],
   "source": [
    "K[np.ix_(r,s)]"
   ]
  },
  {
   "cell_type": "code",
   "execution_count": 35,
   "id": "81c52fe4",
   "metadata": {},
   "outputs": [
    {
     "data": {
      "text/plain": [
       "array([[ 200., -200.,    0.,    0.],\n",
       "       [-200.,  400., -200.,    0.],\n",
       "       [   0., -200.,  400., -200.],\n",
       "       [   0.,    0., -200.,  200.]])"
      ]
     },
     "execution_count": 35,
     "metadata": {},
     "output_type": "execute_result"
    }
   ],
   "source": [
    "K"
   ]
  },
  {
   "cell_type": "code",
   "execution_count": 31,
   "id": "81de6f23",
   "metadata": {},
   "outputs": [
    {
     "ename": "KeyboardInterrupt",
     "evalue": "",
     "output_type": "error",
     "traceback": [
      "\u001b[0;31m---------------------------------------------------------------------------\u001b[0m",
      "\u001b[0;31mKeyboardInterrupt\u001b[0m                         Traceback (most recent call last)",
      "\u001b[0;32m/tmp/ipykernel_29062/859235930.py\u001b[0m in \u001b[0;36m<module>\u001b[0;34m\u001b[0m\n\u001b[1;32m      1\u001b[0m \u001b[0mi\u001b[0m \u001b[0;34m=\u001b[0m \u001b[0;36m0\u001b[0m\u001b[0;34m\u001b[0m\u001b[0;34m\u001b[0m\u001b[0m\n\u001b[1;32m      2\u001b[0m \u001b[0;32mwhile\u001b[0m \u001b[0;32mTrue\u001b[0m\u001b[0;34m:\u001b[0m\u001b[0;34m\u001b[0m\u001b[0;34m\u001b[0m\u001b[0m\n\u001b[0;32m----> 3\u001b[0;31m     \u001b[0mi\u001b[0m\u001b[0;34m+=\u001b[0m\u001b[0;36m1\u001b[0m\u001b[0;34m\u001b[0m\u001b[0;34m\u001b[0m\u001b[0m\n\u001b[0m\u001b[1;32m      4\u001b[0m \u001b[0;31m#    if i > 10:\u001b[0m\u001b[0;34m\u001b[0m\u001b[0;34m\u001b[0m\u001b[0;34m\u001b[0m\u001b[0m\n\u001b[1;32m      5\u001b[0m \u001b[0;31m#        break\u001b[0m\u001b[0;34m\u001b[0m\u001b[0;34m\u001b[0m\u001b[0;34m\u001b[0m\u001b[0m\n",
      "\u001b[0;31mKeyboardInterrupt\u001b[0m: "
     ]
    }
   ],
   "source": [
    "i = 0\n",
    "while True:\n",
    "    i+=1\n",
    "#    if i > 10:\n",
    "#        break\n",
    "    pass\n",
    "\n",
    "print(i)"
   ]
  },
  {
   "cell_type": "code",
   "execution_count": null,
   "id": "e7545e51",
   "metadata": {},
   "outputs": [],
   "source": []
  }
 ],
 "metadata": {
  "kernelspec": {
   "display_name": "Python 3 (ipykernel)",
   "language": "python",
   "name": "python3"
  },
  "language_info": {
   "codemirror_mode": {
    "name": "ipython",
    "version": 3
   },
   "file_extension": ".py",
   "mimetype": "text/x-python",
   "name": "python",
   "nbconvert_exporter": "python",
   "pygments_lexer": "ipython3",
   "version": "3.9.6"
  }
 },
 "nbformat": 4,
 "nbformat_minor": 5
}
