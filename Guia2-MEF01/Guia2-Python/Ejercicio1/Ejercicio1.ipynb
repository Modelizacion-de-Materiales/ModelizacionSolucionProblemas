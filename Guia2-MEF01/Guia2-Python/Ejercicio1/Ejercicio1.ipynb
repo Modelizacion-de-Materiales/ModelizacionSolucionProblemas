{
 "cells": [
  {
   "cell_type": "code",
   "execution_count": 1,
   "id": "ab531b98",
   "metadata": {},
   "outputs": [],
   "source": [
    "import numpy as np\n",
    "from Ejercicio1 import springs"
   ]
  },
  {
   "cell_type": "code",
   "execution_count": 2,
   "id": "6fe6b426",
   "metadata": {},
   "outputs": [],
   "source": [
    "mysprings = springs()"
   ]
  },
  {
   "cell_type": "code",
   "execution_count": 3,
   "id": "c3d98b6a",
   "metadata": {},
   "outputs": [],
   "source": [
    "K = mysprings.K"
   ]
  },
  {
   "cell_type": "code",
   "execution_count": 4,
   "id": "ce8eed29",
   "metadata": {},
   "outputs": [],
   "source": [
    "r = mysprings.r"
   ]
  },
  {
   "cell_type": "code",
   "execution_count": 20,
   "id": "a28feb62",
   "metadata": {},
   "outputs": [
    {
     "data": {
      "text/plain": [
       "array([1, 2])"
      ]
     },
     "execution_count": 20,
     "metadata": {},
     "output_type": "execute_result"
    }
   ],
   "source": [
    "r"
   ]
  },
  {
   "cell_type": "code",
   "execution_count": 5,
   "id": "f5fe4f4b",
   "metadata": {},
   "outputs": [],
   "source": [
    "s = mysprings.s"
   ]
  },
  {
   "cell_type": "code",
   "execution_count": 21,
   "id": "50d0d8e2",
   "metadata": {},
   "outputs": [
    {
     "data": {
      "text/plain": [
       "array([0, 3])"
      ]
     },
     "execution_count": 21,
     "metadata": {},
     "output_type": "execute_result"
    }
   ],
   "source": [
    "s"
   ]
  },
  {
   "cell_type": "code",
   "execution_count": 6,
   "id": "a7b036ad",
   "metadata": {},
   "outputs": [],
   "source": [
    "F = mysprings.F"
   ]
  },
  {
   "cell_type": "code",
   "execution_count": 24,
   "id": "66142505",
   "metadata": {},
   "outputs": [
    {
     "data": {
      "text/plain": [
       "array([[ 400., -200.],\n",
       "       [-200.,  400.]])"
      ]
     },
     "execution_count": 24,
     "metadata": {},
     "output_type": "execute_result"
    }
   ],
   "source": [
    "K[1:3,1:3]"
   ]
  },
  {
   "cell_type": "code",
   "execution_count": 25,
   "id": "f1b26881",
   "metadata": {},
   "outputs": [
    {
     "data": {
      "text/plain": [
       "array([400., 400.])"
      ]
     },
     "execution_count": 25,
     "metadata": {},
     "output_type": "execute_result"
    }
   ],
   "source": [
    "K[[1,2],[1,2]]"
   ]
  },
  {
   "cell_type": "code",
   "execution_count": 22,
   "id": "6fd4a2ee",
   "metadata": {},
   "outputs": [
    {
     "data": {
      "text/plain": [
       "array([[ 400., -200.],\n",
       "       [-200.,  400.]])"
      ]
     },
     "execution_count": 22,
     "metadata": {},
     "output_type": "execute_result"
    }
   ],
   "source": [
    "K[np.ix_(r,r)]"
   ]
  },
  {
   "cell_type": "code",
   "execution_count": 28,
   "id": "9d03769a",
   "metadata": {},
   "outputs": [
    {
     "data": {
      "text/plain": [
       "array([[-200.,    0.],\n",
       "       [   0., -200.]])"
      ]
     },
     "execution_count": 28,
     "metadata": {},
     "output_type": "execute_result"
    }
   ],
   "source": [
    "K[np.ix_(r,s)]"
   ]
  },
  {
   "cell_type": "code",
   "execution_count": 7,
   "id": "8191ea0f",
   "metadata": {},
   "outputs": [],
   "source": [
    "U = mysprings.U"
   ]
  },
  {
   "cell_type": "code",
   "execution_count": 34,
   "id": "8453d59e",
   "metadata": {},
   "outputs": [
    {
     "data": {
      "text/plain": [
       "array([[0.   ],\n",
       "       [0.002]])"
      ]
     },
     "execution_count": 34,
     "metadata": {},
     "output_type": "execute_result"
    }
   ],
   "source": [
    "U[s]"
   ]
  },
  {
   "cell_type": "code",
   "execution_count": 39,
   "id": "de729f2d",
   "metadata": {},
   "outputs": [],
   "source": [
    "Us = np.array([[0], [0.002]])"
   ]
  },
  {
   "cell_type": "code",
   "execution_count": 40,
   "id": "e00708b2",
   "metadata": {},
   "outputs": [
    {
     "data": {
      "text/plain": [
       "array([[0.   ],\n",
       "       [0.002]])"
      ]
     },
     "execution_count": 40,
     "metadata": {},
     "output_type": "execute_result"
    }
   ],
   "source": [
    "Us"
   ]
  },
  {
   "cell_type": "code",
   "execution_count": 35,
   "id": "fcc21325",
   "metadata": {},
   "outputs": [
    {
     "data": {
      "text/plain": [
       "array([0, 3])"
      ]
     },
     "execution_count": 35,
     "metadata": {},
     "output_type": "execute_result"
    }
   ],
   "source": [
    "s"
   ]
  },
  {
   "cell_type": "code",
   "execution_count": 41,
   "id": "d5874452",
   "metadata": {},
   "outputs": [],
   "source": [
    "Ur = np.linalg.solve(K[np.ix_(r,r)], F[r] -K[np.ix_(r,s)].dot(U[s]))"
   ]
  },
  {
   "cell_type": "code",
   "execution_count": 42,
   "id": "c6d7870b",
   "metadata": {},
   "outputs": [
    {
     "data": {
      "text/plain": [
       "array([[0.00066667],\n",
       "       [0.00133333]])"
      ]
     },
     "execution_count": 42,
     "metadata": {},
     "output_type": "execute_result"
    }
   ],
   "source": [
    "Ur"
   ]
  },
  {
   "cell_type": "code",
   "execution_count": 43,
   "id": "af0c4c5a",
   "metadata": {},
   "outputs": [],
   "source": [
    "U = np.zeros([4,1])"
   ]
  },
  {
   "cell_type": "code",
   "execution_count": 44,
   "id": "8f2a4f19",
   "metadata": {},
   "outputs": [
    {
     "data": {
      "text/plain": [
       "array([[0.],\n",
       "       [0.],\n",
       "       [0.],\n",
       "       [0.]])"
      ]
     },
     "execution_count": 44,
     "metadata": {},
     "output_type": "execute_result"
    }
   ],
   "source": [
    "U"
   ]
  },
  {
   "cell_type": "code",
   "execution_count": 45,
   "id": "3ed17de2",
   "metadata": {},
   "outputs": [],
   "source": [
    "U[s] = Us"
   ]
  },
  {
   "cell_type": "code",
   "execution_count": 46,
   "id": "5694faa0",
   "metadata": {},
   "outputs": [],
   "source": [
    "U[r] = Ur"
   ]
  },
  {
   "cell_type": "code",
   "execution_count": 47,
   "id": "91eeed31",
   "metadata": {},
   "outputs": [
    {
     "data": {
      "text/plain": [
       "array([[0.        ],\n",
       "       [0.00066667],\n",
       "       [0.00133333],\n",
       "       [0.002     ]])"
      ]
     },
     "execution_count": 47,
     "metadata": {},
     "output_type": "execute_result"
    }
   ],
   "source": [
    "U"
   ]
  },
  {
   "cell_type": "code",
   "execution_count": 15,
   "id": "b23c5427",
   "metadata": {},
   "outputs": [
    {
     "data": {
      "text/plain": [
       "array([[-200.,    0.],\n",
       "       [   0., -200.]])"
      ]
     },
     "execution_count": 15,
     "metadata": {},
     "output_type": "execute_result"
    }
   ],
   "source": [
    "K[np.ix_(r,s)]"
   ]
  },
  {
   "cell_type": "code",
   "execution_count": 16,
   "id": "fe51fcf8",
   "metadata": {},
   "outputs": [
    {
     "data": {
      "text/plain": [
       "array([[ 200., -200.,    0.,    0.],\n",
       "       [-200.,  400., -200.,    0.],\n",
       "       [   0., -200.,  400., -200.],\n",
       "       [   0.,    0., -200.,  200.]])"
      ]
     },
     "execution_count": 16,
     "metadata": {},
     "output_type": "execute_result"
    }
   ],
   "source": [
    "K"
   ]
  },
  {
   "cell_type": "code",
   "execution_count": 17,
   "id": "ed92362e",
   "metadata": {},
   "outputs": [
    {
     "data": {
      "text/plain": [
       "array([[-0.13333333],\n",
       "       [ 0.        ],\n",
       "       [ 0.        ],\n",
       "       [ 0.13333333]])"
      ]
     },
     "execution_count": 17,
     "metadata": {},
     "output_type": "execute_result"
    }
   ],
   "source": [
    "F"
   ]
  },
  {
   "cell_type": "code",
   "execution_count": null,
   "id": "4b0ba75d",
   "metadata": {},
   "outputs": [],
   "source": [
    "U"
   ]
  },
  {
   "cell_type": "code",
   "execution_count": 48,
   "id": "7b9c8d78",
   "metadata": {},
   "outputs": [],
   "source": [
    "F = U = np.zeros([4,1])"
   ]
  },
  {
   "cell_type": "code",
   "execution_count": 49,
   "id": "35f0665f",
   "metadata": {},
   "outputs": [],
   "source": [
    "F[0] = 1"
   ]
  },
  {
   "cell_type": "code",
   "execution_count": 50,
   "id": "430fecc4",
   "metadata": {},
   "outputs": [
    {
     "data": {
      "text/plain": [
       "array([[1.],\n",
       "       [0.],\n",
       "       [0.],\n",
       "       [0.]])"
      ]
     },
     "execution_count": 50,
     "metadata": {},
     "output_type": "execute_result"
    }
   ],
   "source": [
    "U"
   ]
  },
  {
   "cell_type": "code",
   "execution_count": null,
   "id": "1b3b4c52",
   "metadata": {},
   "outputs": [],
   "source": []
  }
 ],
 "metadata": {
  "kernelspec": {
   "display_name": "Python 3 (ipykernel)",
   "language": "python",
   "name": "python3"
  },
  "language_info": {
   "codemirror_mode": {
    "name": "ipython",
    "version": 3
   },
   "file_extension": ".py",
   "mimetype": "text/x-python",
   "name": "python",
   "nbconvert_exporter": "python",
   "pygments_lexer": "ipython3",
   "version": "3.9.12"
  }
 },
 "nbformat": 4,
 "nbformat_minor": 5
}
