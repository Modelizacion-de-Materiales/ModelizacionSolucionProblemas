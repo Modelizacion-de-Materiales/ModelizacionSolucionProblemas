{
 "cells": [
  {
   "cell_type": "code",
   "execution_count": 1,
   "id": "407bc323",
   "metadata": {},
   "outputs": [],
   "source": [
    "import numpy as np\n",
    "from Ejercicio1 import springs"
   ]
  },
  {
   "cell_type": "code",
   "execution_count": 2,
   "id": "b6125a24",
   "metadata": {},
   "outputs": [],
   "source": [
    "mysprings = springs()"
   ]
  },
  {
   "cell_type": "code",
   "execution_count": 3,
   "id": "21f15a44",
   "metadata": {},
   "outputs": [],
   "source": [
    "K = mysprings.K"
   ]
  },
  {
   "cell_type": "code",
   "execution_count": 4,
   "id": "81e8df78",
   "metadata": {},
   "outputs": [],
   "source": [
    "r = mysprings.r"
   ]
  },
  {
   "cell_type": "code",
   "execution_count": 5,
   "id": "8b4f7f05",
   "metadata": {},
   "outputs": [
    {
     "data": {
      "text/plain": [
       "array([1, 2])"
      ]
     },
     "execution_count": 5,
     "metadata": {},
     "output_type": "execute_result"
    }
   ],
   "source": [
    "r"
   ]
  },
  {
   "cell_type": "code",
   "execution_count": 6,
   "id": "73e2a50c",
   "metadata": {},
   "outputs": [],
   "source": [
    "s = mysprings.s"
   ]
  },
  {
   "cell_type": "code",
   "execution_count": 7,
   "id": "68f43934",
   "metadata": {},
   "outputs": [
    {
     "data": {
      "text/plain": [
       "array([0, 3])"
      ]
     },
     "execution_count": 7,
     "metadata": {},
     "output_type": "execute_result"
    }
   ],
   "source": [
    "s"
   ]
  },
  {
   "cell_type": "code",
   "execution_count": 8,
   "id": "28bd0940",
   "metadata": {},
   "outputs": [],
   "source": [
    "F = mysprings.F"
   ]
  },
  {
   "cell_type": "code",
   "execution_count": 9,
   "id": "69cd5338",
   "metadata": {},
   "outputs": [
    {
     "data": {
      "text/plain": [
       "array([[ 400., -200.],\n",
       "       [-200.,  400.]])"
      ]
     },
     "execution_count": 9,
     "metadata": {},
     "output_type": "execute_result"
    }
   ],
   "source": [
    "K[1:3,1:3]"
   ]
  },
  {
   "cell_type": "code",
   "execution_count": 10,
   "id": "3f19bb9a",
   "metadata": {},
   "outputs": [
    {
     "data": {
      "text/plain": [
       "array([400., 400.])"
      ]
     },
     "execution_count": 10,
     "metadata": {},
     "output_type": "execute_result"
    }
   ],
   "source": [
    "K[[1,2],[1,2]]"
   ]
  },
  {
   "cell_type": "code",
   "execution_count": 11,
   "id": "a054733d",
   "metadata": {},
   "outputs": [
    {
     "data": {
      "text/plain": [
       "array([[ 400., -200.],\n",
       "       [-200.,  400.]])"
      ]
     },
     "execution_count": 11,
     "metadata": {},
     "output_type": "execute_result"
    }
   ],
   "source": [
    "K[np.ix_(r,r)]"
   ]
  },
  {
   "cell_type": "code",
   "execution_count": 12,
   "id": "fb58ddfe",
   "metadata": {},
   "outputs": [
    {
     "data": {
      "text/plain": [
       "array([[-200.,    0.],\n",
       "       [   0., -200.]])"
      ]
     },
     "execution_count": 12,
     "metadata": {},
     "output_type": "execute_result"
    }
   ],
   "source": [
    "K[np.ix_(r,s)]"
   ]
  },
  {
   "cell_type": "code",
   "execution_count": 13,
   "id": "dc0846c5",
   "metadata": {},
   "outputs": [],
   "source": [
    "U = mysprings.U"
   ]
  },
  {
   "cell_type": "code",
   "execution_count": 14,
   "id": "6bf86c5a",
   "metadata": {},
   "outputs": [
    {
     "data": {
      "text/plain": [
       "array([[0.   ],\n",
       "       [0.002]])"
      ]
     },
     "execution_count": 14,
     "metadata": {},
     "output_type": "execute_result"
    }
   ],
   "source": [
    "U[s]"
   ]
  },
  {
   "cell_type": "code",
   "execution_count": 15,
   "id": "821564ec",
   "metadata": {},
   "outputs": [],
   "source": [
    "Us = np.array([[0], [0.002]])"
   ]
  },
  {
   "cell_type": "code",
   "execution_count": 16,
   "id": "5f70a247",
   "metadata": {},
   "outputs": [
    {
     "data": {
      "text/plain": [
       "array([[0.   ],\n",
       "       [0.002]])"
      ]
     },
     "execution_count": 16,
     "metadata": {},
     "output_type": "execute_result"
    }
   ],
   "source": [
    "Us"
   ]
  },
  {
   "cell_type": "code",
   "execution_count": 17,
   "id": "ad8adacf",
   "metadata": {},
   "outputs": [
    {
     "data": {
      "text/plain": [
       "array([0, 3])"
      ]
     },
     "execution_count": 17,
     "metadata": {},
     "output_type": "execute_result"
    }
   ],
   "source": [
    "s"
   ]
  },
  {
   "cell_type": "code",
   "execution_count": 18,
   "id": "4d73c32d",
   "metadata": {},
   "outputs": [],
   "source": [
    "Ur = np.linalg.solve(K[np.ix_(r,r)], F[r] -K[np.ix_(r,s)].dot(U[s]))"
   ]
  },
  {
   "cell_type": "code",
   "execution_count": 19,
   "id": "91d0d3ee",
   "metadata": {},
   "outputs": [
    {
     "data": {
      "text/plain": [
       "array([[0.00066667],\n",
       "       [0.00133333]])"
      ]
     },
     "execution_count": 19,
     "metadata": {},
     "output_type": "execute_result"
    }
   ],
   "source": [
    "Ur"
   ]
  },
  {
   "cell_type": "code",
   "execution_count": 20,
   "id": "15a1be94",
   "metadata": {},
   "outputs": [],
   "source": [
    "U = np.zeros([4,1])"
   ]
  },
  {
   "cell_type": "code",
   "execution_count": 21,
   "id": "8cb72561",
   "metadata": {},
   "outputs": [
    {
     "data": {
      "text/plain": [
       "array([[0.],\n",
       "       [0.],\n",
       "       [0.],\n",
       "       [0.]])"
      ]
     },
     "execution_count": 21,
     "metadata": {},
     "output_type": "execute_result"
    }
   ],
   "source": [
    "U"
   ]
  },
  {
   "cell_type": "code",
   "execution_count": 22,
   "id": "de899072",
   "metadata": {},
   "outputs": [],
   "source": [
    "U[s] = Us"
   ]
  },
  {
   "cell_type": "code",
   "execution_count": 23,
   "id": "e019a5b3",
   "metadata": {},
   "outputs": [],
   "source": [
    "U[r] = Ur"
   ]
  },
  {
   "cell_type": "code",
   "execution_count": 24,
   "id": "c2d22095",
   "metadata": {},
   "outputs": [
    {
     "data": {
      "text/plain": [
       "array([[0.        ],\n",
       "       [0.00066667],\n",
       "       [0.00133333],\n",
       "       [0.002     ]])"
      ]
     },
     "execution_count": 24,
     "metadata": {},
     "output_type": "execute_result"
    }
   ],
   "source": [
    "U"
   ]
  },
  {
   "cell_type": "code",
   "execution_count": 25,
   "id": "505a1430",
   "metadata": {},
   "outputs": [
    {
     "data": {
      "text/plain": [
       "array([[-200.,    0.],\n",
       "       [   0., -200.]])"
      ]
     },
     "execution_count": 25,
     "metadata": {},
     "output_type": "execute_result"
    }
   ],
   "source": [
    "K[np.ix_(r,s)]"
   ]
  },
  {
   "cell_type": "code",
   "execution_count": 26,
   "id": "67643e69",
   "metadata": {},
   "outputs": [
    {
     "data": {
      "text/plain": [
       "array([[ 200., -200.,    0.,    0.],\n",
       "       [-200.,  400., -200.,    0.],\n",
       "       [   0., -200.,  400., -200.],\n",
       "       [   0.,    0., -200.,  200.]])"
      ]
     },
     "execution_count": 26,
     "metadata": {},
     "output_type": "execute_result"
    }
   ],
   "source": [
    "K"
   ]
  },
  {
   "cell_type": "code",
   "execution_count": 27,
   "id": "66b17193",
   "metadata": {},
   "outputs": [
    {
     "data": {
      "text/plain": [
       "array([[-0.13333333],\n",
       "       [ 0.        ],\n",
       "       [ 0.        ],\n",
       "       [ 0.13333333]])"
      ]
     },
     "execution_count": 27,
     "metadata": {},
     "output_type": "execute_result"
    }
   ],
   "source": [
    "F"
   ]
  },
  {
   "cell_type": "code",
   "execution_count": 35,
   "id": "17028a65",
   "metadata": {},
   "outputs": [
    {
     "data": {
      "text/plain": [
       "array([[-0.13333333],\n",
       "       [ 0.00000000],\n",
       "       [ 0.00000000],\n",
       "       [ 0.13333333]])"
      ]
     },
     "execution_count": 35,
     "metadata": {},
     "output_type": "execute_result"
    }
   ],
   "source": [
    "K.dot(U)"
   ]
  },
  {
   "cell_type": "code",
   "execution_count": 34,
   "id": "7eaa5493",
   "metadata": {},
   "outputs": [],
   "source": [
    "np.set_printoptions(floatmode='fixed', suppress=True)"
   ]
  },
  {
   "cell_type": "code",
   "execution_count": null,
   "id": "bdb4934c",
   "metadata": {},
   "outputs": [],
   "source": []
  }
 ],
 "metadata": {
  "kernelspec": {
   "display_name": "Python 3 (ipykernel)",
   "language": "python",
   "name": "python3"
  },
  "language_info": {
   "codemirror_mode": {
    "name": "ipython",
    "version": 3
   },
   "file_extension": ".py",
   "mimetype": "text/x-python",
   "name": "python",
   "nbconvert_exporter": "python",
   "pygments_lexer": "ipython3",
   "version": "3.9.12"
  }
 },
 "nbformat": 4,
 "nbformat_minor": 5
}
