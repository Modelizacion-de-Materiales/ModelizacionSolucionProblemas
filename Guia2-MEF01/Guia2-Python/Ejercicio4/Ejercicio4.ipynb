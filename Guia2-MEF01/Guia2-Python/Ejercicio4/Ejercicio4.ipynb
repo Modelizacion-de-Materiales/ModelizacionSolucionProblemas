{
 "cells": [
  {
   "cell_type": "code",
   "execution_count": 1,
   "id": "aggregate-netherlands",
   "metadata": {},
   "outputs": [],
   "source": [
    "from importlib.machinery import SourceFileLoader\n",
    "import numpy as np\n",
    "import matplotlib.pyplot as plt\n",
    "import pdb\n",
    "from Ejercicio4 import trampolin\n",
    "mef = SourceFileLoader('mef','../mefmods.py').load_module()\n",
    "%matplotlib inline\n",
    "plt.rc('figure',figsize=(15,8))\n",
    "plt.rc('axes', labelsize=24)\n",
    "plt.rc('xtick', labelsize=20)\n",
    "plt.rc('ytick', labelsize=20)"
   ]
  },
  {
   "cell_type": "code",
   "execution_count": 2,
   "id": "informative-discussion",
   "metadata": {},
   "outputs": [],
   "source": [
    "T = trampolin()\n",
    "UM = mef.makenodex(T.U, T.GL, 3, len(T.MN))\n",
    "UM[:, 1] = UM[:, 0]\n",
    "UM[:, 0] = 0.\n",
    "FM = mef.makenodex(T.F, T.GL, 3, len(T.MN))\n",
    "FM[:, 1] = FM[:, 0]\n",
    "FM[:, 0] = 0.\n",
    "\n",
    "mef.plotmesh(T.MC, T.MN, FM, UM, 'trampolin', scale=10)"
   ]
  },
  {
   "cell_type": "code",
   "execution_count": 3,
   "id": "speaking-float",
   "metadata": {},
   "outputs": [
    {
     "data": {
      "text/plain": [
       "array([[ 0.        ,  0.        ],\n",
       "       [ 0.        ,  0.        ],\n",
       "       [ 0.        , -0.01744186],\n",
       "       [ 0.        ,  0.        ]])"
      ]
     },
     "execution_count": 3,
     "metadata": {},
     "output_type": "execute_result"
    }
   ],
   "source": [
    "UM"
   ]
  },
  {
   "cell_type": "code",
   "execution_count": 4,
   "id": "resistant-channels",
   "metadata": {},
   "outputs": [
    {
     "name": "stdout",
     "output_type": "stream",
     "text": [
      "[0.         0.33333333 0.66666667 1.         1.33333333 1.66666667\n",
      " 2.         2.33333333 2.66666667 3.        ]\n",
      "[3.         3.33333333 3.66666667 4.         4.33333333 4.66666667\n",
      " 5.         5.33333333 5.66666667 6.        ]\n"
     ]
    },
    {
     "data": {
      "image/png": "[encoded data removed]",
      "text/plain": [
       "<Figure size 1080x576 with 1 Axes>"
      ]
     },
     "metadata": {
      "needs_background": "light"
     },
     "output_type": "display_data"
    }
   ],
   "source": [
    "for e in T.MC[:-1,:]:\n",
    "    X = T.MN[e,0]\n",
    "    Y = T.MN[e,1]\n",
    "    O = T.MN[e,-1]\n",
    "    x = np.linspace(X[0], X[1], 10)\n",
    "    print(x)\n",
    "    d1 =  T.U[2*e[0]]\n",
    "    o1 =  T.U[2*e[0]+1]\n",
    "    d2 =  T.U[2*e[1]]\n",
    "    o2 =  T.U[2*e[1]+1]\n",
    "    L = np.abs(X[1]-X[0])\n",
    "    y = mef.NT1(x-X[0],L)*d1 +  mef.NT2(x-X[0],L)*o1 + mef.NT3(x-X[0],L)*d2 + mef.NT4(x-X[0],L)*o2\n",
    "    plt.plot(X, [d1, d2], 'ok', ms=10)\n",
    "    plt.plot(x,y,'--k')"
   ]
  },
  {
   "cell_type": "code",
   "execution_count": 5,
   "id": "deadly-kennedy",
   "metadata": {},
   "outputs": [
    {
     "data": {
      "text/plain": [
       "array([[ 0.        ],\n",
       "       [ 0.        ],\n",
       "       [ 0.        ],\n",
       "       [-0.00249169],\n",
       "       [-0.01744186],\n",
       "       [-0.00747508],\n",
       "       [ 0.        ],\n",
       "       [ 0.        ]])"
      ]
     },
     "execution_count": 5,
     "metadata": {},
     "output_type": "execute_result"
    }
   ],
   "source": [
    "T.U"
   ]
  },
  {
   "cell_type": "code",
   "execution_count": 6,
   "id": "deadly-planet",
   "metadata": {},
   "outputs": [
    {
     "data": {
      "text/plain": [
       "array([[-69767.44186047],\n",
       "       [-69767.44186047],\n",
       "       [116279.06976744],\n",
       "       [     0.        ],\n",
       "       [-50000.        ],\n",
       "       [     0.        ],\n",
       "       [  3488.37209302],\n",
       "       [     0.        ]])"
      ]
     },
     "execution_count": 6,
     "metadata": {},
     "output_type": "execute_result"
    }
   ],
   "source": [
    "T.F"
   ]
  },
  {
   "cell_type": "code",
   "execution_count": 7,
   "id": "incredible-chemistry",
   "metadata": {},
   "outputs": [
    {
     "data": {
      "text/plain": [
       "array([3, 4, 5])"
      ]
     },
     "execution_count": 7,
     "metadata": {},
     "output_type": "execute_result"
    }
   ],
   "source": [
    "T.R"
   ]
  },
  {
   "cell_type": "code",
   "execution_count": 8,
   "id": "electronic-helen",
   "metadata": {},
   "outputs": [
    {
     "data": {
      "text/plain": [
       "array([0, 1, 2, 6, 7])"
      ]
     },
     "execution_count": 8,
     "metadata": {},
     "output_type": "execute_result"
    }
   ],
   "source": [
    "T.S"
   ]
  },
  {
   "cell_type": "code",
   "execution_count": null,
   "id": "handy-drunk",
   "metadata": {},
   "outputs": [],
   "source": []
  }
 ],
 "metadata": {
  "kernelspec": {
   "display_name": "Python 3",
   "language": "python",
   "name": "python3"
  },
  "language_info": {
   "codemirror_mode": {
    "name": "ipython",
    "version": 3
   },
   "file_extension": ".py",
   "mimetype": "text/x-python",
   "name": "python",
   "nbconvert_exporter": "python",
   "pygments_lexer": "ipython3",
   "version": "3.9.2"
  }
 },
 "nbformat": 4,
 "nbformat_minor": 5
}
