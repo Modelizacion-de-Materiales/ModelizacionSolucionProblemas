{
 "cells": [
  {
   "cell_type": "markdown",
   "id": "charming-caribbean",
   "metadata": {},
   "source": [
    "Ejercicio 2 \n",
    "==========="
   ]
  },
  {
   "cell_type": "code",
   "execution_count": 7,
   "id": "adjacent-richards",
   "metadata": {},
   "outputs": [],
   "source": [
    "#from Ejercicio1.Ejercicio1 import springs\n",
    "from importlib.machinery import SourceFileLoader\n",
    "import matplotlib.pyplot as plt\n",
    "import numpy as np\n",
    "plt.rc('figure', figsize=(10,8))\n",
    "plt.rc('axes', labelsize=18)\n",
    "from IPython.display import DisplayObject"
   ]
  },
  {
   "cell_type": "markdown",
   "id": "artificial-scholarship",
   "metadata": {},
   "source": [
    "Los elementos que necesito para resolver el problema estan en este módulo:"
   ]
  },
  {
   "cell_type": "code",
   "execution_count": 60,
   "id": "legendary-occasion",
   "metadata": {},
   "outputs": [],
   "source": [
    "mef = SourceFileLoader(\n",
    "    'mef',\n",
    "    'mefmods.py'\n",
    ").load_module()"
   ]
  },
  {
   "cell_type": "code",
   "execution_count": 64,
   "id": "democratic-inflation",
   "metadata": {},
   "outputs": [],
   "source": [
    "Ejercicio2 = SourceFileLoader(\n",
    "    'Ejercicio2',\n",
    "    'Ejercicio2/Ejercicio2.py'\n",
    ").load_module()"
   ]
  },
  {
   "cell_type": "markdown",
   "id": "viral-sympathy",
   "metadata": {},
   "source": [
    "# Problema de la ménsula"
   ]
  },
  {
   "cell_type": "markdown",
   "id": "given-extreme",
   "metadata": {},
   "source": [
    "El archivo `Mensula.g` contiene el mallado y las condiciones de contorno para la ménsula"
   ]
  },
  {
   "cell_type": "code",
   "execution_count": 3,
   "id": "upper-distinction",
   "metadata": {},
   "outputs": [
    {
     "name": "stdout",
     "output_type": "stream",
     "text": [
      "GL\n",
      "2\n",
      "NODES\n",
      "3\n",
      "0.  0. 0  \n",
      "1.  0. 0\n",
      "1. 1. 0\n",
      "ELEMENTS\n",
      "3 2\n",
      "2 0 1 1 200 \n",
      "2 1 2 1 200 \n",
      "2 2 0 1 200 \n",
      "VINS\n",
      "3\n",
      "0 1 1 0 0\n",
      "1 -1 1 0 0\n",
      "2 -1 -1 100 0\n",
      "# node  vin=1: desplazamiento, vin = -1: fuerza\n",
      "# node  vinx viny valvinx valviny\n"
     ]
    }
   ],
   "source": [
    "! cat Ejercicio2/Mensula.g"
   ]
  },
  {
   "cell_type": "code",
   "execution_count": 4,
   "id": "advance-enemy",
   "metadata": {},
   "outputs": [],
   "source": [
    "M = Ejercicio2.Grilla(gefile='Ejercicio2/Mensula.g', case='Mensula')\n",
    "#P = Ejerccio2.Grilla(gefile='Ejercicio2/Puente.ge', case='Puente', pltscale=100)"
   ]
  },
  {
   "cell_type": "code",
   "execution_count": 72,
   "id": "instant-aurora",
   "metadata": {},
   "outputs": [
    {
     "data": {
      "image/png": "[encoded data removed]",
      "text/plain": [
       "<Figure size 720x576 with 1 Axes>"
      ]
     },
     "execution_count": 72,
     "metadata": {},
     "output_type": "execute_result"
    }
   ],
   "source": [
    "M.plotmesh(scale=1)"
   ]
  },
  {
   "cell_type": "code",
   "execution_count": 66,
   "id": "acceptable-boring",
   "metadata": {},
   "outputs": [],
   "source": [
    "LocalKsM = mef.read_local_matrices('Ejercicio2/MatricesElementales-Mensula.dat')"
   ]
  },
  {
   "cell_type": "code",
   "execution_count": 70,
   "id": "first-enclosure",
   "metadata": {},
   "outputs": [
    {
     "data": {
      "text/plain": [
       "[array([[ 200.,    0., -200.,    0.],\n",
       "        [   0.,    0.,    0.,    0.],\n",
       "        [-200.,    0.,  200.,    0.],\n",
       "        [   0.,    0.,    0.,    0.]]),\n",
       " array([[   0.,    0.,    0.,    0.],\n",
       "        [   0.,  200.,    0., -200.],\n",
       "        [   0.,    0.,    0.,    0.],\n",
       "        [   0., -200.,    0.,  200.]]),\n",
       " array([[ 70.71068,  70.71068, -70.71068, -70.71068],\n",
       "        [ 70.71068,  70.71068, -70.71068, -70.71068],\n",
       "        [-70.71068, -70.71068,  70.71068,  70.71068],\n",
       "        [-70.71068, -70.71068,  70.71068,  70.71068]])]"
      ]
     },
     "execution_count": 70,
     "metadata": {},
     "output_type": "execute_result"
    }
   ],
   "source": [
    "LocalKsM"
   ]
  },
  {
   "cell_type": "code",
   "execution_count": 44,
   "id": "strategic-documentary",
   "metadata": {},
   "outputs": [
    {
     "data": {
      "text/plain": [
       "array([[0, 1],\n",
       "       [1, 2],\n",
       "       [2, 0]])"
      ]
     },
     "execution_count": 44,
     "metadata": {},
     "output_type": "execute_result"
    }
   ],
   "source": [
    "M.MC"
   ]
  },
  {
   "cell_type": "code",
   "execution_count": 45,
   "id": "forced-bibliography",
   "metadata": {},
   "outputs": [
    {
     "data": {
      "text/plain": [
       "array([[0., 0., 0.],\n",
       "       [1., 0., 0.],\n",
       "       [1., 1., 0.]])"
      ]
     },
     "execution_count": 45,
     "metadata": {},
     "output_type": "execute_result"
    }
   ],
   "source": [
    "M.MN"
   ]
  },
  {
   "cell_type": "code",
   "execution_count": 46,
   "id": "boring-shell",
   "metadata": {},
   "outputs": [
    {
     "data": {
      "text/plain": [
       "array([[ 0.        ],\n",
       "       [ 0.        ],\n",
       "       [ 0.        ],\n",
       "       [ 0.        ],\n",
       "       [ 1.91421356],\n",
       "       [-0.5       ]])"
      ]
     },
     "execution_count": 46,
     "metadata": {},
     "output_type": "execute_result"
    }
   ],
   "source": [
    "M.U"
   ]
  },
  {
   "cell_type": "markdown",
   "id": "documentary-coffee",
   "metadata": {},
   "source": [
    "# Problema del Puente"
   ]
  },
  {
   "cell_type": "code",
   "execution_count": 71,
   "id": "suspended-christopher",
   "metadata": {},
   "outputs": [],
   "source": [
    "P = Ejercicio2.Grilla(gefile='Ejercicio2/Puente.ge', case='Puente')"
   ]
  },
  {
   "cell_type": "code",
   "execution_count": 72,
   "id": "color-tourist",
   "metadata": {},
   "outputs": [
    {
     "data": {
      "image/png": "[encoded data removed]",
      "text/plain": [
       "<Figure size 720x576 with 1 Axes>"
      ]
     },
     "execution_count": 72,
     "metadata": {},
     "output_type": "execute_result"
    }
   ],
   "source": [
    "P.plotmesh()"
   ]
  },
  {
   "cell_type": "code",
   "execution_count": null,
   "id": "italian-chambers",
   "metadata": {},
   "outputs": [],
   "source": [
    "P.U"
   ]
  },
  {
   "cell_type": "code",
   "execution_count": 73,
   "id": "collect-logan",
   "metadata": {},
   "outputs": [],
   "source": [
    "LocalKsP = mef.read_local_matrices('Ejercicio2/MatricesElementales-Puente.dat')"
   ]
  },
  {
   "cell_type": "code",
   "execution_count": 74,
   "id": "immediate-processing",
   "metadata": {},
   "outputs": [
    {
     "data": {
      "text/plain": [
       "[array([[ 18782970. ,   9391485. , -18782970. ,  -9391485. ],\n",
       "        [  9391485. ,   4695742.5,  -9391485. ,  -4695742.5],\n",
       "        [-18782970. ,  -9391485. ,  18782970. ,   9391485. ],\n",
       "        [ -9391485. ,  -4695742.5,   9391485. ,   4695742.5]]),\n",
       " array([[ 26250000.,         0., -26250000.,         0.],\n",
       "        [        0.,         0.,         0.,         0.],\n",
       "        [-26250000.,         0.,  26250000.,         0.],\n",
       "        [        0.,         0.,         0.,         0.]]),\n",
       " array([[        0.,         0.,         0.,         0.],\n",
       "        [        0.,  52500000.,         0., -52500000.],\n",
       "        [        0.,         0.,         0.,         0.],\n",
       "        [        0., -52500000.,         0.,  52500000.]]),\n",
       " array([[ 18782970. ,  -9391485. , -18782970. ,   9391485. ],\n",
       "        [ -9391485. ,   4695742.5,   9391485. ,  -4695742.5],\n",
       "        [-18782970. ,   9391485. ,  18782970. ,  -9391485. ],\n",
       "        [  9391485. ,  -4695742.5,  -9391485. ,   4695742.5]]),\n",
       " array([[ 26250000.,         0., -26250000.,         0.],\n",
       "        [        0.,         0.,         0.,         0.],\n",
       "        [-26250000.,         0.,  26250000.,         0.],\n",
       "        [        0.,         0.,         0.,         0.]])]"
      ]
     },
     "execution_count": 74,
     "metadata": {},
     "output_type": "execute_result"
    }
   ],
   "source": [
    "LocalKsP"
   ]
  },
  {
   "cell_type": "code",
   "execution_count": null,
   "id": "female-consequence",
   "metadata": {},
   "outputs": [],
   "source": []
  }
 ],
 "metadata": {
  "kernelspec": {
   "display_name": "Python 3",
   "language": "python",
   "name": "python3"
  },
  "language_info": {
   "codemirror_mode": {
    "name": "ipython",
    "version": 3
   },
   "file_extension": ".py",
   "mimetype": "text/x-python",
   "name": "python",
   "nbconvert_exporter": "python",
   "pygments_lexer": "ipython3",
   "version": "3.9.2"
  }
 },
 "nbformat": 4,
 "nbformat_minor": 5
}
