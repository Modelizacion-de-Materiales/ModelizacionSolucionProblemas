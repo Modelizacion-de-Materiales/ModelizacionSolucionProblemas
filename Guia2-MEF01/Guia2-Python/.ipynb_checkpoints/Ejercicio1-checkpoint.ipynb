{
 "cells": [
  {
   "cell_type": "code",
   "execution_count": 15,
   "id": "novel-exploration",
   "metadata": {},
   "outputs": [],
   "source": [
    "#from Ejercicio1.Ejercicio1 import springs\n",
    "from importlib.machinery import SourceFileLoader"
   ]
  },
  {
   "cell_type": "code",
   "execution_count": 43,
   "id": "amazing-wallace",
   "metadata": {},
   "outputs": [],
   "source": [
    "Ejercicio1 = SourceFileLoader(\n",
    "    'Ejercicio2',\n",
    "    'Ejercicio1/Ejercicio1.py'\n",
    ").load_module()"
   ]
  },
  {
   "cell_type": "code",
   "execution_count": 9,
   "id": "isolated-venue",
   "metadata": {},
   "outputs": [],
   "source": [
    "resortes = Ejercicio1.springs()"
   ]
  },
  {
   "cell_type": "code",
   "execution_count": 10,
   "id": "resistant-smell",
   "metadata": {},
   "outputs": [
    {
     "data": {
      "text/plain": [
       "array([[ 200., -200.,    0.,    0.],\n",
       "       [-200.,  400., -200.,    0.],\n",
       "       [   0., -200.,  400., -200.],\n",
       "       [   0.,    0., -200.,  200.]])"
      ]
     },
     "execution_count": 10,
     "metadata": {},
     "output_type": "execute_result"
    }
   ],
   "source": [
    "resortes.K"
   ]
  },
  {
   "cell_type": "code",
   "execution_count": 11,
   "id": "marked-shelf",
   "metadata": {},
   "outputs": [
    {
     "data": {
      "text/plain": [
       "array([[0.   ],\n",
       "       [0.002]])"
      ]
     },
     "execution_count": 11,
     "metadata": {},
     "output_type": "execute_result"
    }
   ],
   "source": [
    "resortes.us"
   ]
  },
  {
   "cell_type": "code",
   "execution_count": 14,
   "id": "classified-specialist",
   "metadata": {},
   "outputs": [
    {
     "data": {
      "text/plain": [
       "array([[0.        ],\n",
       "       [0.00066667],\n",
       "       [0.00133333],\n",
       "       [0.002     ]])"
      ]
     },
     "execution_count": 14,
     "metadata": {},
     "output_type": "execute_result"
    }
   ],
   "source": [
    "resortes.U"
   ]
  }
 ],
 "metadata": {
  "kernelspec": {
   "display_name": "Python 3",
   "language": "python",
   "name": "python3"
  },
  "language_info": {
   "codemirror_mode": {
    "name": "ipython",
    "version": 3
   },
   "file_extension": ".py",
   "mimetype": "text/x-python",
   "name": "python",
   "nbconvert_exporter": "python",
   "pygments_lexer": "ipython3",
   "version": "3.9.2"
  }
 },
 "nbformat": 4,
 "nbformat_minor": 5
}
