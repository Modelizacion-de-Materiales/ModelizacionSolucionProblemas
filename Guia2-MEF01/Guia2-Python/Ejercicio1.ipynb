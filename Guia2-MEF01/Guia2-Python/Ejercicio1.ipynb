{
 "cells": [
  {
   "cell_type": "code",
   "execution_count": 15,
   "id": "7bd4d662",
   "metadata": {},
   "outputs": [],
   "source": [
    "#from Ejercicio1.Ejercicio1 import springs\n",
    "from importlib.machinery import SourceFileLoader"
   ]
  },
  {
   "cell_type": "code",
   "execution_count": 43,
   "id": "c13ca38e",
   "metadata": {},
   "outputs": [],
   "source": [
    "Ejercicio1 = SourceFileLoader(\n",
    "    'Ejercicio2',\n",
    "    'Ejercicio1/Ejercicio1.py'\n",
    ").load_module()"
   ]
  },
  {
   "cell_type": "code",
   "execution_count": 9,
   "id": "3bbf6445",
   "metadata": {},
   "outputs": [],
   "source": [
    "resortes = Ejercicio1.springs()"
   ]
  },
  {
   "cell_type": "code",
   "execution_count": 10,
   "id": "b2fde0af",
   "metadata": {},
   "outputs": [
    {
     "data": {
      "text/plain": [
       "array([[ 200., -200.,    0.,    0.],\n",
       "       [-200.,  400., -200.,    0.],\n",
       "       [   0., -200.,  400., -200.],\n",
       "       [   0.,    0., -200.,  200.]])"
      ]
     },
     "execution_count": 10,
     "metadata": {},
     "output_type": "execute_result"
    }
   ],
   "source": [
    "resortes.K"
   ]
  },
  {
   "cell_type": "code",
   "execution_count": 11,
   "id": "5dca7325",
   "metadata": {},
   "outputs": [
    {
     "data": {
      "text/plain": [
       "array([[0.   ],\n",
       "       [0.002]])"
      ]
     },
     "execution_count": 11,
     "metadata": {},
     "output_type": "execute_result"
    }
   ],
   "source": [
    "resortes.us"
   ]
  },
  {
   "cell_type": "code",
   "execution_count": 14,
   "id": "b5328e5f",
   "metadata": {},
   "outputs": [
    {
     "data": {
      "text/plain": [
       "array([[0.        ],\n",
       "       [0.00066667],\n",
       "       [0.00133333],\n",
       "       [0.002     ]])"
      ]
     },
     "execution_count": 14,
     "metadata": {},
     "output_type": "execute_result"
    }
   ],
   "source": [
    "resortes.U"
   ]
  }
 ],
 "metadata": {
  "kernelspec": {
   "display_name": "Python 3 (ipykernel)",
   "language": "python",
   "name": "python3"
  },
  "language_info": {
   "codemirror_mode": {
    "name": "ipython",
    "version": 3
   },
   "file_extension": ".py",
   "mimetype": "text/x-python",
   "name": "python",
   "nbconvert_exporter": "python",
   "pygments_lexer": "ipython3",
   "version": "3.9.6"
  }
 },
 "nbformat": 4,
 "nbformat_minor": 5
}
