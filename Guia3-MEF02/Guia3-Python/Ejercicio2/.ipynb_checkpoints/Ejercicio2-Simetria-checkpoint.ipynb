{
 "cells": [
  {
   "cell_type": "code",
   "execution_count": 1,
   "id": "regular-british",
   "metadata": {},
   "outputs": [],
   "source": [
    "import gmsh\n",
    "import numpy as np\n",
    "from importlib.machinery import SourceFileLoader"
   ]
  },
  {
   "cell_type": "markdown",
   "id": "impressed-parallel",
   "metadata": {},
   "source": [
    "el metodo initialize 'abre' el programa."
   ]
  },
  {
   "cell_type": "code",
   "execution_count": 2,
   "id": "awful-genetics",
   "metadata": {},
   "outputs": [],
   "source": [
    "gmsh.initialize()"
   ]
  },
  {
   "cell_type": "markdown",
   "id": "forced-generic",
   "metadata": {},
   "source": [
    "'armamos' el modelo que queremos modificar:"
   ]
  },
  {
   "cell_type": "code",
   "execution_count": 3,
   "id": "pleasant-monster",
   "metadata": {},
   "outputs": [],
   "source": [
    "modelname = 'chapa_agujero'"
   ]
  },
  {
   "cell_type": "code",
   "execution_count": 4,
   "id": "quarterly-recruitment",
   "metadata": {},
   "outputs": [],
   "source": [
    "gmsh.model.add(modelname)"
   ]
  },
  {
   "cell_type": "code",
   "execution_count": 5,
   "id": "relevant-judgment",
   "metadata": {},
   "outputs": [],
   "source": [
    "lc = 2\n",
    "R = 1   # radio del agujero\n",
    "L = 10"
   ]
  },
  {
   "cell_type": "markdown",
   "id": "functioning-enlargement",
   "metadata": {},
   "source": [
    "Definimos las coordenadas de los puntos"
   ]
  },
  {
   "cell_type": "code",
   "execution_count": 6,
   "id": "important-fault",
   "metadata": {},
   "outputs": [],
   "source": [
    "P  = [\n",
    "     gmsh.model.geo.addPoint(0, 0, 0, lc/10),\n",
    "     gmsh.model.geo.addPoint(R, 0, 0, lc/3),\n",
    "     gmsh.model.geo.addPoint(L, 0, 0, lc) ,\n",
    "     gmsh.model.geo.addPoint(L, L/2, 0, lc) ,\n",
    "     gmsh.model.geo.addPoint(0, L/2, 0, lc/2) ,\n",
    "     gmsh.model.geo.addPoint(0, R, 0, lc/3)\n",
    "]"
   ]
  },
  {
   "cell_type": "markdown",
   "id": "polyphonic-curtis",
   "metadata": {},
   "source": [
    "Luego definimos las lineas"
   ]
  },
  {
   "cell_type": "code",
   "execution_count": 7,
   "id": "remarkable-philosophy",
   "metadata": {},
   "outputs": [],
   "source": [
    "L = [ \n",
    " gmsh.model.geo.addLine(P[1],P[2]),\n",
    " gmsh.model.geo.addLine(P[2],P[3]),\n",
    " gmsh.model.geo.addLine(P[3],P[4]),\n",
    " gmsh.model.geo.addLine(P[4],P[5]),\n",
    " gmsh.model.geo.addCircleArc(P[5],P[0],P[1])\n",
    "]"
   ]
  },
  {
   "cell_type": "markdown",
   "id": "excellent-topic",
   "metadata": {},
   "source": [
    "Las curvas nos van a servir para definir los bordes de nuestro modelo."
   ]
  },
  {
   "cell_type": "code",
   "execution_count": 8,
   "id": "backed-rebate",
   "metadata": {},
   "outputs": [],
   "source": [
    "C1 = gmsh.model.geo.addCurveLoop(L)"
   ]
  },
  {
   "cell_type": "markdown",
   "id": "italic-stadium",
   "metadata": {},
   "source": [
    "Y las superficies:"
   ]
  },
  {
   "cell_type": "code",
   "execution_count": 9,
   "id": "tight-soccer",
   "metadata": {},
   "outputs": [],
   "source": [
    "S1 = gmsh.model.geo.addPlaneSurface([C1])"
   ]
  },
  {
   "cell_type": "markdown",
   "id": "small-permission",
   "metadata": {},
   "source": [
    "le avisamos que ya estan todos los elementos geométricos:"
   ]
  },
  {
   "cell_type": "code",
   "execution_count": 10,
   "id": "statewide-casino",
   "metadata": {},
   "outputs": [],
   "source": [
    "gmsh.model.geo.synchronize()"
   ]
  },
  {
   "cell_type": "code",
   "execution_count": 11,
   "id": "vocal-culture",
   "metadata": {},
   "outputs": [],
   "source": [
    "EmpotradoX = gmsh.model.addPhysicalGroup(1, [L[3]])\n",
    "gmsh.model.setPhysicalName(1,EmpotradoX,'EmpotradoX')\n",
    "\n",
    "EmpotradoY = gmsh.model.addPhysicalGroup(1,[ L[0]])\n",
    "gmsh.model.setPhysicalName(1,EmpotradoY,'Empotradoy')\n",
    "\n",
    "Traccionado = gmsh.model.addPhysicalGroup(1, [L[1]])\n",
    "gmsh.model.setPhysicalName(1,Traccionado,'Traccionado')\n",
    "\n",
    "Superficie = gmsh.model.addPhysicalGroup(2,[S1])\n",
    "gmsh.model.setPhysicalName(2,Superficie, 'Superficie')"
   ]
  },
  {
   "cell_type": "code",
   "execution_count": 12,
   "id": "enormous-escape",
   "metadata": {},
   "outputs": [],
   "source": [
    "gmsh.model.mesh.generate(2)"
   ]
  },
  {
   "cell_type": "markdown",
   "id": "recognized-colleague",
   "metadata": {},
   "source": [
    "# El objeto mesh"
   ]
  },
  {
   "cell_type": "markdown",
   "id": "rocky-benchmark",
   "metadata": {},
   "source": [
    "El mallado es un objeto del cual podemos recuperar la información necesaria para interactuar con nuestro motor de elementos finitos. Por ejemplo para la informacion de los nodos:"
   ]
  },
  {
   "cell_type": "code",
   "execution_count": 13,
   "id": "intimate-provider",
   "metadata": {},
   "outputs": [],
   "source": [
    "NodeInfo = gmsh.model.mesh.get_nodes_for_physical_group(2,Superficie)\n",
    "\n",
    "NumeroNodos = NodeInfo[0].shape[0]"
   ]
  },
  {
   "cell_type": "code",
   "execution_count": 14,
   "id": "progressive-penalty",
   "metadata": {},
   "outputs": [],
   "source": [
    "MN = NodeInfo[1].reshape(NumeroNodos , 3)"
   ]
  },
  {
   "cell_type": "markdown",
   "id": "bizarre-coordinator",
   "metadata": {},
   "source": [
    "## Elementos"
   ]
  },
  {
   "cell_type": "markdown",
   "id": "fancy-perth",
   "metadata": {},
   "source": [
    "Podemos ser un poco más precabios y tomar solo los triángulos, que son los que nos interesan para la guía "
   ]
  },
  {
   "cell_type": "code",
   "execution_count": 15,
   "id": "assisted-decrease",
   "metadata": {},
   "outputs": [],
   "source": [
    "ETAGS, ELEMENTS = gmsh.model.mesh.get_elements_by_type(2)"
   ]
  },
  {
   "cell_type": "markdown",
   "id": "treated-accreditation",
   "metadata": {},
   "source": [
    "la matriz de conectividad también hay que reformatear para tener lo que estamos acostumbrados."
   ]
  },
  {
   "cell_type": "code",
   "execution_count": 16,
   "id": "level-orlando",
   "metadata": {},
   "outputs": [],
   "source": [
    "MC = ELEMENTS.reshape([ETAGS.shape[0],3])"
   ]
  },
  {
   "cell_type": "markdown",
   "id": "dominant-recycling",
   "metadata": {},
   "source": [
    "# Condiciones de contorno"
   ]
  },
  {
   "cell_type": "markdown",
   "id": "acquired-edwards",
   "metadata": {},
   "source": [
    "Con las definiciones de los Physical Groups, podemos sacar los índices de los nodos que estan empotrados o traccionados. Necesitamos definir una 'entidad' para los elements Traccionados:"
   ]
  },
  {
   "cell_type": "code",
   "execution_count": 17,
   "id": "collective-sociology",
   "metadata": {},
   "outputs": [],
   "source": [
    "entityTraccionada = gmsh.model.getEntitiesForPhysicalGroup(1, Traccionado)\n",
    "Tgroup, Ttraccionada, Ltraccionada = gmsh.model.mesh.getElements(1, entityTraccionada[0])\n",
    "\n",
    "Ltraccionada = Ltraccionada[0].reshape(Ttraccionada[0].shape[0],2)"
   ]
  },
  {
   "cell_type": "markdown",
   "id": "hundred-authorization",
   "metadata": {},
   "source": [
    "Con los elementos líneas traccionadas podemos calcular las longitudes y distribuir la fuerza externa. "
   ]
  },
  {
   "cell_type": "code",
   "execution_count": 18,
   "id": "racial-resource",
   "metadata": {},
   "outputs": [],
   "source": [
    "Longitudes = np.abs( MN[Ltraccionada[:,0]-1,1] - MN[Ltraccionada[:,1]-1,1] )"
   ]
  },
  {
   "cell_type": "markdown",
   "id": "organic-philadelphia",
   "metadata": {},
   "source": [
    "Ahora puedo calcular las fuerzas:"
   ]
  },
  {
   "cell_type": "code",
   "execution_count": 19,
   "id": "handed-syntax",
   "metadata": {},
   "outputs": [],
   "source": [
    "Fuerzas = np.zeros((2*NumeroNodos,1))\n",
    "espesor = 1\n",
    "tension = 1000 #Pa\n",
    "\n",
    "for l, linea in enumerate(Ltraccionada):\n",
    "    Flocal = np.array([[1],[1]])*tension*espesor*Longitudes[l]/2\n",
    "    n1 = linea[0]\n",
    "    n2 = linea[1]\n",
    "    #print(Flocal)\n",
    "    Fuerzas[ np.array([2*(n1-1), 2*(n2-1)], dtype=int)] += Flocal\n",
    "Desplazamientos = np.zeros((2*NumeroNodos,1))\n",
    "\n",
    "Exy = np.hstack( (Fuerzas.reshape(NumeroNodos, 2) , np.zeros((NumeroNodos, 1))) )"
   ]
  },
  {
   "cell_type": "code",
   "execution_count": 20,
   "id": "ranking-disorder",
   "metadata": {},
   "outputs": [],
   "source": [
    "fext = gmsh.view.add('FuerzasExternas')\n",
    "Fext = gmsh.view.addModelData(fext,0,modelname,'NodeData',NodeInfo[0],Exy)"
   ]
  },
  {
   "cell_type": "markdown",
   "id": "comfortable-stockholm",
   "metadata": {},
   "source": [
    "# Empotrados"
   ]
  },
  {
   "cell_type": "markdown",
   "id": "pending-dodge",
   "metadata": {},
   "source": [
    "Para definir los nodos empotrados necesito solamente los índices de los nodos en dicho physical group"
   ]
  },
  {
   "cell_type": "code",
   "execution_count": 21,
   "id": "centered-personal",
   "metadata": {},
   "outputs": [],
   "source": [
    "NodosEmpotradosX = gmsh.model.mesh.get_nodes_for_physical_group(1,EmpotradoX)\n",
    "NodosEmpotradosY = gmsh.model.mesh.get_nodes_for_physical_group(1,EmpotradoY)"
   ]
  },
  {
   "cell_type": "markdown",
   "id": "alternate-orientation",
   "metadata": {},
   "source": [
    "Con eso ya puedo calcular los valores de los índices de los nodos que resultarán empotrados."
   ]
  },
  {
   "cell_type": "code",
   "execution_count": 22,
   "id": "several-revelation",
   "metadata": {},
   "outputs": [],
   "source": [
    "s = []\n",
    "for n, nodo in enumerate(NodosEmpotradosX[0]):\n",
    "    s.append(\n",
    "        2*(nodo-1)\n",
    "    )\n",
    "for n, nodo in enumerate(NodosEmpotradosY[0]):\n",
    "    s.append(\n",
    "        2*(nodo-1)+1\n",
    "    )\n",
    "\n",
    "s = np.array(s).astype(int).ravel()\n",
    "r = np.linspace(0, 2*(NumeroNodos-1)+1, 2*NumeroNodos).astype(int)\n",
    "r = np.delete( r, s )"
   ]
  },
  {
   "cell_type": "markdown",
   "id": "unlimited-identification",
   "metadata": {},
   "source": [
    "# Nos divertimos un rato"
   ]
  },
  {
   "cell_type": "code",
   "execution_count": 23,
   "id": "indie-apparel",
   "metadata": {},
   "outputs": [],
   "source": [
    "#import matplotlib.pyplot as plt\n",
    "#from matplotlib import quiver\n",
    "#\n",
    "#plt.style.use('default')\n",
    "#plt.rc('figure',figsize=(15,10))\n",
    "#\n",
    "##plt.plot(MN[:,0],MN[:,1],'ok')\n",
    "#\n",
    "##plt.plot(MNE[:,0], MNE[:,1], label='Empotrados', lw = 5)\n",
    "##plt.plot(MNT[:,0], MNT[:,1], label='Traccionados', lw = 5)\n",
    "#fig = plt.figure()\n",
    "#ax = fig.add_axes([0.1, 0.2, 0.5, 0.6])\n",
    "#ax.triplot(MN[:,0],MN[:,1],MC-1, )\n",
    "##ax.plot(MN[:,0],MN[:,1],'o')\n",
    "#ax.quiver( MN[:,0], MN[:,1], Exy[:,0], Exy[:,1], linewidth=5, units='width', scale=10000)\n",
    "##ax.set_xlim(-1, L+(Fx/500).max())"
   ]
  },
  {
   "cell_type": "markdown",
   "id": "alone-agriculture",
   "metadata": {},
   "source": [
    "# Agregar Resulatados"
   ]
  },
  {
   "cell_type": "code",
   "execution_count": 24,
   "id": "indian-congo",
   "metadata": {},
   "outputs": [],
   "source": [
    "# import mefmods as mef\n",
    "mef = SourceFileLoader('mef','mefmods.py').load_module()"
   ]
  },
  {
   "cell_type": "code",
   "execution_count": 25,
   "id": "prostate-horizon",
   "metadata": {},
   "outputs": [],
   "source": [
    "ETYPES = 2*np.ones(len(MC)).astype(int)\n",
    "\n",
    "nu = 0.3\n",
    "\n",
    "E = 210E9\n",
    "\n",
    "MP = np.hstack(\n",
    "        (\n",
    "            np.ones((len(MC), 1)),\n",
    "            np.ones((len(MC), 1))*nu,\n",
    "            np.ones((len(MC), 1))*E\n",
    "            )\n",
    "        )"
   ]
  },
  {
   "cell_type": "code",
   "execution_count": 26,
   "id": "multiple-square",
   "metadata": {},
   "outputs": [],
   "source": [
    "K = mef.ensamble(MC-1, MN, MP, 2, ETYPES, 'Chapa-Asimetrica-2021')"
   ]
  },
  {
   "cell_type": "code",
   "execution_count": 27,
   "id": "temporal-savage",
   "metadata": {},
   "outputs": [],
   "source": [
    "s.sort()"
   ]
  },
  {
   "cell_type": "code",
   "execution_count": 31,
   "id": "bulgarian-company",
   "metadata": {},
   "outputs": [],
   "source": [
    "#Desplazamientos[r] = \n",
    "Desplazamientos, FResultado = mef.resolvermef(r,s,K,Desplazamientos[s], Fuerzas[r], 'Chapa-Asimetrica-2021')"
   ]
  },
  {
   "cell_type": "code",
   "execution_count": 32,
   "id": "toxic-speed",
   "metadata": {},
   "outputs": [],
   "source": [
    "# import mefmods as mef\n",
    "mef = SourceFileLoader('mef','mefmods.py').load_module()\n",
    "sigma = mef.getstress2(MC, ETYPES, MP, MN, Desplazamientos)"
   ]
  },
  {
   "cell_type": "code",
   "execution_count": 33,
   "id": "vocal-spanish",
   "metadata": {},
   "outputs": [],
   "source": [
    "SA = 0.5*(sigma[:,0]+sigma[:,1])\n",
    "SB = np.sqrt(SA**2+ sigma[:,2]**2)\n",
    "SIGMA_MAX = SA+SB\n",
    "SIGMA_MIN = SA-SB"
   ]
  },
  {
   "cell_type": "code",
   "execution_count": 34,
   "id": "outdoor-skiing",
   "metadata": {},
   "outputs": [],
   "source": [
    "Rxy = np.hstack( (FResultado.reshape(NumeroNodos, 2) , np.zeros((NumeroNodos, 1))) )"
   ]
  },
  {
   "cell_type": "code",
   "execution_count": 35,
   "id": "interpreted-supervision",
   "metadata": {},
   "outputs": [],
   "source": [
    "Dxy = np.hstack( (Desplazamientos.reshape(NumeroNodos, 2) , np.zeros((NumeroNodos, 1))) )"
   ]
  },
  {
   "cell_type": "code",
   "execution_count": 43,
   "id": "prerequisite-columbia",
   "metadata": {},
   "outputs": [],
   "source": [
    "SIGMA_AVE_MAX = np.zeros([NumeroNodos,1])"
   ]
  },
  {
   "cell_type": "code",
   "execution_count": 44,
   "id": "demographic-deputy",
   "metadata": {},
   "outputs": [],
   "source": [
    "SIGMA_AVE_MIN = np.zeros([NumeroNodos,1])"
   ]
  },
  {
   "cell_type": "code",
   "execution_count": 45,
   "id": "straight-tablet",
   "metadata": {},
   "outputs": [],
   "source": [
    "for node in range(NumeroNodos):\n",
    "    SIGMA_AVE_MAX[node] = SIGMA_MAX[ ETAGS[ (MC == node+1).any(axis=1) ] - ETAGS.min() ].mean()"
   ]
  },
  {
   "cell_type": "code",
   "execution_count": 46,
   "id": "literary-peter",
   "metadata": {},
   "outputs": [],
   "source": [
    "for node in range(NumeroNodos):\n",
    "    SIGMA_AVE_MIN[node] = SIGMA_MIN[ ETAGS[ (MC == node+1).any(axis=1) ] - ETAGS.min() ].mean()"
   ]
  },
  {
   "cell_type": "code",
   "execution_count": null,
   "id": "grand-morris",
   "metadata": {},
   "outputs": [],
   "source": []
  },
  {
   "cell_type": "markdown",
   "id": "vital-research",
   "metadata": {},
   "source": [
    "# Guardo los resultados "
   ]
  },
  {
   "cell_type": "code",
   "execution_count": 36,
   "id": "governmental-timing",
   "metadata": {},
   "outputs": [],
   "source": [
    "despview = gmsh.view.add('Desplazamientos')\n",
    "Desp = gmsh.view.addModelData(despview,0,modelname,'NodeData',NodeInfo[0],Dxy)"
   ]
  },
  {
   "cell_type": "code",
   "execution_count": 37,
   "id": "toxic-namibia",
   "metadata": {},
   "outputs": [],
   "source": [
    "forview = gmsh.view.add('Fuerzas')\n",
    "Fza = gmsh.view.addModelData(forview,0,modelname,'NodeData',NodeInfo[0], Rxy)"
   ]
  },
  {
   "cell_type": "code",
   "execution_count": 38,
   "id": "outer-status",
   "metadata": {},
   "outputs": [],
   "source": [
    "tenmaxview = gmsh.view.add('Tension Maxima')\n",
    "tenmax = gmsh.view.addModelData(tenmaxview,0,modelname,'ElementData',ETAGS, SIGMA_MAX.reshape(-1,1))"
   ]
  },
  {
   "cell_type": "code",
   "execution_count": 39,
   "id": "analyzed-method",
   "metadata": {},
   "outputs": [],
   "source": [
    "tenminview = gmsh.view.add('Tension Mínima')\n",
    "tenmax = gmsh.view.addModelData(tenminview,0,modelname,'ElementData',ETAGS, SIGMA_MIN.reshape(-1,1))"
   ]
  },
  {
   "cell_type": "code",
   "execution_count": 40,
   "id": "allied-papua",
   "metadata": {},
   "outputs": [],
   "source": [
    "tenxview = gmsh.view.add('Sigma_x')\n",
    "tenx = gmsh.view.addModelData(tenxview,0,modelname,'ElementData',ETAGS, sigma[:,0].reshape(-1,1))"
   ]
  },
  {
   "cell_type": "code",
   "execution_count": 41,
   "id": "attended-commission",
   "metadata": {},
   "outputs": [],
   "source": [
    "tenyview = gmsh.view.add('Sigma_y')\n",
    "teny = gmsh.view.addModelData(tenyview,0,modelname,'ElementData',ETAGS, sigma[:,1].reshape(-1,1))"
   ]
  },
  {
   "cell_type": "code",
   "execution_count": 42,
   "id": "compound-hindu",
   "metadata": {},
   "outputs": [],
   "source": [
    "tencorte = gmsh.view.add('Tau_xy')\n",
    "tenc = gmsh.view.addModelData(tencorte, 0,modelname,'ElementData',ETAGS, sigma[:,2].reshape(-1,1))"
   ]
  },
  {
   "cell_type": "code",
   "execution_count": 47,
   "id": "stunning-harvard",
   "metadata": {},
   "outputs": [],
   "source": [
    "tenmaxave = gmsh.view.add('Sigma_max_ave')\n",
    "tenmave = gmsh.view.addModelData(tenmaxave, 0,modelname,'NodeData',NodeInfo[0], SIGMA_AVE_MAX.reshape(-1,1))"
   ]
  },
  {
   "cell_type": "code",
   "execution_count": 48,
   "id": "violent-japanese",
   "metadata": {},
   "outputs": [],
   "source": [
    "tenminave = gmsh.view.add('Sigma_min_ave')\n",
    "tenmiave = gmsh.view.addModelData(tenminave, 0,modelname,'NodeData',NodeInfo[0], SIGMA_AVE_MIN.reshape(-1,1))"
   ]
  },
  {
   "cell_type": "code",
   "execution_count": null,
   "id": "central-choir",
   "metadata": {},
   "outputs": [],
   "source": [
    "gmsh.fltk.run()"
   ]
  },
  {
   "cell_type": "code",
   "execution_count": null,
   "id": "dominant-footwear",
   "metadata": {},
   "outputs": [],
   "source": [
    "gmsh.finalize()"
   ]
  }
 ],
 "metadata": {
  "kernelspec": {
   "display_name": "Python 3",
   "language": "python",
   "name": "python3"
  },
  "language_info": {
   "codemirror_mode": {
    "name": "ipython",
    "version": 3
   },
   "file_extension": ".py",
   "mimetype": "text/x-python",
   "name": "python",
   "nbconvert_exporter": "python",
   "pygments_lexer": "ipython3",
   "version": "3.9.2"
  }
 },
 "nbformat": 4,
 "nbformat_minor": 5
}
