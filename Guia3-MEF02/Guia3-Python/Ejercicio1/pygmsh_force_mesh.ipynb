{
 "cells": [
  {
   "cell_type": "code",
   "execution_count": 1,
   "id": "df0ceb38",
   "metadata": {},
   "outputs": [],
   "source": [
    "import gmsh\n",
    "import matplotlib.pyplot as plt\n",
    "plt.rc('figure',figsize=(14,7))\n",
    "plt.rc('axes',labelsize=24)\n",
    "plt.rc('xtick',labelsize=18)\n",
    "plt.rc('ytick',labelsize=18)\n",
    "import numpy as np"
   ]
  },
  {
   "cell_type": "code",
   "execution_count": 2,
   "id": "5c5e7d9f",
   "metadata": {},
   "outputs": [
    {
     "name": "stdout",
     "output_type": "stream",
     "text": [
      "Info    : Increasing process stack size (8192 kB < 16 MB)\n"
     ]
    }
   ],
   "source": [
    "gmsh.initialize()"
   ]
  },
  {
   "cell_type": "markdown",
   "id": "6e200824",
   "metadata": {},
   "source": [
    " aunque vallamos a poner los elementos a mano, necesitamos generar la superficie para asignarlos:"
   ]
  },
  {
   "cell_type": "code",
   "execution_count": 3,
   "id": "398adeaa",
   "metadata": {},
   "outputs": [],
   "source": [
    "lc = 1\n",
    "L = 10\n",
    "modelname = 'chapa-asym'\n",
    "gmsh.model.add(modelname)\n",
    "p1 = gmsh.model.geo.addPoint(0, 0, 0, lc/5)\n",
    "p2 = gmsh.model.geo.addPoint(0, L, 0, lc/5)\n",
    "p3 = gmsh.model.geo.addPoint(2*L, L, 0, lc) \n",
    "p4 = gmsh.model.geo.addPoint(2*L, 0, 0, lc) \n",
    "\n",
    "l1 = gmsh.model.geo.addLine(p1, p2)\n",
    "l2 = gmsh.model.geo.addLine(p2, p3)\n",
    "l3 = gmsh.model.geo.addLine(p3, p4)\n",
    "l4 = gmsh.model.geo.addLine(p4, p1)\n",
    "\n",
    "C1 = gmsh.model.geo.addCurveLoop([l1, l2, l3, l4])\n",
    "\n",
    "S1 = gmsh.model.geo.addPlaneSurface([C1])"
   ]
  },
  {
   "cell_type": "code",
   "execution_count": 4,
   "id": "7f9e58c4",
   "metadata": {},
   "outputs": [],
   "source": [
    "gmsh.model.geo.synchronize()"
   ]
  },
  {
   "cell_type": "code",
   "execution_count": 5,
   "id": "e3622c5d",
   "metadata": {},
   "outputs": [],
   "source": [
    "Empotrado = gmsh.model.addPhysicalGroup(1, [l4])\n",
    "gmsh.model.setPhysicalName(1,Empotrado,'Empotrado')\n",
    "Traccionado = gmsh.model.addPhysicalGroup(1, [l2])\n",
    "gmsh.model.setPhysicalName(1,Traccionado,'Traccionado')\n",
    "Superficie = gmsh.model.addPhysicalGroup(2,[S1])\n",
    "gmsh.model.setPhysicalName(2,Superficie, 'Superficie')"
   ]
  },
  {
   "cell_type": "code",
   "execution_count": 6,
   "id": "2206ae9f",
   "metadata": {},
   "outputs": [],
   "source": [
    "L = 10\n",
    "MN = np.array(\n",
    "[\n",
    "    [0,0,0],\n",
    "    [0, L, 0],\n",
    "    [2*L,L,0 ],\n",
    "    [2*L,0,0],\n",
    "]\n",
    ")\n",
    "nodetags = np.linspace(1,MN.shape[0], MN.shape[0]).astype(int)"
   ]
  },
  {
   "cell_type": "code",
   "execution_count": 7,
   "id": "e823fc75",
   "metadata": {},
   "outputs": [],
   "source": [
    "MC = np.array([ [1,3,2], [1,4,3] ])"
   ]
  },
  {
   "cell_type": "code",
   "execution_count": 8,
   "id": "d8cb94b9",
   "metadata": {},
   "outputs": [
    {
     "data": {
      "text/plain": [
       "[<matplotlib.lines.Line2D at 0x7f597f871310>,\n",
       " <matplotlib.lines.Line2D at 0x7f597f8715e0>]"
      ]
     },
     "execution_count": 8,
     "metadata": {},
     "output_type": "execute_result"
    },
    {
     "data": {
      "image/png": "[encoded data removed]",
      "text/plain": [
       "<Figure size 1008x504 with 1 Axes>"
      ]
     },
     "metadata": {
      "needs_background": "light"
     },
     "output_type": "display_data"
    }
   ],
   "source": [
    "plt.triplot(MN[:,0], MN[:,1], MC-1)"
   ]
  },
  {
   "cell_type": "code",
   "execution_count": 9,
   "id": "fb3ddbe9",
   "metadata": {},
   "outputs": [],
   "source": [
    "Empotrados = np.array([1,2])\n",
    "Traccionados = np.array([3,4])"
   ]
  },
  {
   "cell_type": "code",
   "execution_count": 10,
   "id": "830b8eec",
   "metadata": {},
   "outputs": [],
   "source": [
    "elementags = [[1,2]]"
   ]
  },
  {
   "cell_type": "markdown",
   "id": "c44ec779",
   "metadata": {},
   "source": [
    "Ponemos el mallado a mano"
   ]
  },
  {
   "cell_type": "code",
   "execution_count": 11,
   "id": "c9e66232",
   "metadata": {},
   "outputs": [],
   "source": [
    "gmsh.model.mesh.add_nodes(2,S1,nodetags, MN.ravel(),)\n",
    "gmsh.model.mesh.addElements(2, S1, [2], elementags, [MC.ravel()])\n",
    "gmsh.model.mesh.add_elements(1,l4, [1], [[len(nodetags)+1]], [Empotrados])\n",
    "gmsh.model.mesh.add_elements(1,l2, [1], [[len(nodetags)+2]], [Traccionados])"
   ]
  },
  {
   "cell_type": "code",
   "execution_count": 12,
   "id": "2d4c6192",
   "metadata": {},
   "outputs": [],
   "source": [
    "gmsh.option.setNumber(\"Mesh.MshFileVersion\", 2.2)"
   ]
  },
  {
   "cell_type": "code",
   "execution_count": 13,
   "id": "bd2de4cc",
   "metadata": {},
   "outputs": [
    {
     "name": "stdout",
     "output_type": "stream",
     "text": [
      "Info    : Writing 'chapa-asym.msh'...\n",
      "Info    : Done writing 'chapa-asym.msh'\n"
     ]
    }
   ],
   "source": [
    "gmsh.write('chapa-asym.msh')"
   ]
  },
  {
   "cell_type": "code",
   "execution_count": 14,
   "id": "5905ea7e",
   "metadata": {},
   "outputs": [],
   "source": [
    "ETAGS, ELEMENTS = gmsh.model.mesh.get_elements_by_type(2)"
   ]
  },
  {
   "cell_type": "code",
   "execution_count": 15,
   "id": "c9a80325",
   "metadata": {},
   "outputs": [],
   "source": [
    "import mefmods as mef"
   ]
  },
  {
   "cell_type": "code",
   "execution_count": 16,
   "id": "10283939",
   "metadata": {},
   "outputs": [],
   "source": [
    "ETYPES = 2*np.ones(len(MC)).astype(int)\n",
    "\n",
    "nu = 0.3\n",
    "\n",
    "E = 30e6 # 210E9\n",
    "\n",
    "MP = np.hstack(\n",
    "        (\n",
    "            np.ones((len(MC), 1)),\n",
    "            np.ones((len(MC), 1))*nu,\n",
    "            np.ones((len(MC), 1))*E\n",
    "            )\n",
    "        )"
   ]
  },
  {
   "cell_type": "code",
   "execution_count": 17,
   "id": "4e1b5f76",
   "metadata": {},
   "outputs": [],
   "source": [
    "K, Kelem =  mef.ensamble(MC-1, MN-1, MP, 2, ETYPES, 'chapa-asym', return_elementles=True)"
   ]
  },
  {
   "cell_type": "code",
   "execution_count": 18,
   "id": "69eafb13",
   "metadata": {},
   "outputs": [
    {
     "data": {
      "text/plain": [
       "array([[ 19780219.78,         0.  , -11538461.54,   5769230.77,         0.  , -10714285.71,\n",
       "         -8241758.24,   4945054.95],\n",
       "       [        0.  ,  35851648.35,   4945054.95, -32967032.97, -10714285.71,         0.  ,\n",
       "          5769230.77,  -2884615.38],\n",
       "       [-11538461.54,   4945054.95,  19780219.78, -10714285.71,  -8241758.24,   5769230.77,\n",
       "                0.  ,         0.  ],\n",
       "       [  5769230.77, -32967032.97, -10714285.71,  35851648.35,   4945054.95,  -2884615.38,\n",
       "                0.  ,         0.  ],\n",
       "       [        0.  , -10714285.71,  -8241758.24,   4945054.95,  19780219.78,         0.  ,\n",
       "        -11538461.54,   5769230.77],\n",
       "       [-10714285.71,         0.  ,   5769230.77,  -2884615.38,         0.  ,  35851648.35,\n",
       "          4945054.95, -32967032.97],\n",
       "       [ -8241758.24,   5769230.77,         0.  ,         0.  , -11538461.54,   4945054.95,\n",
       "         19780219.78, -10714285.71],\n",
       "       [  4945054.95,  -2884615.38,         0.  ,         0.  ,   5769230.77, -32967032.97,\n",
       "        -10714285.71,  35851648.35]])"
      ]
     },
     "execution_count": 18,
     "metadata": {},
     "output_type": "execute_result"
    }
   ],
   "source": [
    "K"
   ]
  },
  {
   "cell_type": "code",
   "execution_count": 19,
   "id": "c82fc964",
   "metadata": {},
   "outputs": [
    {
     "data": {
      "text/plain": [
       "array([[ 140.,    0.,    0.,  -70., -140.,   70.],\n",
       "       [   0.,  400.,  -60.,    0.,   60., -400.],\n",
       "       [   0.,  -60.,  100.,    0., -100.,   60.],\n",
       "       [ -70.,    0.,    0.,   35.,   70.,  -35.],\n",
       "       [-140.,   60., -100.,   70.,  240., -130.],\n",
       "       [  70., -400.,   60.,  -35., -130.,  435.]])"
      ]
     },
     "execution_count": 19,
     "metadata": {},
     "output_type": "execute_result"
    }
   ],
   "source": [
    "Kelem[0]*0.91/75e3"
   ]
  },
  {
   "cell_type": "code",
   "execution_count": 20,
   "id": "6c749722",
   "metadata": {},
   "outputs": [
    {
     "data": {
      "text/plain": [
       "array([[ 100.,    0., -100.,   60.,    0.,  -60.],\n",
       "       [   0.,   35.,   70.,  -35.,  -70.,    0.],\n",
       "       [-100.,   70.,  240., -130., -140.,   60.],\n",
       "       [  60.,  -35., -130.,  435.,   70., -400.],\n",
       "       [   0.,  -70., -140.,   70.,  140.,    0.],\n",
       "       [ -60.,    0.,   60., -400.,    0.,  400.]])"
      ]
     },
     "execution_count": 20,
     "metadata": {},
     "output_type": "execute_result"
    }
   ],
   "source": [
    "Kelem[1]*0.91/75e3"
   ]
  },
  {
   "cell_type": "code",
   "execution_count": 21,
   "id": "9cc7dad0",
   "metadata": {},
   "outputs": [
    {
     "data": {
      "text/plain": [
       "array([[ 48.,   0., -28.,  14.,   0., -26., -20.,  12.],\n",
       "       [  0.,  87.,  12., -80., -26.,   0.,  14.,  -7.],\n",
       "       [-28.,  12.,  48., -26., -20.,  14.,   0.,   0.],\n",
       "       [ 14., -80., -26.,  87.,  12.,  -7.,   0.,   0.],\n",
       "       [  0., -26., -20.,  12.,  48.,   0., -28.,  14.],\n",
       "       [-26.,   0.,  14.,  -7.,   0.,  87.,  12., -80.],\n",
       "       [-20.,  14.,   0.,   0., -28.,  12.,  48., -26.],\n",
       "       [ 12.,  -7.,   0.,   0.,  14., -80., -26.,  87.]])"
      ]
     },
     "execution_count": 21,
     "metadata": {},
     "output_type": "execute_result"
    }
   ],
   "source": [
    "K*0.91/375000"
   ]
  },
  {
   "cell_type": "code",
   "execution_count": 22,
   "id": "0b7191f8",
   "metadata": {},
   "outputs": [],
   "source": [
    "s = np.array([0,1,2,3])"
   ]
  },
  {
   "cell_type": "code",
   "execution_count": 23,
   "id": "1376794c",
   "metadata": {},
   "outputs": [],
   "source": [
    "r = np.array([4,5,6,7])"
   ]
  },
  {
   "cell_type": "code",
   "execution_count": 24,
   "id": "855e4108",
   "metadata": {},
   "outputs": [],
   "source": [
    "U, F = mef.resolvermef(r, s, K, np.array([0,0,0,0]).reshape(-1,1), np.array([50e3,0, 50e3,0]).reshape(-1,1),'chapa-asym')"
   ]
  },
  {
   "cell_type": "code",
   "execution_count": 25,
   "id": "36b4e8a8",
   "metadata": {},
   "outputs": [],
   "source": [
    "NumeroNodos, dim = MN.shape"
   ]
  },
  {
   "cell_type": "code",
   "execution_count": 26,
   "id": "fd145fa5",
   "metadata": {},
   "outputs": [],
   "source": [
    "Dxy = U.reshape(NumeroNodos, 2)"
   ]
  },
  {
   "cell_type": "code",
   "execution_count": 27,
   "id": "0ec74f63",
   "metadata": {},
   "outputs": [],
   "source": [
    "Dxyz = np.hstack([Dxy, np.zeros((NumeroNodos, 1))])"
   ]
  },
  {
   "cell_type": "code",
   "execution_count": 31,
   "id": "71655df3",
   "metadata": {},
   "outputs": [],
   "source": [
    "NodeInfo = gmsh.model.mesh.get_nodes()"
   ]
  },
  {
   "cell_type": "code",
   "execution_count": 32,
   "id": "cba77555",
   "metadata": {},
   "outputs": [],
   "source": [
    "despview = gmsh.view.add('Desplazamientos')\n",
    "Desp = gmsh.view.addModelData(despview,0,modelname,'NodeData',NodeInfo[0],Dxyz)"
   ]
  },
  {
   "cell_type": "code",
   "execution_count": 33,
   "id": "b5c126a9",
   "metadata": {},
   "outputs": [
    {
     "name": "stdout",
     "output_type": "stream",
     "text": [
      "-------------------------------------------------------\n",
      "Version       : 4.8.4\n",
      "License       : GNU General Public License\n",
      "Build OS      : Linux64-sdk\n",
      "Build date    : 20210428\n",
      "Build host    : gmsh.info\n",
      "Build options : 64Bit ALGLIB ANN Bamg Blas[petsc] Blossom Cgns DIntegration Dlopen DomHex Eigen Fltk Gmm Hxt Jpeg[fltk] Kbipack Lapack[petsc] LinuxJoystick MathEx Med Mesh Metis Mmg Mpeg Netgen ONELAB ONELABMetamodel OpenCASCADE OpenCASCADE-CAF OpenGL OptHom PETSc Parser Plugins Png[fltk] Post QuadTri Solver TetGen/BR Voro++ Zlib[fltk]\n",
      "FLTK version  : 1.4.0\n",
      "PETSc version : 3.14.4 (real arithmtic)\n",
      "OCC version   : 7.6.0\n",
      "MED version   : 4.1.0\n",
      "Packaged by   : geuzaine\n",
      "Web site      : https://gmsh.info\n",
      "Issue tracker : https://gitlab.onelab.info/gmsh/gmsh/issues\n",
      "-------------------------------------------------------\n"
     ]
    }
   ],
   "source": [
    "gmsh.fltk.run()"
   ]
  },
  {
   "cell_type": "code",
   "execution_count": 46,
   "id": "7a22d7ba",
   "metadata": {},
   "outputs": [
    {
     "data": {
      "text/plain": [
       "array([[ 0,  0,  0],\n",
       "       [ 0, 10,  0],\n",
       "       [20, 10,  0],\n",
       "       [20,  0,  0]])"
      ]
     },
     "execution_count": 46,
     "metadata": {},
     "output_type": "execute_result"
    }
   ],
   "source": [
    "MN"
   ]
  },
  {
   "cell_type": "code",
   "execution_count": 47,
   "id": "d557ac1a",
   "metadata": {},
   "outputs": [
    {
     "data": {
      "text/plain": [
       "array([[0.00e+00, 0.00e+00, 0.00e+00],\n",
       "       [0.00e+00, 0.00e+00, 0.00e+00],\n",
       "       [6.10e-03, 4.16e-05, 0.00e+00],\n",
       "       [6.64e-03, 1.04e-03, 0.00e+00]])"
      ]
     },
     "execution_count": 47,
     "metadata": {},
     "output_type": "execute_result"
    }
   ],
   "source": [
    "Dxyz"
   ]
  },
  {
   "cell_type": "code",
   "execution_count": 39,
   "id": "0d271b9b",
   "metadata": {},
   "outputs": [],
   "source": [
    "MNdeformada = MN + Dxyz*1e3"
   ]
  },
  {
   "cell_type": "code",
   "execution_count": 45,
   "id": "d92d3607",
   "metadata": {},
   "outputs": [
    {
     "data": {
      "text/plain": [
       "<matplotlib.legend.Legend at 0x7f597cb73a60>"
      ]
     },
     "execution_count": 45,
     "metadata": {},
     "output_type": "execute_result"
    },
    {
     "data": {
      "image/png": "[encoded data removed]",
      "text/plain": [
       "<Figure size 1008x504 with 1 Axes>"
      ]
     },
     "metadata": {
      "needs_background": "light"
     },
     "output_type": "display_data"
    }
   ],
   "source": [
    "plt.triplot(MN[:,0], MN[:,1], MC-1,label = 'orig')\n",
    "plt.triplot(MNdeformada[:,0], MNdeformada[:,1], MC-1, label='deformada (x 1e3)')\n",
    "plt.legend()"
   ]
  },
  {
   "cell_type": "code",
   "execution_count": null,
   "id": "cfc07cb7",
   "metadata": {},
   "outputs": [],
   "source": []
  }
 ],
 "metadata": {
  "kernelspec": {
   "display_name": "Python 3 (ipykernel)",
   "language": "python",
   "name": "python3"
  },
  "language_info": {
   "codemirror_mode": {
    "name": "ipython",
    "version": 3
   },
   "file_extension": ".py",
   "mimetype": "text/x-python",
   "name": "python",
   "nbconvert_exporter": "python",
   "pygments_lexer": "ipython3",
   "version": "3.9.12"
  }
 },
 "nbformat": 4,
 "nbformat_minor": 5
}
