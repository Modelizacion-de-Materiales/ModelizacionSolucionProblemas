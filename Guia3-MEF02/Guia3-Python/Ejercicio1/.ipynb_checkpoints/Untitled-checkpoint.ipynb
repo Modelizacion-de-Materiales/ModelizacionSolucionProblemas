{
 "cells": [
  {
   "cell_type": "code",
   "execution_count": 1,
   "id": "organic-period",
   "metadata": {},
   "outputs": [],
   "source": [
    "import gmsh\n",
    "import matplotlib.pyplot as plt\n",
    "plt.rc('figure',figsize=(10,10))\n",
    "plt.rc('axes',labelsize=24)\n",
    "plt.rc('xtick',labelsize=18)\n",
    "plt.rc('ytick',labelsize=18)\n",
    "\n",
    "import numpy as np"
   ]
  },
  {
   "cell_type": "code",
   "execution_count": 2,
   "id": "cathedral-decade",
   "metadata": {},
   "outputs": [],
   "source": [
    "gmsh.initialize()"
   ]
  },
  {
   "cell_type": "markdown",
   "id": "civil-hollow",
   "metadata": {},
   "source": [
    " aunque vallamos a poner los elementos a mano, necesitamos generar la superficie para asignarlos:"
   ]
  },
  {
   "cell_type": "code",
   "execution_count": 3,
   "id": "economic-knife",
   "metadata": {},
   "outputs": [],
   "source": [
    "lc = 1\n",
    "L = 10\n",
    "\n",
    "\n",
    "p1 = gmsh.model.geo.addPoint(0, 0, 0, lc/5)\n",
    "p2 = gmsh.model.geo.addPoint(L, 0, 0, lc) \n",
    "p3 = gmsh.model.geo.addPoint(L, L, 0, lc) \n",
    "p4 = gmsh.model.geo.addPoint(0, L, 0, lc/5)\n",
    "\n",
    "l1 = gmsh.model.geo.addLine(p1, p2)\n",
    "l2 = gmsh.model.geo.addLine(p2, p3)\n",
    "l3 = gmsh.model.geo.addLine(p3, p4)\n",
    "l4 = gmsh.model.geo.addLine(p4, p1)\n",
    "\n",
    "C1 = gmsh.model.geo.addCurveLoop([l1, l2, l3, l4])\n",
    "\n",
    "S1 = gmsh.model.geo.addPlaneSurface([C1])\n",
    "\n",
    "gmsh.model.geo.synchronize()"
   ]
  },
  {
   "cell_type": "code",
   "execution_count": 4,
   "id": "verified-wages",
   "metadata": {},
   "outputs": [],
   "source": [
    "Empotrado = gmsh.model.addPhysicalGroup(1, [l4])\n",
    "gmsh.model.setPhysicalName(1,Empotrado,'Empotrado')\n",
    "Traccionado = gmsh.model.addPhysicalGroup(1, [l2])\n",
    "gmsh.model.setPhysicalName(1,Traccionado,'Traccionado')\n",
    "Superficie = gmsh.model.addPhysicalGroup(2,[S1])\n",
    "gmsh.model.setPhysicalName(2,Superficie, 'Superficie')"
   ]
  },
  {
   "cell_type": "code",
   "execution_count": 5,
   "id": "metric-retreat",
   "metadata": {},
   "outputs": [],
   "source": [
    "L = 10\n",
    "MN = np.array(\n",
    "[\n",
    "    [0,0,0],\n",
    "    [2*L,0,0],\n",
    "    [2*L,L,0 ],\n",
    "    [0, L, 0]\n",
    "]\n",
    ")\n",
    "nodetags = np.linspace(1,MN.shape[0], MN.shape[0]).astype(int)"
   ]
  },
  {
   "cell_type": "code",
   "execution_count": 6,
   "id": "unexpected-wrapping",
   "metadata": {},
   "outputs": [],
   "source": [
    "MC = np.array([ [1,2,3], [1,3,4] ])\n",
    "#MC = "
   ]
  },
  {
   "cell_type": "code",
   "execution_count": 7,
   "id": "alpine-dimension",
   "metadata": {},
   "outputs": [],
   "source": [
    "Empotrados = np.array([1,4])\n",
    "Traccionados = np.array([2,3])"
   ]
  },
  {
   "cell_type": "code",
   "execution_count": 8,
   "id": "prescribed-survivor",
   "metadata": {},
   "outputs": [],
   "source": [
    "elementags = [[1,2]]"
   ]
  },
  {
   "cell_type": "code",
   "execution_count": 9,
   "id": "eleven-length",
   "metadata": {},
   "outputs": [],
   "source": [
    "gmsh.model.mesh.add_nodes(2,S1,nodetags, MN.ravel(),)"
   ]
  },
  {
   "cell_type": "code",
   "execution_count": 10,
   "id": "occupational-tuition",
   "metadata": {},
   "outputs": [],
   "source": [
    "gmsh.model.mesh.addElements(2, S1, [2], elementags, [MC.ravel()])"
   ]
  },
  {
   "cell_type": "code",
   "execution_count": 11,
   "id": "frozen-university",
   "metadata": {},
   "outputs": [],
   "source": [
    "gmsh.model.mesh.add_elements(1,l4, [1], [[len(nodetags)+1]], [Empotrados])"
   ]
  },
  {
   "cell_type": "code",
   "execution_count": 12,
   "id": "infectious-belgium",
   "metadata": {},
   "outputs": [],
   "source": [
    "gmsh.model.mesh.add_elements(1,l2, [1], [[len(nodetags)+2]], [Traccionados])"
   ]
  },
  {
   "cell_type": "code",
   "execution_count": 13,
   "id": "married-gibraltar",
   "metadata": {},
   "outputs": [],
   "source": [
    "gmsh.option.setNumber(\"Mesh.MshFileVersion\", 2.2)\n"
   ]
  },
  {
   "cell_type": "code",
   "execution_count": 14,
   "id": "dirty-forty",
   "metadata": {},
   "outputs": [],
   "source": [
    "gmsh.write('test.msh')"
   ]
  },
  {
   "cell_type": "code",
   "execution_count": 15,
   "id": "unnecessary-television",
   "metadata": {},
   "outputs": [],
   "source": [
    "gmsh.fltk.run()"
   ]
  },
  {
   "cell_type": "code",
   "execution_count": 16,
   "id": "delayed-table",
   "metadata": {},
   "outputs": [],
   "source": [
    "gmsh.finalize()"
   ]
  },
  {
   "cell_type": "code",
   "execution_count": null,
   "id": "metallic-trust",
   "metadata": {},
   "outputs": [],
   "source": []
  }
 ],
 "metadata": {
  "kernelspec": {
   "display_name": "Python 3",
   "language": "python",
   "name": "python3"
  },
  "language_info": {
   "codemirror_mode": {
    "name": "ipython",
    "version": 3
   },
   "file_extension": ".py",
   "mimetype": "text/x-python",
   "name": "python",
   "nbconvert_exporter": "python",
   "pygments_lexer": "ipython3",
   "version": "3.9.2"
  }
 },
 "nbformat": 4,
 "nbformat_minor": 5
}
