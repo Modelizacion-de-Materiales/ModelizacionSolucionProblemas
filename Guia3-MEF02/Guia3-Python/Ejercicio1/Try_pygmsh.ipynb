{
 "cells": [
  {
   "cell_type": "code",
   "execution_count": 1,
   "id": "376dea3d",
   "metadata": {},
   "outputs": [],
   "source": [
    "import gmsh\n",
    "import numpy as np"
   ]
  },
  {
   "cell_type": "markdown",
   "id": "166867ba",
   "metadata": {},
   "source": [
    "el metodo initialize 'abre' el programa."
   ]
  },
  {
   "cell_type": "code",
   "execution_count": 2,
   "id": "8c8f5022",
   "metadata": {},
   "outputs": [
    {
     "name": "stdout",
     "output_type": "stream",
     "text": [
      "Info    : Increasing process stack size (8192 kB < 16 MB)\n"
     ]
    }
   ],
   "source": [
    "gmsh.initialize()"
   ]
  },
  {
   "cell_type": "markdown",
   "id": "fead8922",
   "metadata": {},
   "source": [
    "'armamos' el modelo que queremos modificar:"
   ]
  },
  {
   "cell_type": "code",
   "execution_count": 3,
   "id": "18d4ca5b",
   "metadata": {},
   "outputs": [],
   "source": [
    "modelname = 'chapa_asimetrica'"
   ]
  },
  {
   "cell_type": "code",
   "execution_count": 4,
   "id": "adf09453",
   "metadata": {},
   "outputs": [],
   "source": [
    "gmsh.model.add(modelname)"
   ]
  },
  {
   "cell_type": "code",
   "execution_count": 5,
   "id": "f2c974cb",
   "metadata": {},
   "outputs": [],
   "source": [
    "L = 10\n",
    "lc = L"
   ]
  },
  {
   "cell_type": "markdown",
   "id": "db891141",
   "metadata": {},
   "source": [
    "Definimos las coordenadas de los puntos"
   ]
  },
  {
   "cell_type": "code",
   "execution_count": 6,
   "id": "593a7c0d",
   "metadata": {},
   "outputs": [],
   "source": [
    "p1 = gmsh.model.geo.addPoint(0, 0, 0, 2*L/10) #*2)\n",
    "p2 = gmsh.model.geo.addPoint(2*L, 0, 0, 2*L) #/2) \n",
    "p3 = gmsh.model.geo.addPoint(2*L, L, 0, 2*L) #*5) \n",
    "p4 = gmsh.model.geo.addPoint(0, L, 0, 2*L/10) #/5) "
   ]
  },
  {
   "cell_type": "markdown",
   "id": "b2864630",
   "metadata": {},
   "source": [
    "Luego definimos las lineas"
   ]
  },
  {
   "cell_type": "code",
   "execution_count": 7,
   "id": "9b3bf753",
   "metadata": {},
   "outputs": [],
   "source": [
    "l1 = gmsh.model.geo.addLine(p1, p2)\n",
    "l2 = gmsh.model.geo.addLine(p2, p3)\n",
    "l3 = gmsh.model.geo.addLine(p3, p4)\n",
    "l4 = gmsh.model.geo.addLine(p4, p1)"
   ]
  },
  {
   "cell_type": "markdown",
   "id": "9c410b40",
   "metadata": {},
   "source": [
    "Las curvas nos van a servir para definir los bordes de nuestro modelo."
   ]
  },
  {
   "cell_type": "code",
   "execution_count": 8,
   "id": "4e804878",
   "metadata": {},
   "outputs": [],
   "source": [
    "C1 = gmsh.model.geo.addCurveLoop([l1, l2, l3, l4])"
   ]
  },
  {
   "cell_type": "markdown",
   "id": "869cff48",
   "metadata": {},
   "source": [
    "Y las superficies:"
   ]
  },
  {
   "cell_type": "code",
   "execution_count": 9,
   "id": "1ab733bf",
   "metadata": {},
   "outputs": [],
   "source": [
    "S1 = gmsh.model.geo.addPlaneSurface([C1])"
   ]
  },
  {
   "cell_type": "markdown",
   "id": "89443a4b",
   "metadata": {},
   "source": [
    "le avisamos que ya estan todos los elementos geométricos:"
   ]
  },
  {
   "cell_type": "code",
   "execution_count": 10,
   "id": "70785b0c",
   "metadata": {},
   "outputs": [],
   "source": [
    "gmsh.model.geo.synchronize()"
   ]
  },
  {
   "cell_type": "markdown",
   "id": "7bba0833",
   "metadata": {},
   "source": [
    "Ahora definimos algo que nos va a servir para las condiciones de contorno."
   ]
  },
  {
   "cell_type": "markdown",
   "id": "cf519650",
   "metadata": {},
   "source": [
    "Y definimos `Grupos Físicos` para definir bordes, etc"
   ]
  },
  {
   "cell_type": "code",
   "execution_count": 11,
   "id": "a8cf74fe",
   "metadata": {},
   "outputs": [],
   "source": [
    "Empotrado = gmsh.model.addPhysicalGroup(1, [l4])\n",
    "gmsh.model.setPhysicalName(1,Empotrado,'Empotrado')"
   ]
  },
  {
   "cell_type": "code",
   "execution_count": 12,
   "id": "4784a45e",
   "metadata": {},
   "outputs": [],
   "source": [
    "Traccionado = gmsh.model.addPhysicalGroup(1, [l2])\n",
    "gmsh.model.setPhysicalName(1,Traccionado,'Traccionado')"
   ]
  },
  {
   "cell_type": "code",
   "execution_count": 13,
   "id": "9a15b655",
   "metadata": {},
   "outputs": [],
   "source": [
    "Superficie = gmsh.model.addPhysicalGroup(2,[S1])\n",
    "gmsh.model.setPhysicalName(2,Superficie, 'Superficie')"
   ]
  },
  {
   "cell_type": "markdown",
   "id": "2c9bb044",
   "metadata": {},
   "source": [
    "Finalemente generamos el mallado"
   ]
  },
  {
   "cell_type": "code",
   "execution_count": 14,
   "id": "6b91a608",
   "metadata": {},
   "outputs": [
    {
     "name": "stdout",
     "output_type": "stream",
     "text": [
      "Info    : Meshing 1D...\n",
      "Info    : [  0%] Meshing curve 1 (Line)\n",
      "Info    : [ 30%] Meshing curve 2 (Line)\n",
      "Info    : [ 50%] Meshing curve 3 (Line)\n",
      "Info    : [ 80%] Meshing curve 4 (Line)\n",
      "Info    : Done meshing 1D (Wall 0.00274018s, CPU 0.003279s)\n",
      "Info    : Meshing 2D...\n",
      "Info    : Meshing surface 1 (Plane, Frontal-Delaunay)\n",
      "Info    : Done meshing 2D (Wall 0.00571256s, CPU 0.002113s)\n",
      "Info    : 33 nodes 68 elements\n"
     ]
    }
   ],
   "source": [
    "gmsh.model.mesh.generate(2)"
   ]
  },
  {
   "cell_type": "code",
   "execution_count": 15,
   "id": "048d6e62",
   "metadata": {},
   "outputs": [
    {
     "name": "stdout",
     "output_type": "stream",
     "text": [
      "-------------------------------------------------------\n",
      "Version       : 4.8.4\n",
      "License       : GNU General Public License\n",
      "Build OS      : Linux64-sdk\n",
      "Build date    : 20210428\n",
      "Build host    : gmsh.info\n",
      "Build options : 64Bit ALGLIB ANN Bamg Blas[petsc] Blossom Cgns DIntegration Dlopen DomHex Eigen Fltk Gmm Hxt Jpeg[fltk] Kbipack Lapack[petsc] LinuxJoystick MathEx Med Mesh Metis Mmg Mpeg Netgen ONELAB ONELABMetamodel OpenCASCADE OpenCASCADE-CAF OpenGL OptHom PETSc Parser Plugins Png[fltk] Post QuadTri Solver TetGen/BR Voro++ Zlib[fltk]\n",
      "FLTK version  : 1.4.0\n",
      "PETSc version : 3.14.4 (real arithmtic)\n",
      "OCC version   : 7.6.0\n",
      "MED version   : 4.1.0\n",
      "Packaged by   : geuzaine\n",
      "Web site      : https://gmsh.info\n",
      "Issue tracker : https://gitlab.onelab.info/gmsh/gmsh/issues\n",
      "-------------------------------------------------------\n"
     ]
    }
   ],
   "source": [
    "gmsh.fltk.run()"
   ]
  },
  {
   "cell_type": "markdown",
   "id": "1f7b0670",
   "metadata": {},
   "source": [
    "# El objeto mesh"
   ]
  },
  {
   "cell_type": "markdown",
   "id": "3c4735fd",
   "metadata": {},
   "source": [
    "El mallado es un objeto del cual podemos recuperar la información necesaria para interactuar con nuestro motor de elementos finitos. Por ejemplo para la informacion de los nodos:"
   ]
  },
  {
   "cell_type": "code",
   "execution_count": 16,
   "id": "503127c0",
   "metadata": {},
   "outputs": [],
   "source": [
    "NodeInfo = gmsh.model.mesh.get_nodes()"
   ]
  },
  {
   "cell_type": "code",
   "execution_count": 17,
   "id": "4642a256",
   "metadata": {},
   "outputs": [
    {
     "data": {
      "text/plain": [
       "(99,)"
      ]
     },
     "execution_count": 17,
     "metadata": {},
     "output_type": "execute_result"
    }
   ],
   "source": [
    "NodeInfo[1].shape"
   ]
  },
  {
   "cell_type": "code",
   "execution_count": 18,
   "id": "72315b43",
   "metadata": {},
   "outputs": [
    {
     "data": {
      "text/plain": [
       "(array([ 1,  2,  3,  4,  5,  6,  7,  8,  9, 10, 11, 12, 13, 14, 15, 16, 17,\n",
       "        18, 19, 20, 21, 22, 23, 24, 25, 26, 27, 28, 29, 30, 31, 32, 33],\n",
       "       dtype=uint64),\n",
       " array([ 0.        ,  0.        ,  0.        , 20.        ,  0.        ,\n",
       "         0.        , 20.        , 10.        ,  0.        ,  0.        ,\n",
       "        10.        ,  0.        ,  2.02495291,  0.        ,  0.        ,\n",
       "         4.75034346,  0.        ,  0.        ,  8.41845537,  0.        ,\n",
       "         0.        , 13.35537932,  0.        ,  0.        , 13.35537932,\n",
       "        10.        ,  0.        ,  8.41845537, 10.        ,  0.        ,\n",
       "         4.75034346, 10.        ,  0.        ,  2.02495291, 10.        ,\n",
       "         0.        ,  0.        ,  8.        ,  0.        ,  0.        ,\n",
       "         6.        ,  0.        ,  0.        ,  4.        ,  0.        ,\n",
       "         0.        ,  2.        ,  0.        ,  1.81670355,  5.07522757,\n",
       "         0.        ,  5.90849776,  7.17305762,  0.        , 10.68517452,\n",
       "         3.6393624 ,  0.        ,  3.38906986,  1.887151  ,  0.        ,\n",
       "         3.1847594 ,  8.12688149,  0.        , 16.67768966,  5.07027953,\n",
       "         0.        ,  6.09816496,  2.27645611,  0.        ,  4.46289989,\n",
       "         4.5887877 ,  0.        ,  1.67748919,  7.        ,  0.        ,\n",
       "         1.80433463,  3.11976891,  0.        ,  9.9628909 ,  6.9850945 ,\n",
       "         0.        ,  7.59901872,  4.53236665,  0.        ,  3.3490608 ,\n",
       "         6.22152539,  0.        ,  8.20020339,  2.61204629,  0.        ,\n",
       "         1.46176349,  1.45489254,  0.        ,  1.46176349,  8.54510746,\n",
       "         0.        , 13.22091116,  5.91611679,  0.        ]),\n",
       " array([], dtype=float64))"
      ]
     },
     "execution_count": 18,
     "metadata": {},
     "output_type": "execute_result"
    }
   ],
   "source": [
    "NodeInfo"
   ]
  },
  {
   "cell_type": "markdown",
   "id": "b9f3aaab",
   "metadata": {},
   "source": [
    "esta variable node info guarda:\n",
    "- los numeros de nodo\n",
    "- la matriz de nodo"
   ]
  },
  {
   "cell_type": "code",
   "execution_count": 19,
   "id": "065a94aa",
   "metadata": {},
   "outputs": [],
   "source": [
    "NumeroNodos = NodeInfo[0].shape[0]"
   ]
  },
  {
   "cell_type": "code",
   "execution_count": 20,
   "id": "892933f0",
   "metadata": {},
   "outputs": [
    {
     "data": {
      "text/plain": [
       "33"
      ]
     },
     "execution_count": 20,
     "metadata": {},
     "output_type": "execute_result"
    }
   ],
   "source": [
    "NumeroNodos"
   ]
  },
  {
   "cell_type": "markdown",
   "id": "c39d1523",
   "metadata": {},
   "source": [
    "es la cantidad de nodos del modelo."
   ]
  },
  {
   "cell_type": "markdown",
   "id": "3e5d7ba8",
   "metadata": {},
   "source": [
    "La matriz de nodos es dada en lista, nos conviene pasarla a matriz para tener lo que venimos trabajando:"
   ]
  },
  {
   "cell_type": "code",
   "execution_count": 21,
   "id": "7c5b351b",
   "metadata": {},
   "outputs": [],
   "source": [
    "MN = NodeInfo[1].reshape(NumeroNodos , 3)"
   ]
  },
  {
   "cell_type": "code",
   "execution_count": 22,
   "id": "62279990",
   "metadata": {},
   "outputs": [
    {
     "data": {
      "text/plain": [
       "array([[ 0.        ,  0.        ,  0.        ],\n",
       "       [20.        ,  0.        ,  0.        ],\n",
       "       [20.        , 10.        ,  0.        ],\n",
       "       [ 0.        , 10.        ,  0.        ],\n",
       "       [ 2.02495291,  0.        ,  0.        ],\n",
       "       [ 4.75034346,  0.        ,  0.        ],\n",
       "       [ 8.41845537,  0.        ,  0.        ],\n",
       "       [13.35537932,  0.        ,  0.        ],\n",
       "       [13.35537932, 10.        ,  0.        ],\n",
       "       [ 8.41845537, 10.        ,  0.        ],\n",
       "       [ 4.75034346, 10.        ,  0.        ],\n",
       "       [ 2.02495291, 10.        ,  0.        ],\n",
       "       [ 0.        ,  8.        ,  0.        ],\n",
       "       [ 0.        ,  6.        ,  0.        ],\n",
       "       [ 0.        ,  4.        ,  0.        ],\n",
       "       [ 0.        ,  2.        ,  0.        ],\n",
       "       [ 1.81670355,  5.07522757,  0.        ],\n",
       "       [ 5.90849776,  7.17305762,  0.        ],\n",
       "       [10.68517452,  3.6393624 ,  0.        ],\n",
       "       [ 3.38906986,  1.887151  ,  0.        ],\n",
       "       [ 3.1847594 ,  8.12688149,  0.        ],\n",
       "       [16.67768966,  5.07027953,  0.        ],\n",
       "       [ 6.09816496,  2.27645611,  0.        ],\n",
       "       [ 4.46289989,  4.5887877 ,  0.        ],\n",
       "       [ 1.67748919,  7.        ,  0.        ],\n",
       "       [ 1.80433463,  3.11976891,  0.        ],\n",
       "       [ 9.9628909 ,  6.9850945 ,  0.        ],\n",
       "       [ 7.59901872,  4.53236665,  0.        ],\n",
       "       [ 3.3490608 ,  6.22152539,  0.        ],\n",
       "       [ 8.20020339,  2.61204629,  0.        ],\n",
       "       [ 1.46176349,  1.45489254,  0.        ],\n",
       "       [ 1.46176349,  8.54510746,  0.        ],\n",
       "       [13.22091116,  5.91611679,  0.        ]])"
      ]
     },
     "execution_count": 22,
     "metadata": {},
     "output_type": "execute_result"
    }
   ],
   "source": [
    "MN"
   ]
  },
  {
   "cell_type": "markdown",
   "id": "928867e4",
   "metadata": {},
   "source": [
    "## Elementos"
   ]
  },
  {
   "cell_type": "code",
   "execution_count": 23,
   "id": "b26a4715",
   "metadata": {},
   "outputs": [],
   "source": [
    "ElementInfo = gmsh.model.mesh.get_elements()"
   ]
  },
  {
   "cell_type": "markdown",
   "id": "4964296d",
   "metadata": {},
   "source": [
    "Este Objeto tiene mucha información:"
   ]
  },
  {
   "cell_type": "code",
   "execution_count": 24,
   "id": "55d4cbe4",
   "metadata": {},
   "outputs": [
    {
     "data": {
      "text/plain": [
       "(array([ 1,  2, 15], dtype=int32),\n",
       " [array([59, 60, 61, 62, 63,  1, 64, 65, 66, 67, 68,  2,  3,  4,  5,  6],\n",
       "        dtype=uint64),\n",
       "  array([ 7,  8,  9, 10, 11, 12, 13, 14, 15, 16, 17, 18, 19, 20, 21, 22, 23,\n",
       "         24, 25, 26, 27, 28, 29, 30, 31, 32, 33, 34, 35, 36, 37, 38, 39, 40,\n",
       "         41, 42, 43, 44, 45, 46, 47, 48, 49, 50, 51, 52, 53, 54],\n",
       "        dtype=uint64),\n",
       "  array([55, 56, 57, 58], dtype=uint64)],\n",
       " [array([ 1,  5,  5,  6,  6,  7,  7,  8,  8,  2,  2,  3,  3,  9,  9, 10, 10,\n",
       "         11, 11, 12, 12,  4,  4, 13, 13, 14, 14, 15, 15, 16, 16,  1],\n",
       "        dtype=uint64),\n",
       "  array([19,  8, 33, 24, 17, 26,  7, 19, 30, 18, 21, 29, 20, 24, 26, 18, 11,\n",
       "         21,  8,  2, 22,  7,  8, 19, 24, 18, 29,  3,  9, 22, 10, 11, 18, 11,\n",
       "         12, 21,  5,  6, 20,  8, 22, 33,  9, 10, 27, 22,  9, 33,  6,  7, 23,\n",
       "         21, 12, 32,  5, 20, 31, 20, 23, 24, 14, 15, 17, 13, 14, 25, 15, 16,\n",
       "         26, 17, 24, 29, 18, 24, 28,  1,  5, 31, 12,  4, 32, 16,  1, 31,  4,\n",
       "         13, 32, 19, 27, 28, 27, 18, 28, 10, 18, 27, 20,  6, 23, 17, 15, 26,\n",
       "         14, 17, 25, 19, 28, 30,  9, 27, 33, 24, 23, 28, 23,  7, 30, 25, 21,\n",
       "         32, 20, 26, 31, 13, 25, 32, 26, 16, 31, 25, 17, 29, 21, 25, 29, 27,\n",
       "         19, 33, 28, 23, 30,  2,  3, 22], dtype=uint64),\n",
       "  array([1, 2, 3, 4], dtype=uint64)])"
      ]
     },
     "execution_count": 24,
     "metadata": {},
     "output_type": "execute_result"
    }
   ],
   "source": [
    "ElementInfo"
   ]
  },
  {
   "cell_type": "markdown",
   "id": "8efb79e7",
   "metadata": {},
   "source": [
    "- los tipos de elementos"
   ]
  },
  {
   "cell_type": "code",
   "execution_count": 25,
   "id": "33f58777",
   "metadata": {},
   "outputs": [
    {
     "data": {
      "text/plain": [
       "array([ 1,  2, 15], dtype=int32)"
      ]
     },
     "execution_count": 25,
     "metadata": {},
     "output_type": "execute_result"
    }
   ],
   "source": [
    "ElementInfo[0]"
   ]
  },
  {
   "cell_type": "markdown",
   "id": "67de8ea8",
   "metadata": {},
   "source": [
    "Las etiquetas de los triángulos"
   ]
  },
  {
   "cell_type": "code",
   "execution_count": 26,
   "id": "67ef38de",
   "metadata": {},
   "outputs": [
    {
     "data": {
      "text/plain": [
       "array([ 7,  8,  9, 10, 11, 12, 13, 14, 15, 16, 17, 18, 19, 20, 21, 22, 23,\n",
       "       24, 25, 26, 27, 28, 29, 30, 31, 32, 33, 34, 35, 36, 37, 38, 39, 40,\n",
       "       41, 42, 43, 44, 45, 46, 47, 48, 49, 50, 51, 52, 53, 54],\n",
       "      dtype=uint64)"
      ]
     },
     "execution_count": 26,
     "metadata": {},
     "output_type": "execute_result"
    }
   ],
   "source": [
    "ElementInfo[1][1]"
   ]
  },
  {
   "cell_type": "code",
   "execution_count": 27,
   "id": "3a782b58",
   "metadata": {},
   "outputs": [
    {
     "data": {
      "text/plain": [
       "array([19,  8, 33, 24, 17, 26,  7, 19, 30, 18, 21, 29, 20, 24, 26, 18, 11,\n",
       "       21,  8,  2, 22,  7,  8, 19, 24, 18, 29,  3,  9, 22, 10, 11, 18, 11,\n",
       "       12, 21,  5,  6, 20,  8, 22, 33,  9, 10, 27, 22,  9, 33,  6,  7, 23,\n",
       "       21, 12, 32,  5, 20, 31, 20, 23, 24, 14, 15, 17, 13, 14, 25, 15, 16,\n",
       "       26, 17, 24, 29, 18, 24, 28,  1,  5, 31, 12,  4, 32, 16,  1, 31,  4,\n",
       "       13, 32, 19, 27, 28, 27, 18, 28, 10, 18, 27, 20,  6, 23, 17, 15, 26,\n",
       "       14, 17, 25, 19, 28, 30,  9, 27, 33, 24, 23, 28, 23,  7, 30, 25, 21,\n",
       "       32, 20, 26, 31, 13, 25, 32, 26, 16, 31, 25, 17, 29, 21, 25, 29, 27,\n",
       "       19, 33, 28, 23, 30,  2,  3, 22], dtype=uint64)"
      ]
     },
     "execution_count": 27,
     "metadata": {},
     "output_type": "execute_result"
    }
   ],
   "source": [
    "ElementInfo[2][1]"
   ]
  },
  {
   "cell_type": "code",
   "execution_count": 28,
   "id": "22ccb9c2",
   "metadata": {},
   "outputs": [],
   "source": [
    "ETYPES = ElementInfo[0]"
   ]
  },
  {
   "cell_type": "markdown",
   "id": "58552455",
   "metadata": {},
   "source": [
    "Podemos ser un poco más precabios y tomar solo los triángulos, que son los que nos interesan para la guía "
   ]
  },
  {
   "cell_type": "code",
   "execution_count": 29,
   "id": "0ade6478",
   "metadata": {},
   "outputs": [],
   "source": [
    "ETAGS, ELEMENTS = gmsh.model.mesh.get_elements_by_type(2)"
   ]
  },
  {
   "cell_type": "code",
   "execution_count": 30,
   "id": "a1258ac6",
   "metadata": {},
   "outputs": [
    {
     "data": {
      "text/plain": [
       "array([ 7,  8,  9, 10, 11, 12, 13, 14, 15, 16, 17, 18, 19, 20, 21, 22, 23,\n",
       "       24, 25, 26, 27, 28, 29, 30, 31, 32, 33, 34, 35, 36, 37, 38, 39, 40,\n",
       "       41, 42, 43, 44, 45, 46, 47, 48, 49, 50, 51, 52, 53, 54],\n",
       "      dtype=uint64)"
      ]
     },
     "execution_count": 30,
     "metadata": {},
     "output_type": "execute_result"
    }
   ],
   "source": [
    "ETAGS"
   ]
  },
  {
   "cell_type": "code",
   "execution_count": 31,
   "id": "b232bcaf",
   "metadata": {},
   "outputs": [
    {
     "data": {
      "text/plain": [
       "array([19,  8, 33, 24, 17, 26,  7, 19, 30, 18, 21, 29, 20, 24, 26, 18, 11,\n",
       "       21,  8,  2, 22,  7,  8, 19, 24, 18, 29,  3,  9, 22, 10, 11, 18, 11,\n",
       "       12, 21,  5,  6, 20,  8, 22, 33,  9, 10, 27, 22,  9, 33,  6,  7, 23,\n",
       "       21, 12, 32,  5, 20, 31, 20, 23, 24, 14, 15, 17, 13, 14, 25, 15, 16,\n",
       "       26, 17, 24, 29, 18, 24, 28,  1,  5, 31, 12,  4, 32, 16,  1, 31,  4,\n",
       "       13, 32, 19, 27, 28, 27, 18, 28, 10, 18, 27, 20,  6, 23, 17, 15, 26,\n",
       "       14, 17, 25, 19, 28, 30,  9, 27, 33, 24, 23, 28, 23,  7, 30, 25, 21,\n",
       "       32, 20, 26, 31, 13, 25, 32, 26, 16, 31, 25, 17, 29, 21, 25, 29, 27,\n",
       "       19, 33, 28, 23, 30,  2,  3, 22], dtype=uint64)"
      ]
     },
     "execution_count": 31,
     "metadata": {},
     "output_type": "execute_result"
    }
   ],
   "source": [
    "ELEMENTS"
   ]
  },
  {
   "cell_type": "markdown",
   "id": "b1ac971e",
   "metadata": {},
   "source": [
    "la matriz de conectividad también hay que reformatear para tener lo que estamos acostumbrados."
   ]
  },
  {
   "cell_type": "code",
   "execution_count": 32,
   "id": "fb7cd722",
   "metadata": {},
   "outputs": [],
   "source": [
    "MC = ELEMENTS.reshape([ETAGS.shape[0],3])"
   ]
  },
  {
   "cell_type": "code",
   "execution_count": 33,
   "id": "ecd4e1b1",
   "metadata": {},
   "outputs": [
    {
     "data": {
      "text/plain": [
       "array([[19,  8, 33],\n",
       "       [24, 17, 26],\n",
       "       [ 7, 19, 30],\n",
       "       [18, 21, 29],\n",
       "       [20, 24, 26],\n",
       "       [18, 11, 21],\n",
       "       [ 8,  2, 22],\n",
       "       [ 7,  8, 19],\n",
       "       [24, 18, 29],\n",
       "       [ 3,  9, 22],\n",
       "       [10, 11, 18],\n",
       "       [11, 12, 21],\n",
       "       [ 5,  6, 20],\n",
       "       [ 8, 22, 33],\n",
       "       [ 9, 10, 27],\n",
       "       [22,  9, 33],\n",
       "       [ 6,  7, 23],\n",
       "       [21, 12, 32],\n",
       "       [ 5, 20, 31],\n",
       "       [20, 23, 24],\n",
       "       [14, 15, 17],\n",
       "       [13, 14, 25],\n",
       "       [15, 16, 26],\n",
       "       [17, 24, 29],\n",
       "       [18, 24, 28],\n",
       "       [ 1,  5, 31],\n",
       "       [12,  4, 32],\n",
       "       [16,  1, 31],\n",
       "       [ 4, 13, 32],\n",
       "       [19, 27, 28],\n",
       "       [27, 18, 28],\n",
       "       [10, 18, 27],\n",
       "       [20,  6, 23],\n",
       "       [17, 15, 26],\n",
       "       [14, 17, 25],\n",
       "       [19, 28, 30],\n",
       "       [ 9, 27, 33],\n",
       "       [24, 23, 28],\n",
       "       [23,  7, 30],\n",
       "       [25, 21, 32],\n",
       "       [20, 26, 31],\n",
       "       [13, 25, 32],\n",
       "       [26, 16, 31],\n",
       "       [25, 17, 29],\n",
       "       [21, 25, 29],\n",
       "       [27, 19, 33],\n",
       "       [28, 23, 30],\n",
       "       [ 2,  3, 22]], dtype=uint64)"
      ]
     },
     "execution_count": 33,
     "metadata": {},
     "output_type": "execute_result"
    }
   ],
   "source": [
    "MC"
   ]
  },
  {
   "cell_type": "markdown",
   "id": "5ea63e00",
   "metadata": {},
   "source": [
    "# Condiciones de contorno"
   ]
  },
  {
   "cell_type": "markdown",
   "id": "7e96965d",
   "metadata": {},
   "source": [
    "Con las definiciones de los Physical Groups, podemos sacar los índices de los nodos que estan empotrados o traccionados. Necesitamos definir una 'entidad' para los elements Traccionados:"
   ]
  },
  {
   "cell_type": "code",
   "execution_count": 34,
   "id": "9d58ff3a",
   "metadata": {},
   "outputs": [],
   "source": [
    "entityTraccionada = gmsh.model.getEntitiesForPhysicalGroup(1, Traccionado)"
   ]
  },
  {
   "cell_type": "markdown",
   "id": "809e3db7",
   "metadata": {},
   "source": [
    "con esa entidad, podemos definir los elementos tipo línea:"
   ]
  },
  {
   "cell_type": "code",
   "execution_count": 35,
   "id": "80171791",
   "metadata": {},
   "outputs": [],
   "source": [
    "Tgroup, Ttraccionada, Ltraccionada = gmsh.model.mesh.getElements(1, entityTraccionada[0])"
   ]
  },
  {
   "cell_type": "code",
   "execution_count": 36,
   "id": "04c269ff",
   "metadata": {},
   "outputs": [
    {
     "data": {
      "text/plain": [
       "[array([1], dtype=uint64)]"
      ]
     },
     "execution_count": 36,
     "metadata": {},
     "output_type": "execute_result"
    }
   ],
   "source": [
    "Ttraccionada"
   ]
  },
  {
   "cell_type": "code",
   "execution_count": 37,
   "id": "930e53c1",
   "metadata": {},
   "outputs": [],
   "source": [
    "Ltraccionada = Ltraccionada[0].reshape(Ttraccionada[0].shape[0],2)"
   ]
  },
  {
   "cell_type": "code",
   "execution_count": 38,
   "id": "6b473ed9",
   "metadata": {},
   "outputs": [
    {
     "data": {
      "text/plain": [
       "array([[2, 3]], dtype=uint64)"
      ]
     },
     "execution_count": 38,
     "metadata": {},
     "output_type": "execute_result"
    }
   ],
   "source": [
    "Ltraccionada "
   ]
  },
  {
   "cell_type": "markdown",
   "id": "1cc515e3",
   "metadata": {},
   "source": [
    "Con los elementos líneas traccionadas podemos calcular las longitudes y distribuir la fuerza externa. "
   ]
  },
  {
   "cell_type": "code",
   "execution_count": 39,
   "id": "bdec411f",
   "metadata": {},
   "outputs": [],
   "source": [
    "Longitudes = np.abs( MN[Ltraccionada[:,0]-1,1] - MN[Ltraccionada[:,1]-1,1] )"
   ]
  },
  {
   "cell_type": "markdown",
   "id": "930e6d26",
   "metadata": {},
   "source": [
    "Ahora puedo calcular las fuerzas:"
   ]
  },
  {
   "cell_type": "code",
   "execution_count": 40,
   "id": "230cca9c",
   "metadata": {},
   "outputs": [
    {
     "name": "stdout",
     "output_type": "stream",
     "text": [
      "[[5000.]\n",
      " [5000.]]\n",
      "[[5000.]\n",
      " [5000.]]\n",
      "======\n"
     ]
    }
   ],
   "source": [
    "Fuerzas = np.zeros((2*NumeroNodos,1))\n",
    "espesor = 1\n",
    "tension = 1000 #Pa\n",
    "\n",
    "for l, linea in enumerate(Ltraccionada):\n",
    "    Flocal = np.array([[1],[1]])*tension*espesor*Longitudes[l]/2\n",
    "    n1 = linea[0]\n",
    "    n2 = linea[1]\n",
    "    #print(Flocal)\n",
    "    Fuerzas[ np.array([2*(n1-1), 2*(n2-1)], dtype=int)] += Flocal\n",
    "    print(Fuerzas[ np.array([2*(n1-1), 2*(n2-1)], dtype=int)])\n",
    "    print(Flocal )\n",
    "    print('======')\n",
    "Desplazamientos = np.zeros((2*NumeroNodos,1))"
   ]
  },
  {
   "cell_type": "code",
   "execution_count": 41,
   "id": "a818efa3",
   "metadata": {},
   "outputs": [
    {
     "data": {
      "text/plain": [
       "array([[2, 3]], dtype=uint64)"
      ]
     },
     "execution_count": 41,
     "metadata": {},
     "output_type": "execute_result"
    }
   ],
   "source": [
    "Ltraccionada"
   ]
  },
  {
   "cell_type": "code",
   "execution_count": 42,
   "id": "cc7f140e",
   "metadata": {},
   "outputs": [
    {
     "data": {
      "text/plain": [
       "array([[   0.],\n",
       "       [   0.],\n",
       "       [5000.],\n",
       "       [   0.],\n",
       "       [5000.],\n",
       "       [   0.],\n",
       "       [   0.],\n",
       "       [   0.],\n",
       "       [   0.],\n",
       "       [   0.],\n",
       "       [   0.],\n",
       "       [   0.],\n",
       "       [   0.],\n",
       "       [   0.],\n",
       "       [   0.],\n",
       "       [   0.],\n",
       "       [   0.],\n",
       "       [   0.],\n",
       "       [   0.],\n",
       "       [   0.],\n",
       "       [   0.],\n",
       "       [   0.],\n",
       "       [   0.],\n",
       "       [   0.],\n",
       "       [   0.],\n",
       "       [   0.],\n",
       "       [   0.],\n",
       "       [   0.],\n",
       "       [   0.],\n",
       "       [   0.],\n",
       "       [   0.],\n",
       "       [   0.],\n",
       "       [   0.],\n",
       "       [   0.],\n",
       "       [   0.],\n",
       "       [   0.],\n",
       "       [   0.],\n",
       "       [   0.],\n",
       "       [   0.],\n",
       "       [   0.],\n",
       "       [   0.],\n",
       "       [   0.],\n",
       "       [   0.],\n",
       "       [   0.],\n",
       "       [   0.],\n",
       "       [   0.],\n",
       "       [   0.],\n",
       "       [   0.],\n",
       "       [   0.],\n",
       "       [   0.],\n",
       "       [   0.],\n",
       "       [   0.],\n",
       "       [   0.],\n",
       "       [   0.],\n",
       "       [   0.],\n",
       "       [   0.],\n",
       "       [   0.],\n",
       "       [   0.],\n",
       "       [   0.],\n",
       "       [   0.],\n",
       "       [   0.],\n",
       "       [   0.],\n",
       "       [   0.],\n",
       "       [   0.],\n",
       "       [   0.],\n",
       "       [   0.]])"
      ]
     },
     "execution_count": 42,
     "metadata": {},
     "output_type": "execute_result"
    }
   ],
   "source": [
    "Fuerzas"
   ]
  },
  {
   "cell_type": "code",
   "execution_count": 43,
   "id": "8cca570c",
   "metadata": {},
   "outputs": [
    {
     "name": "stdout",
     "output_type": "stream",
     "text": [
      "-------------------------------------------------------\n",
      "Version       : 4.8.4\n",
      "License       : GNU General Public License\n",
      "Build OS      : Linux64-sdk\n",
      "Build date    : 20210428\n",
      "Build host    : gmsh.info\n",
      "Build options : 64Bit ALGLIB ANN Bamg Blas[petsc] Blossom Cgns DIntegration Dlopen DomHex Eigen Fltk Gmm Hxt Jpeg[fltk] Kbipack Lapack[petsc] LinuxJoystick MathEx Med Mesh Metis Mmg Mpeg Netgen ONELAB ONELABMetamodel OpenCASCADE OpenCASCADE-CAF OpenGL OptHom PETSc Parser Plugins Png[fltk] Post QuadTri Solver TetGen/BR Voro++ Zlib[fltk]\n",
      "FLTK version  : 1.4.0\n",
      "PETSc version : 3.14.4 (real arithmtic)\n",
      "OCC version   : 7.6.0\n",
      "MED version   : 4.1.0\n",
      "Packaged by   : geuzaine\n",
      "Web site      : https://gmsh.info\n",
      "Issue tracker : https://gitlab.onelab.info/gmsh/gmsh/issues\n",
      "-------------------------------------------------------\n"
     ]
    }
   ],
   "source": [
    "gmsh.fltk.run()"
   ]
  },
  {
   "cell_type": "markdown",
   "id": "e9303e9d",
   "metadata": {},
   "source": [
    "# Empotrados"
   ]
  },
  {
   "cell_type": "markdown",
   "id": "96e77367",
   "metadata": {},
   "source": [
    "Para definir los nodos empotrados necesito solamente los índices de los nodos en dicho physical group"
   ]
  },
  {
   "cell_type": "code",
   "execution_count": 44,
   "id": "3729e478",
   "metadata": {},
   "outputs": [],
   "source": [
    "NodosEmpotrados = gmsh.model.mesh.get_nodes_for_physical_group(1,Empotrado)"
   ]
  },
  {
   "cell_type": "code",
   "execution_count": 45,
   "id": "e9b1c8a3",
   "metadata": {},
   "outputs": [
    {
     "data": {
      "text/plain": [
       "array([ 1,  4, 13, 14, 15, 16], dtype=uint64)"
      ]
     },
     "execution_count": 45,
     "metadata": {},
     "output_type": "execute_result"
    }
   ],
   "source": [
    "NodosEmpotrados[0]"
   ]
  },
  {
   "cell_type": "markdown",
   "id": "22a32690",
   "metadata": {},
   "source": [
    "Con eso ya puedo calcular los valores de los índices de los nodos que resultarán empotrados."
   ]
  },
  {
   "cell_type": "code",
   "execution_count": 46,
   "id": "2ca317b7",
   "metadata": {},
   "outputs": [],
   "source": [
    "s = []\n",
    "for n, nodo in enumerate(NodosEmpotrados[0]):\n",
    "    s.append(\n",
    "        np.linspace(2*(nodo-1), 2*(nodo-1) +1, 2)\n",
    "    )\n",
    "s = np.array(s).astype(int).ravel()"
   ]
  },
  {
   "cell_type": "code",
   "execution_count": 47,
   "id": "48c26dd0",
   "metadata": {},
   "outputs": [
    {
     "data": {
      "text/plain": [
       "array([ 0,  1,  6,  7, 24, 25, 26, 27, 28, 29, 30, 31])"
      ]
     },
     "execution_count": 47,
     "metadata": {},
     "output_type": "execute_result"
    }
   ],
   "source": [
    "s"
   ]
  },
  {
   "cell_type": "code",
   "execution_count": 48,
   "id": "b427c2be",
   "metadata": {},
   "outputs": [],
   "source": [
    "Desplazamientos[2*(NodosEmpotrados[0]-1)] = 0\n",
    "Desplazamientos[2*(NodosEmpotrados[0]-1)+1] = 0"
   ]
  },
  {
   "cell_type": "markdown",
   "id": "d025d6a5",
   "metadata": {},
   "source": [
    "luego saco de r todo lo que puse en s:"
   ]
  },
  {
   "cell_type": "code",
   "execution_count": 49,
   "id": "a5f0f94c",
   "metadata": {},
   "outputs": [],
   "source": [
    "r = np.arange(2*NumeroNodos)"
   ]
  },
  {
   "cell_type": "code",
   "execution_count": 50,
   "id": "88ba55c7",
   "metadata": {},
   "outputs": [],
   "source": [
    "r = np.delete( r, s )"
   ]
  },
  {
   "cell_type": "code",
   "execution_count": 51,
   "id": "784ee026",
   "metadata": {},
   "outputs": [
    {
     "data": {
      "text/plain": [
       "array([[5000.],\n",
       "       [5000.]])"
      ]
     },
     "execution_count": 51,
     "metadata": {},
     "output_type": "execute_result"
    }
   ],
   "source": [
    "Fuerzas[2*(Ltraccionada.ravel()-1)]"
   ]
  },
  {
   "cell_type": "markdown",
   "id": "5083455f",
   "metadata": {},
   "source": [
    "# Nos divertimos un rato"
   ]
  },
  {
   "cell_type": "code",
   "execution_count": 52,
   "id": "d74850eb",
   "metadata": {},
   "outputs": [],
   "source": [
    "import matplotlib.pyplot as plt\n",
    "from matplotlib import quiver"
   ]
  },
  {
   "cell_type": "code",
   "execution_count": 53,
   "id": "99f759cf",
   "metadata": {},
   "outputs": [],
   "source": [
    "plt.style.use('default')\n",
    "plt.rc('figure',figsize=(15,10))"
   ]
  },
  {
   "cell_type": "code",
   "execution_count": 54,
   "id": "ea2d17d3",
   "metadata": {},
   "outputs": [],
   "source": [
    "Fx = Fuerzas[2*np.arange(NumeroNodos)]\n",
    "Fy = Fuerzas[2*np.arange(NumeroNodos)+1]"
   ]
  },
  {
   "cell_type": "code",
   "execution_count": 78,
   "id": "18c27613",
   "metadata": {},
   "outputs": [
    {
     "data": {
      "text/plain": [
       "(-1.0, 22.5)"
      ]
     },
     "execution_count": 78,
     "metadata": {},
     "output_type": "execute_result"
    },
    {
     "data": {
      "image/png": "[encoded data removed]",
      "text/plain": [
       "<Figure size 1500x1000 with 1 Axes>"
      ]
     },
     "metadata": {},
     "output_type": "display_data"
    }
   ],
   "source": [
    "#plt.plot(MN[:,0],MN[:,1],'ok')\n",
    "\n",
    "#plt.plot(MNE[:,0], MNE[:,1], label='Empotrados', lw = 5)\n",
    "#plt.plot(MNT[:,0], MNT[:,1], label='Traccionados', lw = 5)\n",
    "fig = plt.figure()\n",
    "ax = fig.add_axes([0.1, 0.2, 0.5, 0.6])\n",
    "ax.triplot(MN[:,0],MN[:,1],MC-MC.min(), )\n",
    "#ax.plot(MN[:,0],MN[:,1],'o')\n",
    "ax.quiver( MN[:,0], MN[:,1], Fx/5, Fy, linewidth=5, units='width', scale=10000)\n",
    "ax.set_xlim(-1, L+(Fx/400).max())"
   ]
  },
  {
   "cell_type": "markdown",
   "id": "6ff4dcac",
   "metadata": {},
   "source": [
    "# Agregar Resulatados"
   ]
  },
  {
   "cell_type": "code",
   "execution_count": 56,
   "id": "aa1c0462",
   "metadata": {},
   "outputs": [],
   "source": [
    "import mefmods as mef"
   ]
  },
  {
   "cell_type": "code",
   "execution_count": 57,
   "id": "fd6f4869",
   "metadata": {},
   "outputs": [],
   "source": [
    "ETYPES = 2*np.ones(len(MC)).astype(int)\n",
    "\n",
    "nu = 0.3\n",
    "\n",
    "E = 210E9\n",
    "\n",
    "MP = np.hstack(\n",
    "        (\n",
    "            np.ones((len(MC), 1)),\n",
    "            np.ones((len(MC), 1))*nu,\n",
    "            np.ones((len(MC), 1))*E\n",
    "            )\n",
    "        )"
   ]
  },
  {
   "cell_type": "code",
   "execution_count": 58,
   "id": "d8dbe44c",
   "metadata": {},
   "outputs": [],
   "source": [
    "K = mef.ensamble(MC-1, MN-1, MP, 2, ETYPES, 'Chapa-Asimetrica-2021')"
   ]
  },
  {
   "cell_type": "code",
   "execution_count": 59,
   "id": "e4d79922",
   "metadata": {},
   "outputs": [
    {
     "data": {
      "text/plain": [
       "array([ 0,  1,  6,  7, 24, 25, 26, 27, 28, 29, 30, 31])"
      ]
     },
     "execution_count": 59,
     "metadata": {},
     "output_type": "execute_result"
    }
   ],
   "source": [
    "s"
   ]
  },
  {
   "cell_type": "code",
   "execution_count": 60,
   "id": "b732fc2b",
   "metadata": {},
   "outputs": [
    {
     "data": {
      "text/plain": [
       "array([[   0.],\n",
       "       [   0.],\n",
       "       [5000.],\n",
       "       [   0.],\n",
       "       [5000.],\n",
       "       [   0.],\n",
       "       [   0.],\n",
       "       [   0.],\n",
       "       [   0.],\n",
       "       [   0.],\n",
       "       [   0.],\n",
       "       [   0.],\n",
       "       [   0.],\n",
       "       [   0.],\n",
       "       [   0.],\n",
       "       [   0.],\n",
       "       [   0.],\n",
       "       [   0.],\n",
       "       [   0.],\n",
       "       [   0.],\n",
       "       [   0.],\n",
       "       [   0.],\n",
       "       [   0.],\n",
       "       [   0.],\n",
       "       [   0.],\n",
       "       [   0.],\n",
       "       [   0.],\n",
       "       [   0.],\n",
       "       [   0.],\n",
       "       [   0.],\n",
       "       [   0.],\n",
       "       [   0.],\n",
       "       [   0.],\n",
       "       [   0.],\n",
       "       [   0.],\n",
       "       [   0.],\n",
       "       [   0.],\n",
       "       [   0.],\n",
       "       [   0.],\n",
       "       [   0.],\n",
       "       [   0.],\n",
       "       [   0.],\n",
       "       [   0.],\n",
       "       [   0.],\n",
       "       [   0.],\n",
       "       [   0.],\n",
       "       [   0.],\n",
       "       [   0.],\n",
       "       [   0.],\n",
       "       [   0.],\n",
       "       [   0.],\n",
       "       [   0.],\n",
       "       [   0.],\n",
       "       [   0.],\n",
       "       [   0.],\n",
       "       [   0.],\n",
       "       [   0.],\n",
       "       [   0.],\n",
       "       [   0.],\n",
       "       [   0.],\n",
       "       [   0.],\n",
       "       [   0.],\n",
       "       [   0.],\n",
       "       [   0.],\n",
       "       [   0.],\n",
       "       [   0.]])"
      ]
     },
     "execution_count": 60,
     "metadata": {},
     "output_type": "execute_result"
    }
   ],
   "source": [
    "Fuerzas"
   ]
  },
  {
   "cell_type": "code",
   "execution_count": 61,
   "id": "b084ae39",
   "metadata": {},
   "outputs": [
    {
     "data": {
      "text/plain": [
       "array([ 2,  3,  4,  5,  8,  9, 10, 11, 12, 13, 14, 15, 16, 17, 18, 19, 20, 21, 22, 23, 32, 33, 34,\n",
       "       35, 36, 37, 38, 39, 40, 41, 42, 43, 44, 45, 46, 47, 48, 49, 50, 51, 52, 53, 54, 55, 56, 57,\n",
       "       58, 59, 60, 61, 62, 63, 64, 65])"
      ]
     },
     "execution_count": 61,
     "metadata": {},
     "output_type": "execute_result"
    }
   ],
   "source": [
    "r"
   ]
  },
  {
   "cell_type": "code",
   "execution_count": 62,
   "id": "f9593cf6",
   "metadata": {},
   "outputs": [],
   "source": [
    "#Desplazamientos[r] = \n",
    "Desplazamientos, FResultado = mef.resolvermef(r,s,K,Desplazamientos[s], Fuerzas[r], 'Chapa-Asimetrica-2021')"
   ]
  },
  {
   "cell_type": "code",
   "execution_count": 63,
   "id": "e48a2eff",
   "metadata": {},
   "outputs": [],
   "source": [
    "Exy = np.hstack( (Fuerzas.reshape(NumeroNodos, 2) , np.zeros((NumeroNodos, 1))) )"
   ]
  },
  {
   "cell_type": "code",
   "execution_count": 64,
   "id": "85b0a937",
   "metadata": {},
   "outputs": [],
   "source": [
    "Rxy = np.hstack( (FResultado.reshape(NumeroNodos, 2) , np.zeros((NumeroNodos, 1))) )"
   ]
  },
  {
   "cell_type": "code",
   "execution_count": 65,
   "id": "f648b582",
   "metadata": {},
   "outputs": [],
   "source": [
    "Dxy = np.hstack( (Desplazamientos.reshape(NumeroNodos, 2) , np.zeros((NumeroNodos, 1))) )"
   ]
  },
  {
   "cell_type": "code",
   "execution_count": 66,
   "id": "5e0ed282",
   "metadata": {},
   "outputs": [
    {
     "data": {
      "text/plain": [
       "array([[ 0.00e+00,  0.00e+00,  0.00e+00],\n",
       "       [ 9.45e-08,  7.18e-09,  0.00e+00],\n",
       "       [ 9.45e-08, -7.11e-09,  0.00e+00],\n",
       "       [ 0.00e+00,  0.00e+00,  0.00e+00],\n",
       "       [ 1.04e-08,  5.00e-09,  0.00e+00],\n",
       "       [ 2.26e-08,  6.82e-09,  0.00e+00],\n",
       "       [ 3.95e-08,  7.28e-09,  0.00e+00],\n",
       "       [ 6.29e-08,  7.20e-09,  0.00e+00],\n",
       "       [ 6.28e-08, -7.15e-09,  0.00e+00],\n",
       "       [ 3.95e-08, -7.23e-09,  0.00e+00],\n",
       "       [ 2.25e-08, -6.82e-09,  0.00e+00],\n",
       "       [ 1.04e-08, -5.04e-09,  0.00e+00],\n",
       "       [ 0.00e+00,  0.00e+00,  0.00e+00],\n",
       "       [ 0.00e+00,  0.00e+00,  0.00e+00],\n",
       "       [ 0.00e+00,  0.00e+00,  0.00e+00],\n",
       "       [ 0.00e+00,  0.00e+00,  0.00e+00],\n",
       "       [ 7.75e-09, -1.15e-10,  0.00e+00],\n",
       "       [ 2.72e-08, -3.10e-09,  0.00e+00],\n",
       "       [ 5.01e-08,  2.02e-09,  0.00e+00],\n",
       "       [ 1.54e-08,  3.61e-09,  0.00e+00],\n",
       "       [ 1.44e-08, -3.56e-09,  0.00e+00],\n",
       "       [ 7.87e-08, -7.10e-11,  0.00e+00],\n",
       "       [ 2.82e-08,  3.92e-09,  0.00e+00],\n",
       "       [ 2.00e-08,  5.65e-10,  0.00e+00],\n",
       "       [ 7.14e-09, -1.27e-09,  0.00e+00],\n",
       "       [ 7.69e-09,  1.31e-09,  0.00e+00],\n",
       "       [ 4.66e-08, -2.88e-09,  0.00e+00],\n",
       "       [ 3.52e-08,  7.01e-10,  0.00e+00],\n",
       "       [ 1.48e-08, -1.30e-09,  0.00e+00],\n",
       "       [ 3.83e-08,  3.49e-09,  0.00e+00],\n",
       "       [ 6.46e-09,  2.20e-09,  0.00e+00],\n",
       "       [ 6.43e-09, -2.19e-09,  0.00e+00],\n",
       "       [ 6.22e-08, -1.29e-09,  0.00e+00]])"
      ]
     },
     "execution_count": 66,
     "metadata": {},
     "output_type": "execute_result"
    }
   ],
   "source": [
    "Dxy"
   ]
  },
  {
   "cell_type": "markdown",
   "id": "b2434248",
   "metadata": {},
   "source": [
    "# Guardo los resultados "
   ]
  },
  {
   "cell_type": "code",
   "execution_count": 67,
   "id": "fbf46b9e",
   "metadata": {},
   "outputs": [],
   "source": [
    "fext = gmsh.view.add('FuerzasExternas')\n",
    "Fext = gmsh.view.addModelData(fext,0,modelname,'NodeData',NodeInfo[0],Exy)"
   ]
  },
  {
   "cell_type": "code",
   "execution_count": 68,
   "id": "49415348",
   "metadata": {},
   "outputs": [],
   "source": [
    "despview = gmsh.view.add('Desplazamientos')\n",
    "Desp = gmsh.view.addModelData(despview,0,modelname,'NodeData',NodeInfo[0],Dxy)"
   ]
  },
  {
   "cell_type": "code",
   "execution_count": 69,
   "id": "9edc520f",
   "metadata": {},
   "outputs": [],
   "source": [
    "forview = gmsh.view.add('Fuerzas')\n",
    "Fza = gmsh.view.addModelData(forview,0,modelname,'NodeData',NodeInfo[0], Rxy)"
   ]
  },
  {
   "cell_type": "code",
   "execution_count": 70,
   "id": "aa6a14b3",
   "metadata": {},
   "outputs": [
    {
     "name": "stdout",
     "output_type": "stream",
     "text": [
      "-------------------------------------------------------\n",
      "Version       : 4.8.4\n",
      "License       : GNU General Public License\n",
      "Build OS      : Linux64-sdk\n",
      "Build date    : 20210428\n",
      "Build host    : gmsh.info\n",
      "Build options : 64Bit ALGLIB ANN Bamg Blas[petsc] Blossom Cgns DIntegration Dlopen DomHex Eigen Fltk Gmm Hxt Jpeg[fltk] Kbipack Lapack[petsc] LinuxJoystick MathEx Med Mesh Metis Mmg Mpeg Netgen ONELAB ONELABMetamodel OpenCASCADE OpenCASCADE-CAF OpenGL OptHom PETSc Parser Plugins Png[fltk] Post QuadTri Solver TetGen/BR Voro++ Zlib[fltk]\n",
      "FLTK version  : 1.4.0\n",
      "PETSc version : 3.14.4 (real arithmtic)\n",
      "OCC version   : 7.6.0\n",
      "MED version   : 4.1.0\n",
      "Packaged by   : geuzaine\n",
      "Web site      : https://gmsh.info\n",
      "Issue tracker : https://gitlab.onelab.info/gmsh/gmsh/issues\n",
      "-------------------------------------------------------\n"
     ]
    }
   ],
   "source": [
    "gmsh.fltk.run()"
   ]
  },
  {
   "cell_type": "code",
   "execution_count": 71,
   "id": "6989b5a6",
   "metadata": {},
   "outputs": [],
   "source": [
    "gmsh.finalize()"
   ]
  },
  {
   "cell_type": "code",
   "execution_count": null,
   "id": "1bf7b8f4",
   "metadata": {},
   "outputs": [],
   "source": []
  }
 ],
 "metadata": {
  "kernelspec": {
   "display_name": "Python 3 (ipykernel)",
   "language": "python",
   "name": "python3"
  },
  "language_info": {
   "codemirror_mode": {
    "name": "ipython",
    "version": 3
   },
   "file_extension": ".py",
   "mimetype": "text/x-python",
   "name": "python",
   "nbconvert_exporter": "python",
   "pygments_lexer": "ipython3",
   "version": "3.9.12"
  }
 },
 "nbformat": 4,
 "nbformat_minor": 5
}
