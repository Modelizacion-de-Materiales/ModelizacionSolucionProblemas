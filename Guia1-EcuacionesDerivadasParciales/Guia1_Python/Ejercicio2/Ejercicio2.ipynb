{
 "cells": [
  {
   "cell_type": "code",
   "execution_count": 1,
   "id": "d77877aa",
   "metadata": {},
   "outputs": [],
   "source": [
    "import ejercicio2 as ej\n",
    "import matplotlib.pyplot as plt\n",
    "import numpy as np\n",
    "from matplotlib.animation import FuncAnimation\n",
    "plt.style.use('default')\n",
    "plt.rc('figure', figsize = (15,8))\n",
    "plt.rc('font', size = 22)\n",
    "from IPython.display import HTML, display\n",
    "\n",
    "dt = 0.5\n",
    "dx = 2\n",
    "\n",
    "lam, T0 = ej.init(dt, dx)\n",
    "\n",
    "file1, file2, file3 = ej.resolv_explicito(lam, T0)\n",
    "ej.plotlistT(file1, dt, lam, dx=dx)\n",
    "\n",
    "filecn1, filecn2, filecn3 = ej.resolv_CN(lam, T0)\n",
    "ej.plotlistT(filecn1, dt, lam)\n",
    "\n",
    "F = np.loadtxt(file2)"
   ]
  },
  {
   "cell_type": "code",
   "execution_count": 2,
   "id": "9e6461bc",
   "metadata": {},
   "outputs": [],
   "source": [
    "plt.switch_backend('agg')"
   ]
  },
  {
   "cell_type": "code",
   "execution_count": 48,
   "id": "002c0972",
   "metadata": {},
   "outputs": [],
   "source": [
    "#fig = plt.figure()\n",
    "#ax = plt.axes() # subplots(1,1)\n",
    "class BarAnimaton:\n",
    "    \n",
    "    def __init__(self,listfile, lam, xlabel = 'x (cm)', ylabel = 'T (ºC)', dt=1, method = 'Excplicito'):\n",
    "        self.T = np.loadtxt(listfile)\n",
    "        self.figT = plt.figure()\n",
    "        self.axT = self.figT.add_subplot() #subplots(figsize = (15,8))\n",
    "        self.axT.set_xlabel(xlabel)\n",
    "        self.axT.set_ylabel(ylabel)\n",
    "        self.lamda = lam\n",
    "        self.dt = dt\n",
    "        self.title = self.axT.set_title(fr'Método {method}, $\\lambda = ${self.lamda}, t = 0 s')\n",
    "        self.x = np.linspace(0,1, self.T.shape[1])\n",
    "        self.lineT,  = self.axT.plot(self.x,self.T[0], lw=5) \n",
    "        self.method = method\n",
    "\n",
    "    def updateT(self, i):\n",
    "        self.lineT.set_data(self.x,self.T[i])\n",
    "        self.axT.set_title(fr'Método {self.method}, $\\lambda = ${self.lamda:.3f}, t = {dt*i:3.2f} s, dt = {self.dt}')\n",
    "        return self.lineT\n",
    "    \n",
    "#    def updateF(self, i):\n",
    "#        lineF[0].set_data(list(range(i)),self.F[:i,0])\n",
    "#        lineF[1].set_data(list(range(i)),self.F[:i,-1])\n",
    "#        return lineF\n",
    "\n",
    "    def do_animation(self, **kwargs):\n",
    "        self.animationT = FuncAnimation(self.figT, self.updateT, frames = self.T.shape[0], **kwargs)# , blit=True, repeat=True)\n",
    "#animationF = FuncAnimation(figF, updateF, fargs=(F,), frames = F.shape[0], interval=50)# , blit=True, repeat=True)"
   ]
  },
  {
   "cell_type": "markdown",
   "id": "d60f2166",
   "metadata": {},
   "source": [
    "animation.save('example.mp4')"
   ]
  },
  {
   "cell_type": "code",
   "execution_count": 49,
   "id": "05c2618a",
   "metadata": {},
   "outputs": [],
   "source": [
    "from importlib.machinery import SourceFileLoader\n",
    "ej = SourceFileLoader('ej', 'ejercicio2.py').load_module()"
   ]
  },
  {
   "cell_type": "code",
   "execution_count": 70,
   "id": "3691f312",
   "metadata": {},
   "outputs": [
    {
     "name": "stdout",
     "output_type": "stream",
     "text": [
      "Using matplotlib backend: Qt5Agg\n"
     ]
    }
   ],
   "source": [
    "dts = [2.0, 2.5, 2.7,2.75, 2.8]\n",
    "dx = 2\n",
    "%matplotlib auto\n",
    "animations = []\n",
    "implicitos = []\n",
    "lambdas = []\n",
    "files = {}\n",
    "for dt in dts:\n",
    "    lam, T0 = ej.init(dt, dx)\n",
    "    lambdas.append(lam)\n",
    "    files[lam] = {'explicito': ej.generic_resolv(lam, T0, method=ej.EXPLICITO)}\n",
    "    files[lam].update({'cranck-nicholson': ej.generic_resolv(lam, T0, method=ej.CN)})\n",
    "    animations.append(BarAnimaton(files[lam]['explicito']['tempfile'], lam, dt=dt))\n",
    "    explicitos[-1].do_animation()"
   ]
  },
  {
   "cell_type": "code",
   "execution_count": 93,
   "id": "8ea81c3c",
   "metadata": {},
   "outputs": [],
   "source": [
    "import mpld3"
   ]
  },
  {
   "cell_type": "code",
   "execution_count": 102,
   "id": "e36d5b7a",
   "metadata": {},
   "outputs": [],
   "source": [
    "mpld3.enable_notebook()"
   ]
  },
  {
   "cell_type": "code",
   "execution_count": 103,
   "id": "43c08523",
   "metadata": {},
   "outputs": [],
   "source": [
    "for (lam, thefiles), animation in zip(files.items(), explicitos):\n",
    "    html=solucion.animationT.to_html5_video()\n",
    "    E = np.loadtxt(thefiles['explicito']['errfile'])\n",
    "    fig, ax = plt.subplots()\n",
    "    ax.plot(E)\n",
    "    html += mpld3.fig_to_html(fig)\n",
    "    HTML(html)\n",
    "    "
   ]
  },
  {
   "cell_type": "code",
   "execution_count": 99,
   "id": "faf3cdf1",
   "metadata": {},
   "outputs": [],
   "source": [
    "fig = plt.figure()"
   ]
  },
  {
   "cell_type": "code",
   "execution_count": 101,
   "id": "ba31f76b",
   "metadata": {},
   "outputs": [
    {
     "data": {
      "text/plain": [
       "'<style>\\n\\n</style>\\n\\n<div id=\"fig_el289261398163396221603675729364\"></div>\\n<script>\\nfunction mpld3_load_lib(url, callback){\\n  var s = document.createElement(\\'script\\');\\n  s.src = url;\\n  s.async = true;\\n  s.onreadystatechange = s.onload = callback;\\n  s.onerror = function(){console.warn(\"failed to load library \" + url);};\\n  document.getElementsByTagName(\"head\")[0].appendChild(s);\\n}\\n\\nif(typeof(mpld3) !== \"undefined\" && mpld3._mpld3IsLoaded){\\n   // already loaded: just create the figure\\n   !function(mpld3){\\n       \\n       mpld3.draw_figure(\"fig_el289261398163396221603675729364\", {\"width\": 640.0, \"height\": 480.0, \"axes\": [], \"data\": {}, \"id\": \"el28926139816339622160\", \"plugins\": [{\"type\": \"reset\"}, {\"type\": \"zoom\", \"button\": true, \"enabled\": false}, {\"type\": \"boxzoom\", \"button\": true, \"enabled\": false}]});\\n   }(mpld3);\\n}else if(typeof define === \"function\" && define.amd){\\n   // require.js is available: use it to load d3/mpld3\\n   require.config({paths: {d3: \"https://d3js.org/d3.v5\"}});\\n   require([\"d3\"], function(d3){\\n      window.d3 = d3;\\n      mpld3_load_lib(\"https://mpld3.github.io/js/mpld3.v0.5.7.js\", function(){\\n         \\n         mpld3.draw_figure(\"fig_el289261398163396221603675729364\", {\"width\": 640.0, \"height\": 480.0, \"axes\": [], \"data\": {}, \"id\": \"el28926139816339622160\", \"plugins\": [{\"type\": \"reset\"}, {\"type\": \"zoom\", \"button\": true, \"enabled\": false}, {\"type\": \"boxzoom\", \"button\": true, \"enabled\": false}]});\\n      });\\n    });\\n}else{\\n    // require.js not available: dynamically load d3 & mpld3\\n    mpld3_load_lib(\"https://d3js.org/d3.v5.js\", function(){\\n         mpld3_load_lib(\"https://mpld3.github.io/js/mpld3.v0.5.7.js\", function(){\\n                 \\n                 mpld3.draw_figure(\"fig_el289261398163396221603675729364\", {\"width\": 640.0, \"height\": 480.0, \"axes\": [], \"data\": {}, \"id\": \"el28926139816339622160\", \"plugins\": [{\"type\": \"reset\"}, {\"type\": \"zoom\", \"button\": true, \"enabled\": false}, {\"type\": \"boxzoom\", \"button\": true, \"enabled\": false}]});\\n            })\\n         });\\n}\\n</script>'"
      ]
     },
     "execution_count": 101,
     "metadata": {},
     "output_type": "execute_result"
    }
   ],
   "source": [
    "mpld3.fig_to_html(fig,).strip()"
   ]
  },
  {
   "cell_type": "code",
   "execution_count": null,
   "id": "c1e46c87",
   "metadata": {},
   "outputs": [],
   "source": []
  }
 ],
 "metadata": {
  "kernelspec": {
   "display_name": "Python 3 (ipykernel)",
   "language": "python",
   "name": "python3"
  },
  "language_info": {
   "codemirror_mode": {
    "name": "ipython",
    "version": 3
   },
   "file_extension": ".py",
   "mimetype": "text/x-python",
   "name": "python",
   "nbconvert_exporter": "python",
   "pygments_lexer": "ipython3",
   "version": "3.9.12"
  }
 },
 "nbformat": 4,
 "nbformat_minor": 5
}
